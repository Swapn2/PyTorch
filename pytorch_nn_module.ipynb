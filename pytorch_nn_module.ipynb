{
  "nbformat": 4,
  "nbformat_minor": 0,
  "metadata": {
    "colab": {
      "provenance": [],
      "cell_execution_strategy": "setup",
      "authorship_tag": "ABX9TyMzeBWlu2SJeVn2bKx8wuq3",
      "include_colab_link": true
    },
    "kernelspec": {
      "name": "python3",
      "display_name": "Python 3"
    },
    "language_info": {
      "name": "python"
    }
  },
  "cells": [
    {
      "cell_type": "markdown",
      "metadata": {
        "id": "view-in-github",
        "colab_type": "text"
      },
      "source": [
        "<a href=\"https://colab.research.google.com/github/Swapn2/PyTorch/blob/main/pytorch_nn_module.ipynb\" target=\"_parent\"><img src=\"https://colab.research.google.com/assets/colab-badge.svg\" alt=\"Open In Colab\"/></a>"
      ]
    },
    {
      "cell_type": "code",
      "execution_count": 1,
      "metadata": {
        "id": "L_ttopeS9XHe"
      },
      "outputs": [],
      "source": [
        "import torch\n",
        "import torch.nn as nn"
      ]
    },
    {
      "cell_type": "code",
      "source": [
        "class Model(nn.Module):\n",
        "  def __init__(self, num_features):\n",
        "    super().__init__()\n",
        "    self.linear1 = nn.Linear(num_features,3)\n",
        "    self.relu = nn.ReLU()\n",
        "    self.linear2 = nn.Linear(3,1)\n",
        "    self.sigmoid = nn.Sigmoid()\n",
        "\n",
        "  def forward(self, features):\n",
        "    out = self.linear1(features)\n",
        "    out = self.relu(out)\n",
        "    out = self.linear2(out)\n",
        "    out = self.sigmoid(out)\n",
        "\n",
        "    return out\n"
      ],
      "metadata": {
        "id": "p1R2fkmf9nHW"
      },
      "execution_count": 11,
      "outputs": []
    },
    {
      "cell_type": "code",
      "source": [
        "features = torch.rand(10,5)\n"
      ],
      "metadata": {
        "id": "g75GIrFQ_G4M"
      },
      "execution_count": 12,
      "outputs": []
    },
    {
      "cell_type": "code",
      "source": [
        "model = Model(features.shape[1])\n",
        "# instead of # model.forward(features)\n",
        "# prefer this\n",
        "model(features)"
      ],
      "metadata": {
        "colab": {
          "base_uri": "https://localhost:8080/"
        },
        "id": "nVi2SfSr_O9l",
        "outputId": "6d5ee312-dd05-4d6f-a5c9-fc3525c1687d"
      },
      "execution_count": 13,
      "outputs": [
        {
          "output_type": "execute_result",
          "data": {
            "text/plain": [
              "tensor([[0.3472],\n",
              "        [0.3323],\n",
              "        [0.3685],\n",
              "        [0.3415],\n",
              "        [0.3558],\n",
              "        [0.3466],\n",
              "        [0.3339],\n",
              "        [0.3527],\n",
              "        [0.3549],\n",
              "        [0.3623]], grad_fn=<SigmoidBackward0>)"
            ]
          },
          "metadata": {},
          "execution_count": 13
        }
      ]
    },
    {
      "cell_type": "code",
      "source": [
        "model.linear1.weight"
      ],
      "metadata": {
        "colab": {
          "base_uri": "https://localhost:8080/"
        },
        "id": "qucAi-ZC_p2q",
        "outputId": "6d33e9a0-ec02-4d81-e859-edab7948d21e"
      },
      "execution_count": 14,
      "outputs": [
        {
          "output_type": "execute_result",
          "data": {
            "text/plain": [
              "Parameter containing:\n",
              "tensor([[ 0.4461,  0.0736, -0.1634, -0.1248,  0.0475],\n",
              "        [ 0.3663, -0.0691,  0.1610, -0.2005,  0.3308],\n",
              "        [-0.2668, -0.4038,  0.1877,  0.2498, -0.1664]], requires_grad=True)"
            ]
          },
          "metadata": {},
          "execution_count": 14
        }
      ]
    },
    {
      "cell_type": "code",
      "source": [
        "model.linear2.weight"
      ],
      "metadata": {
        "colab": {
          "base_uri": "https://localhost:8080/"
        },
        "id": "TDM7DuTv_059",
        "outputId": "0b0247ef-9a57-4e6f-da1a-ebb753a542f4"
      },
      "execution_count": 15,
      "outputs": [
        {
          "output_type": "execute_result",
          "data": {
            "text/plain": [
              "Parameter containing:\n",
              "tensor([[ 0.3524, -0.3569,  0.4036]], requires_grad=True)"
            ]
          },
          "metadata": {},
          "execution_count": 15
        }
      ]
    },
    {
      "cell_type": "code",
      "source": [
        "!pip install torchinfo"
      ],
      "metadata": {
        "colab": {
          "base_uri": "https://localhost:8080/"
        },
        "id": "lRhKzlYr_4DK",
        "outputId": "27639386-5d21-4d91-a20b-60edee10367b"
      },
      "execution_count": 7,
      "outputs": [
        {
          "output_type": "stream",
          "name": "stdout",
          "text": [
            "Collecting torchinfo\n",
            "  Downloading torchinfo-1.8.0-py3-none-any.whl.metadata (21 kB)\n",
            "Downloading torchinfo-1.8.0-py3-none-any.whl (23 kB)\n",
            "Installing collected packages: torchinfo\n",
            "Successfully installed torchinfo-1.8.0\n"
          ]
        }
      ]
    },
    {
      "cell_type": "code",
      "source": [
        "from torchinfo import summary"
      ],
      "metadata": {
        "id": "JMpeQEISAb0Z"
      },
      "execution_count": 16,
      "outputs": []
    },
    {
      "cell_type": "code",
      "source": [
        "summary(model,input_size=((10,5)))"
      ],
      "metadata": {
        "colab": {
          "base_uri": "https://localhost:8080/"
        },
        "id": "ILHaD8yHAevA",
        "outputId": "870e0005-7de8-4843-8b48-f10b72152be1"
      },
      "execution_count": 17,
      "outputs": [
        {
          "output_type": "execute_result",
          "data": {
            "text/plain": [
              "==========================================================================================\n",
              "Layer (type:depth-idx)                   Output Shape              Param #\n",
              "==========================================================================================\n",
              "Model                                    [10, 1]                   --\n",
              "├─Linear: 1-1                            [10, 3]                   18\n",
              "├─ReLU: 1-2                              [10, 3]                   --\n",
              "├─Linear: 1-3                            [10, 1]                   4\n",
              "├─Sigmoid: 1-4                           [10, 1]                   --\n",
              "==========================================================================================\n",
              "Total params: 22\n",
              "Trainable params: 22\n",
              "Non-trainable params: 0\n",
              "Total mult-adds (Units.MEGABYTES): 0.00\n",
              "==========================================================================================\n",
              "Input size (MB): 0.00\n",
              "Forward/backward pass size (MB): 0.00\n",
              "Params size (MB): 0.00\n",
              "Estimated Total Size (MB): 0.00\n",
              "=========================================================================================="
            ]
          },
          "metadata": {},
          "execution_count": 17
        }
      ]
    },
    {
      "cell_type": "code",
      "source": [
        "# ue of sequential container to make forward easy\n",
        "\n",
        "class Model(nn.Module):\n",
        "  def __init__(self, num_features):\n",
        "    super().__init__()\n",
        "    self.network = nn.Sequential(\n",
        "            nn.Linear(num_features,3),\n",
        "            nn.ReLU(),\n",
        "            nn.Linear(3,1),\n",
        "            nn.Sigmoid()\n",
        "\n",
        "    )\n",
        "  def forward(self, features):\n",
        "    out = self.network(features)\n",
        "\n",
        "    return out\n"
      ],
      "metadata": {
        "id": "5pYC-a7HArO1"
      },
      "execution_count": 21,
      "outputs": []
    },
    {
      "cell_type": "code",
      "source": [
        "features = torch.rand(10,5)\n"
      ],
      "metadata": {
        "id": "P-o7OLlvDN8D"
      },
      "execution_count": 22,
      "outputs": []
    },
    {
      "cell_type": "code",
      "source": [
        "model = Model(features.shape[1])\n",
        "# instead of # model.forward(features)\n",
        "# prefer this\n",
        "model(features)"
      ],
      "metadata": {
        "colab": {
          "base_uri": "https://localhost:8080/"
        },
        "id": "4qdZ3mYVDhUB",
        "outputId": "786109a9-4a8c-4b70-d321-2a2a949a7342"
      },
      "execution_count": 23,
      "outputs": [
        {
          "output_type": "execute_result",
          "data": {
            "text/plain": [
              "tensor([[0.4198],\n",
              "        [0.4198],\n",
              "        [0.4198],\n",
              "        [0.4198],\n",
              "        [0.4198],\n",
              "        [0.4088],\n",
              "        [0.4198],\n",
              "        [0.4198],\n",
              "        [0.4198],\n",
              "        [0.4092]], grad_fn=<SigmoidBackward0>)"
            ]
          },
          "metadata": {},
          "execution_count": 23
        }
      ]
    },
    {
      "cell_type": "code",
      "source": [
        "# Instead of model.weight, access the weights of the layers within the sequential model\n",
        "# Accessing the weight of the first linear layer (index 0 in the sequential model)\n",
        "print(\"Weight of the first linear layer:\")\n",
        "print(model.network[0].weight)\n",
        "\n",
        "# Accessing the weight of the second linear layer (index 2 in the sequential model)\n",
        "print(\"\\nWeight of the second linear layer:\")\n",
        "print(model.network[2].weight)"
      ],
      "metadata": {
        "colab": {
          "base_uri": "https://localhost:8080/"
        },
        "id": "uO2_I9J_Dju9",
        "outputId": "59b11b10-9d98-4942-9ec1-2b3a1a4b054a"
      },
      "execution_count": 26,
      "outputs": [
        {
          "output_type": "stream",
          "name": "stdout",
          "text": [
            "Weight of the first linear layer:\n",
            "Parameter containing:\n",
            "tensor([[-0.2042, -0.3128, -0.1309, -0.1132,  0.3904],\n",
            "        [-0.3486, -0.2487, -0.2929,  0.1231,  0.0361],\n",
            "        [-0.1810,  0.1881, -0.4342, -0.0205,  0.2576]], requires_grad=True)\n",
            "\n",
            "Weight of the second linear layer:\n",
            "Parameter containing:\n",
            "tensor([[ 0.0028,  0.2808, -0.2299]], requires_grad=True)\n"
          ]
        }
      ]
    },
    {
      "cell_type": "code",
      "source": [],
      "metadata": {
        "id": "znZDjogoDmz7"
      },
      "execution_count": null,
      "outputs": []
    }
  ]
}