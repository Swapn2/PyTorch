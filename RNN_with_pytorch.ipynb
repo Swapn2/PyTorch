{
  "nbformat": 4,
  "nbformat_minor": 0,
  "metadata": {
    "colab": {
      "provenance": [],
      "cell_execution_strategy": "setup",
      "authorship_tag": "ABX9TyOofdDq5J6frmMO6A1et/9U",
      "include_colab_link": true
    },
    "kernelspec": {
      "name": "python3",
      "display_name": "Python 3"
    },
    "language_info": {
      "name": "python"
    }
  },
  "cells": [
    {
      "cell_type": "markdown",
      "metadata": {
        "id": "view-in-github",
        "colab_type": "text"
      },
      "source": [
        "<a href=\"https://colab.research.google.com/github/Swapn2/PyTorch/blob/main/RNN_with_pytorch.ipynb\" target=\"_parent\"><img src=\"https://colab.research.google.com/assets/colab-badge.svg\" alt=\"Open In Colab\"/></a>"
      ]
    },
    {
      "cell_type": "code",
      "execution_count": 111,
      "metadata": {
        "id": "9Uur6HmniyPr"
      },
      "outputs": [],
      "source": [
        "import pandas as pd"
      ]
    },
    {
      "cell_type": "code",
      "source": [
        "df = pd.read_csv('/content/100_Unique_QA_Dataset.csv')"
      ],
      "metadata": {
        "id": "ccVjoQ0fnc0F"
      },
      "execution_count": 112,
      "outputs": []
    },
    {
      "cell_type": "code",
      "source": [
        "df.head()"
      ],
      "metadata": {
        "colab": {
          "base_uri": "https://localhost:8080/",
          "height": 206
        },
        "id": "qnD0i5oankjo",
        "outputId": "c74192d8-80b4-4034-d534-30b790cb91bc"
      },
      "execution_count": 113,
      "outputs": [
        {
          "output_type": "execute_result",
          "data": {
            "text/plain": [
              "                                          question      answer\n",
              "0                   What is the capital of France?       Paris\n",
              "1                  What is the capital of Germany?      Berlin\n",
              "2               Who wrote 'To Kill a Mockingbird'?  Harper-Lee\n",
              "3  What is the largest planet in our solar system?     Jupiter\n",
              "4   What is the boiling point of water in Celsius?         100"
            ],
            "text/html": [
              "\n",
              "  <div id=\"df-216bdf79-d7a9-4f00-b311-084bd3e0c012\" class=\"colab-df-container\">\n",
              "    <div>\n",
              "<style scoped>\n",
              "    .dataframe tbody tr th:only-of-type {\n",
              "        vertical-align: middle;\n",
              "    }\n",
              "\n",
              "    .dataframe tbody tr th {\n",
              "        vertical-align: top;\n",
              "    }\n",
              "\n",
              "    .dataframe thead th {\n",
              "        text-align: right;\n",
              "    }\n",
              "</style>\n",
              "<table border=\"1\" class=\"dataframe\">\n",
              "  <thead>\n",
              "    <tr style=\"text-align: right;\">\n",
              "      <th></th>\n",
              "      <th>question</th>\n",
              "      <th>answer</th>\n",
              "    </tr>\n",
              "  </thead>\n",
              "  <tbody>\n",
              "    <tr>\n",
              "      <th>0</th>\n",
              "      <td>What is the capital of France?</td>\n",
              "      <td>Paris</td>\n",
              "    </tr>\n",
              "    <tr>\n",
              "      <th>1</th>\n",
              "      <td>What is the capital of Germany?</td>\n",
              "      <td>Berlin</td>\n",
              "    </tr>\n",
              "    <tr>\n",
              "      <th>2</th>\n",
              "      <td>Who wrote 'To Kill a Mockingbird'?</td>\n",
              "      <td>Harper-Lee</td>\n",
              "    </tr>\n",
              "    <tr>\n",
              "      <th>3</th>\n",
              "      <td>What is the largest planet in our solar system?</td>\n",
              "      <td>Jupiter</td>\n",
              "    </tr>\n",
              "    <tr>\n",
              "      <th>4</th>\n",
              "      <td>What is the boiling point of water in Celsius?</td>\n",
              "      <td>100</td>\n",
              "    </tr>\n",
              "  </tbody>\n",
              "</table>\n",
              "</div>\n",
              "    <div class=\"colab-df-buttons\">\n",
              "\n",
              "  <div class=\"colab-df-container\">\n",
              "    <button class=\"colab-df-convert\" onclick=\"convertToInteractive('df-216bdf79-d7a9-4f00-b311-084bd3e0c012')\"\n",
              "            title=\"Convert this dataframe to an interactive table.\"\n",
              "            style=\"display:none;\">\n",
              "\n",
              "  <svg xmlns=\"http://www.w3.org/2000/svg\" height=\"24px\" viewBox=\"0 -960 960 960\">\n",
              "    <path d=\"M120-120v-720h720v720H120Zm60-500h600v-160H180v160Zm220 220h160v-160H400v160Zm0 220h160v-160H400v160ZM180-400h160v-160H180v160Zm440 0h160v-160H620v160ZM180-180h160v-160H180v160Zm440 0h160v-160H620v160Z\"/>\n",
              "  </svg>\n",
              "    </button>\n",
              "\n",
              "  <style>\n",
              "    .colab-df-container {\n",
              "      display:flex;\n",
              "      gap: 12px;\n",
              "    }\n",
              "\n",
              "    .colab-df-convert {\n",
              "      background-color: #E8F0FE;\n",
              "      border: none;\n",
              "      border-radius: 50%;\n",
              "      cursor: pointer;\n",
              "      display: none;\n",
              "      fill: #1967D2;\n",
              "      height: 32px;\n",
              "      padding: 0 0 0 0;\n",
              "      width: 32px;\n",
              "    }\n",
              "\n",
              "    .colab-df-convert:hover {\n",
              "      background-color: #E2EBFA;\n",
              "      box-shadow: 0px 1px 2px rgba(60, 64, 67, 0.3), 0px 1px 3px 1px rgba(60, 64, 67, 0.15);\n",
              "      fill: #174EA6;\n",
              "    }\n",
              "\n",
              "    .colab-df-buttons div {\n",
              "      margin-bottom: 4px;\n",
              "    }\n",
              "\n",
              "    [theme=dark] .colab-df-convert {\n",
              "      background-color: #3B4455;\n",
              "      fill: #D2E3FC;\n",
              "    }\n",
              "\n",
              "    [theme=dark] .colab-df-convert:hover {\n",
              "      background-color: #434B5C;\n",
              "      box-shadow: 0px 1px 3px 1px rgba(0, 0, 0, 0.15);\n",
              "      filter: drop-shadow(0px 1px 2px rgba(0, 0, 0, 0.3));\n",
              "      fill: #FFFFFF;\n",
              "    }\n",
              "  </style>\n",
              "\n",
              "    <script>\n",
              "      const buttonEl =\n",
              "        document.querySelector('#df-216bdf79-d7a9-4f00-b311-084bd3e0c012 button.colab-df-convert');\n",
              "      buttonEl.style.display =\n",
              "        google.colab.kernel.accessAllowed ? 'block' : 'none';\n",
              "\n",
              "      async function convertToInteractive(key) {\n",
              "        const element = document.querySelector('#df-216bdf79-d7a9-4f00-b311-084bd3e0c012');\n",
              "        const dataTable =\n",
              "          await google.colab.kernel.invokeFunction('convertToInteractive',\n",
              "                                                    [key], {});\n",
              "        if (!dataTable) return;\n",
              "\n",
              "        const docLinkHtml = 'Like what you see? Visit the ' +\n",
              "          '<a target=\"_blank\" href=https://colab.research.google.com/notebooks/data_table.ipynb>data table notebook</a>'\n",
              "          + ' to learn more about interactive tables.';\n",
              "        element.innerHTML = '';\n",
              "        dataTable['output_type'] = 'display_data';\n",
              "        await google.colab.output.renderOutput(dataTable, element);\n",
              "        const docLink = document.createElement('div');\n",
              "        docLink.innerHTML = docLinkHtml;\n",
              "        element.appendChild(docLink);\n",
              "      }\n",
              "    </script>\n",
              "  </div>\n",
              "\n",
              "\n",
              "    <div id=\"df-0b3b822a-ed30-42cc-9816-a5968af5a524\">\n",
              "      <button class=\"colab-df-quickchart\" onclick=\"quickchart('df-0b3b822a-ed30-42cc-9816-a5968af5a524')\"\n",
              "                title=\"Suggest charts\"\n",
              "                style=\"display:none;\">\n",
              "\n",
              "<svg xmlns=\"http://www.w3.org/2000/svg\" height=\"24px\"viewBox=\"0 0 24 24\"\n",
              "     width=\"24px\">\n",
              "    <g>\n",
              "        <path d=\"M19 3H5c-1.1 0-2 .9-2 2v14c0 1.1.9 2 2 2h14c1.1 0 2-.9 2-2V5c0-1.1-.9-2-2-2zM9 17H7v-7h2v7zm4 0h-2V7h2v10zm4 0h-2v-4h2v4z\"/>\n",
              "    </g>\n",
              "</svg>\n",
              "      </button>\n",
              "\n",
              "<style>\n",
              "  .colab-df-quickchart {\n",
              "      --bg-color: #E8F0FE;\n",
              "      --fill-color: #1967D2;\n",
              "      --hover-bg-color: #E2EBFA;\n",
              "      --hover-fill-color: #174EA6;\n",
              "      --disabled-fill-color: #AAA;\n",
              "      --disabled-bg-color: #DDD;\n",
              "  }\n",
              "\n",
              "  [theme=dark] .colab-df-quickchart {\n",
              "      --bg-color: #3B4455;\n",
              "      --fill-color: #D2E3FC;\n",
              "      --hover-bg-color: #434B5C;\n",
              "      --hover-fill-color: #FFFFFF;\n",
              "      --disabled-bg-color: #3B4455;\n",
              "      --disabled-fill-color: #666;\n",
              "  }\n",
              "\n",
              "  .colab-df-quickchart {\n",
              "    background-color: var(--bg-color);\n",
              "    border: none;\n",
              "    border-radius: 50%;\n",
              "    cursor: pointer;\n",
              "    display: none;\n",
              "    fill: var(--fill-color);\n",
              "    height: 32px;\n",
              "    padding: 0;\n",
              "    width: 32px;\n",
              "  }\n",
              "\n",
              "  .colab-df-quickchart:hover {\n",
              "    background-color: var(--hover-bg-color);\n",
              "    box-shadow: 0 1px 2px rgba(60, 64, 67, 0.3), 0 1px 3px 1px rgba(60, 64, 67, 0.15);\n",
              "    fill: var(--button-hover-fill-color);\n",
              "  }\n",
              "\n",
              "  .colab-df-quickchart-complete:disabled,\n",
              "  .colab-df-quickchart-complete:disabled:hover {\n",
              "    background-color: var(--disabled-bg-color);\n",
              "    fill: var(--disabled-fill-color);\n",
              "    box-shadow: none;\n",
              "  }\n",
              "\n",
              "  .colab-df-spinner {\n",
              "    border: 2px solid var(--fill-color);\n",
              "    border-color: transparent;\n",
              "    border-bottom-color: var(--fill-color);\n",
              "    animation:\n",
              "      spin 1s steps(1) infinite;\n",
              "  }\n",
              "\n",
              "  @keyframes spin {\n",
              "    0% {\n",
              "      border-color: transparent;\n",
              "      border-bottom-color: var(--fill-color);\n",
              "      border-left-color: var(--fill-color);\n",
              "    }\n",
              "    20% {\n",
              "      border-color: transparent;\n",
              "      border-left-color: var(--fill-color);\n",
              "      border-top-color: var(--fill-color);\n",
              "    }\n",
              "    30% {\n",
              "      border-color: transparent;\n",
              "      border-left-color: var(--fill-color);\n",
              "      border-top-color: var(--fill-color);\n",
              "      border-right-color: var(--fill-color);\n",
              "    }\n",
              "    40% {\n",
              "      border-color: transparent;\n",
              "      border-right-color: var(--fill-color);\n",
              "      border-top-color: var(--fill-color);\n",
              "    }\n",
              "    60% {\n",
              "      border-color: transparent;\n",
              "      border-right-color: var(--fill-color);\n",
              "    }\n",
              "    80% {\n",
              "      border-color: transparent;\n",
              "      border-right-color: var(--fill-color);\n",
              "      border-bottom-color: var(--fill-color);\n",
              "    }\n",
              "    90% {\n",
              "      border-color: transparent;\n",
              "      border-bottom-color: var(--fill-color);\n",
              "    }\n",
              "  }\n",
              "</style>\n",
              "\n",
              "      <script>\n",
              "        async function quickchart(key) {\n",
              "          const quickchartButtonEl =\n",
              "            document.querySelector('#' + key + ' button');\n",
              "          quickchartButtonEl.disabled = true;  // To prevent multiple clicks.\n",
              "          quickchartButtonEl.classList.add('colab-df-spinner');\n",
              "          try {\n",
              "            const charts = await google.colab.kernel.invokeFunction(\n",
              "                'suggestCharts', [key], {});\n",
              "          } catch (error) {\n",
              "            console.error('Error during call to suggestCharts:', error);\n",
              "          }\n",
              "          quickchartButtonEl.classList.remove('colab-df-spinner');\n",
              "          quickchartButtonEl.classList.add('colab-df-quickchart-complete');\n",
              "        }\n",
              "        (() => {\n",
              "          let quickchartButtonEl =\n",
              "            document.querySelector('#df-0b3b822a-ed30-42cc-9816-a5968af5a524 button');\n",
              "          quickchartButtonEl.style.display =\n",
              "            google.colab.kernel.accessAllowed ? 'block' : 'none';\n",
              "        })();\n",
              "      </script>\n",
              "    </div>\n",
              "\n",
              "    </div>\n",
              "  </div>\n"
            ],
            "application/vnd.google.colaboratory.intrinsic+json": {
              "type": "dataframe",
              "variable_name": "df",
              "summary": "{\n  \"name\": \"df\",\n  \"rows\": 90,\n  \"fields\": [\n    {\n      \"column\": \"question\",\n      \"properties\": {\n        \"dtype\": \"string\",\n        \"num_unique_values\": 90,\n        \"samples\": [\n          \"What is the currency of China?\",\n          \"What is the capital of Australia?\",\n          \"Who discovered electricity?\"\n        ],\n        \"semantic_type\": \"\",\n        \"description\": \"\"\n      }\n    },\n    {\n      \"column\": \"answer\",\n      \"properties\": {\n        \"dtype\": \"string\",\n        \"num_unique_values\": 85,\n        \"samples\": [\n          \"ChristopherColumbus\",\n          \"Paris\",\n          \"Christmas\"\n        ],\n        \"semantic_type\": \"\",\n        \"description\": \"\"\n      }\n    }\n  ]\n}"
            }
          },
          "metadata": {},
          "execution_count": 113
        }
      ]
    },
    {
      "cell_type": "code",
      "source": [
        "# tokenize\n",
        "def tokenize(text):\n",
        "  text = text.lower()\n",
        "  text = text.replace('?','')\n",
        "  text = text.replace(\"'\",'')\n",
        "  return text.split()"
      ],
      "metadata": {
        "id": "icfRNL58nmOu"
      },
      "execution_count": 114,
      "outputs": []
    },
    {
      "cell_type": "code",
      "source": [
        "# # vocab\n",
        "# vocab = {'UNK' : 0} # if in future user ask something which is not in dictionary the we will use this token\n",
        "\n",
        "# def build_vocab(row):\n",
        "#   print(row['question'] ,row['answer'])"
      ],
      "metadata": {
        "id": "y69BuZBNnpy_"
      },
      "execution_count": 115,
      "outputs": []
    },
    {
      "cell_type": "code",
      "source": [
        "# df.apply(build_vocab,axis = 1)"
      ],
      "metadata": {
        "id": "-jyMA123pfoc"
      },
      "execution_count": 116,
      "outputs": []
    },
    {
      "cell_type": "code",
      "source": [
        "# # vocab\n",
        "# vocab = {'UNK' : 0} # if in future user ask something which is not in dictionary the we will use this token\n",
        "\n",
        "# def build_vocab(row):\n",
        "#   tokenized_question = tokenize(row['question'])\n",
        "#   tokenized_answer = tokenize(row['answer'])\n",
        "#   print(tokenized_question , tokenized_answer)\n",
        "\n",
        "# df.apply(build_vocab,axis = 1)"
      ],
      "metadata": {
        "id": "Yw2kXNganvKd"
      },
      "execution_count": 117,
      "outputs": []
    },
    {
      "cell_type": "code",
      "source": [],
      "metadata": {
        "id": "lP60ewX5q2CX"
      },
      "execution_count": 117,
      "outputs": []
    },
    {
      "cell_type": "code",
      "source": [
        "# vocab\n",
        "vocab = {'UNK' : 0} # if in future user ask something which is not in dictionary the we will use this token\n",
        "\n",
        "def build_vocab(row):\n",
        "  tokenized_question = tokenize(row['question'])\n",
        "  tokenized_answer = tokenize(row['answer'])\n",
        "  merge_toke = tokenized_question + tokenized_answer\n",
        "  for token in merge_toke:\n",
        "    if token not in vocab:\n",
        "      vocab[token] = len(vocab)\n",
        "\n",
        "df.apply(build_vocab,axis = 1)\n",
        "print(vocab)"
      ],
      "metadata": {
        "colab": {
          "base_uri": "https://localhost:8080/"
        },
        "id": "vIndIYDrrUbH",
        "outputId": "92409fd0-0e3f-413c-b473-10a40f51edf5"
      },
      "execution_count": 118,
      "outputs": [
        {
          "output_type": "stream",
          "name": "stdout",
          "text": [
            "{'UNK': 0, 'what': 1, 'is': 2, 'the': 3, 'capital': 4, 'of': 5, 'france': 6, 'paris': 7, 'germany': 8, 'berlin': 9, 'who': 10, 'wrote': 11, 'to': 12, 'kill': 13, 'a': 14, 'mockingbird': 15, 'harper-lee': 16, 'largest': 17, 'planet': 18, 'in': 19, 'our': 20, 'solar': 21, 'system': 22, 'jupiter': 23, 'boiling': 24, 'point': 25, 'water': 26, 'celsius': 27, '100': 28, 'painted': 29, 'mona': 30, 'lisa': 31, 'leonardo-da-vinci': 32, 'square': 33, 'root': 34, '64': 35, '8': 36, 'chemical': 37, 'symbol': 38, 'for': 39, 'gold': 40, 'au': 41, 'which': 42, 'year': 43, 'did': 44, 'world': 45, 'war': 46, 'ii': 47, 'end': 48, '1945': 49, 'longest': 50, 'river': 51, 'nile': 52, 'japan': 53, 'tokyo': 54, 'developed': 55, 'theory': 56, 'relativity': 57, 'albert-einstein': 58, 'freezing': 59, 'fahrenheit': 60, '32': 61, 'known': 62, 'as': 63, 'red': 64, 'mars': 65, 'author': 66, '1984': 67, 'george-orwell': 68, 'currency': 69, 'united': 70, 'kingdom': 71, 'pound': 72, 'india': 73, 'delhi': 74, 'discovered': 75, 'gravity': 76, 'newton': 77, 'how': 78, 'many': 79, 'continents': 80, 'are': 81, 'there': 82, 'on': 83, 'earth': 84, '7': 85, 'gas': 86, 'do': 87, 'plants': 88, 'use': 89, 'photosynthesis': 90, 'co2': 91, 'smallest': 92, 'prime': 93, 'number': 94, '2': 95, 'invented': 96, 'telephone': 97, 'alexander-graham-bell': 98, 'australia': 99, 'canberra': 100, 'ocean': 101, 'pacific-ocean': 102, 'speed': 103, 'light': 104, 'vacuum': 105, '299,792,458m/s': 106, 'language': 107, 'spoken': 108, 'brazil': 109, 'portuguese': 110, 'penicillin': 111, 'alexander-fleming': 112, 'canada': 113, 'ottawa': 114, 'mammal': 115, 'whale': 116, 'element': 117, 'has': 118, 'atomic': 119, '1': 120, 'hydrogen': 121, 'tallest': 122, 'mountain': 123, 'everest': 124, 'city': 125, 'big': 126, 'apple': 127, 'newyork': 128, 'planets': 129, 'starry': 130, 'night': 131, 'vangogh': 132, 'formula': 133, 'h2o': 134, 'italy': 135, 'rome': 136, 'country': 137, 'famous': 138, 'sushi': 139, 'was': 140, 'first': 141, 'person': 142, 'step': 143, 'moon': 144, 'armstrong': 145, 'main': 146, 'ingredient': 147, 'guacamole': 148, 'avocado': 149, 'sides': 150, 'does': 151, 'hexagon': 152, 'have': 153, '6': 154, 'china': 155, 'yuan': 156, 'pride': 157, 'and': 158, 'prejudice': 159, 'jane-austen': 160, 'iron': 161, 'fe': 162, 'hardest': 163, 'natural': 164, 'substance': 165, 'diamond': 166, 'continent': 167, 'by': 168, 'area': 169, 'asia': 170, 'president': 171, 'states': 172, 'george-washington': 173, 'bird': 174, 'its': 175, 'ability': 176, 'mimic': 177, 'sounds': 178, 'parrot': 179, 'longest-running': 180, 'animated': 181, 'tv': 182, 'show': 183, 'simpsons': 184, 'vaticancity': 185, 'most': 186, 'moons': 187, 'saturn': 188, 'romeo': 189, 'juliet': 190, 'shakespeare': 191, 'earths': 192, 'atmosphere': 193, 'nitrogen': 194, 'bones': 195, 'adult': 196, 'human': 197, 'body': 198, '206': 199, 'metal': 200, 'liquid': 201, 'at': 202, 'room': 203, 'temperature': 204, 'mercury': 205, 'russia': 206, 'moscow': 207, 'electricity': 208, 'benjamin-franklin': 209, 'second-largest': 210, 'land': 211, 'color': 212, 'ripe': 213, 'banana': 214, 'yellow': 215, 'month': 216, '28': 217, 'days': 218, 'common': 219, 'february': 220, 'study': 221, 'living': 222, 'organisms': 223, 'called': 224, 'biology': 225, 'home': 226, 'great': 227, 'wall': 228, 'bees': 229, 'collect': 230, 'from': 231, 'flowers': 232, 'nectar': 233, 'opposite': 234, 'day': 235, 'south': 236, 'korea': 237, 'seoul': 238, 'bulb': 239, 'edison': 240, 'humans': 241, 'breathe': 242, 'survival': 243, 'oxygen': 244, '144': 245, '12': 246, 'pyramids': 247, 'giza': 248, 'egypt': 249, 'sea': 250, 'creature': 251, 'eight': 252, 'arms': 253, 'octopus': 254, 'holiday': 255, 'celebrated': 256, 'december': 257, '25': 258, 'christmas': 259, 'yen': 260, 'legs': 261, 'spider': 262, 'sport': 263, 'uses': 264, 'net,': 265, 'ball,': 266, 'hoop': 267, 'basketball': 268, 'kangaroos': 269, 'female': 270, 'minister': 271, 'uk': 272, 'margaretthatcher': 273, 'fastest': 274, 'animal': 275, 'cheetah': 276, 'periodic': 277, 'table': 278, 'spain': 279, 'madrid': 280, 'closest': 281, 'sun': 282, 'father': 283, 'computers': 284, 'charlesbabbage': 285, 'mexico': 286, 'mexicocity': 287, 'colors': 288, 'rainbow': 289, 'musical': 290, 'instrument': 291, 'black': 292, 'white': 293, 'keys': 294, 'piano': 295, 'americas': 296, '1492': 297, 'christophercolumbus': 298, 'disney': 299, 'character': 300, 'long': 301, 'nose': 302, 'grows': 303, 'it': 304, 'when': 305, 'lying': 306, 'pinocchio': 307, 'directed': 308, 'movie': 309, 'titanic': 310, 'jamescameron': 311, 'superhero': 312, 'also': 313, 'dark': 314, 'knight': 315, 'batman': 316, 'brasilia': 317, 'fruit': 318, 'king': 319, 'fruits': 320, 'mango': 321, 'eiffel': 322, 'tower': 323}\n"
          ]
        }
      ]
    },
    {
      "cell_type": "code",
      "source": [
        "vocab"
      ],
      "metadata": {
        "colab": {
          "base_uri": "https://localhost:8080/"
        },
        "id": "VEVSC69Mr8CD",
        "outputId": "8456b89b-1642-4508-b225-7964b6c28f13"
      },
      "execution_count": 119,
      "outputs": [
        {
          "output_type": "execute_result",
          "data": {
            "text/plain": [
              "{'UNK': 0,\n",
              " 'what': 1,\n",
              " 'is': 2,\n",
              " 'the': 3,\n",
              " 'capital': 4,\n",
              " 'of': 5,\n",
              " 'france': 6,\n",
              " 'paris': 7,\n",
              " 'germany': 8,\n",
              " 'berlin': 9,\n",
              " 'who': 10,\n",
              " 'wrote': 11,\n",
              " 'to': 12,\n",
              " 'kill': 13,\n",
              " 'a': 14,\n",
              " 'mockingbird': 15,\n",
              " 'harper-lee': 16,\n",
              " 'largest': 17,\n",
              " 'planet': 18,\n",
              " 'in': 19,\n",
              " 'our': 20,\n",
              " 'solar': 21,\n",
              " 'system': 22,\n",
              " 'jupiter': 23,\n",
              " 'boiling': 24,\n",
              " 'point': 25,\n",
              " 'water': 26,\n",
              " 'celsius': 27,\n",
              " '100': 28,\n",
              " 'painted': 29,\n",
              " 'mona': 30,\n",
              " 'lisa': 31,\n",
              " 'leonardo-da-vinci': 32,\n",
              " 'square': 33,\n",
              " 'root': 34,\n",
              " '64': 35,\n",
              " '8': 36,\n",
              " 'chemical': 37,\n",
              " 'symbol': 38,\n",
              " 'for': 39,\n",
              " 'gold': 40,\n",
              " 'au': 41,\n",
              " 'which': 42,\n",
              " 'year': 43,\n",
              " 'did': 44,\n",
              " 'world': 45,\n",
              " 'war': 46,\n",
              " 'ii': 47,\n",
              " 'end': 48,\n",
              " '1945': 49,\n",
              " 'longest': 50,\n",
              " 'river': 51,\n",
              " 'nile': 52,\n",
              " 'japan': 53,\n",
              " 'tokyo': 54,\n",
              " 'developed': 55,\n",
              " 'theory': 56,\n",
              " 'relativity': 57,\n",
              " 'albert-einstein': 58,\n",
              " 'freezing': 59,\n",
              " 'fahrenheit': 60,\n",
              " '32': 61,\n",
              " 'known': 62,\n",
              " 'as': 63,\n",
              " 'red': 64,\n",
              " 'mars': 65,\n",
              " 'author': 66,\n",
              " '1984': 67,\n",
              " 'george-orwell': 68,\n",
              " 'currency': 69,\n",
              " 'united': 70,\n",
              " 'kingdom': 71,\n",
              " 'pound': 72,\n",
              " 'india': 73,\n",
              " 'delhi': 74,\n",
              " 'discovered': 75,\n",
              " 'gravity': 76,\n",
              " 'newton': 77,\n",
              " 'how': 78,\n",
              " 'many': 79,\n",
              " 'continents': 80,\n",
              " 'are': 81,\n",
              " 'there': 82,\n",
              " 'on': 83,\n",
              " 'earth': 84,\n",
              " '7': 85,\n",
              " 'gas': 86,\n",
              " 'do': 87,\n",
              " 'plants': 88,\n",
              " 'use': 89,\n",
              " 'photosynthesis': 90,\n",
              " 'co2': 91,\n",
              " 'smallest': 92,\n",
              " 'prime': 93,\n",
              " 'number': 94,\n",
              " '2': 95,\n",
              " 'invented': 96,\n",
              " 'telephone': 97,\n",
              " 'alexander-graham-bell': 98,\n",
              " 'australia': 99,\n",
              " 'canberra': 100,\n",
              " 'ocean': 101,\n",
              " 'pacific-ocean': 102,\n",
              " 'speed': 103,\n",
              " 'light': 104,\n",
              " 'vacuum': 105,\n",
              " '299,792,458m/s': 106,\n",
              " 'language': 107,\n",
              " 'spoken': 108,\n",
              " 'brazil': 109,\n",
              " 'portuguese': 110,\n",
              " 'penicillin': 111,\n",
              " 'alexander-fleming': 112,\n",
              " 'canada': 113,\n",
              " 'ottawa': 114,\n",
              " 'mammal': 115,\n",
              " 'whale': 116,\n",
              " 'element': 117,\n",
              " 'has': 118,\n",
              " 'atomic': 119,\n",
              " '1': 120,\n",
              " 'hydrogen': 121,\n",
              " 'tallest': 122,\n",
              " 'mountain': 123,\n",
              " 'everest': 124,\n",
              " 'city': 125,\n",
              " 'big': 126,\n",
              " 'apple': 127,\n",
              " 'newyork': 128,\n",
              " 'planets': 129,\n",
              " 'starry': 130,\n",
              " 'night': 131,\n",
              " 'vangogh': 132,\n",
              " 'formula': 133,\n",
              " 'h2o': 134,\n",
              " 'italy': 135,\n",
              " 'rome': 136,\n",
              " 'country': 137,\n",
              " 'famous': 138,\n",
              " 'sushi': 139,\n",
              " 'was': 140,\n",
              " 'first': 141,\n",
              " 'person': 142,\n",
              " 'step': 143,\n",
              " 'moon': 144,\n",
              " 'armstrong': 145,\n",
              " 'main': 146,\n",
              " 'ingredient': 147,\n",
              " 'guacamole': 148,\n",
              " 'avocado': 149,\n",
              " 'sides': 150,\n",
              " 'does': 151,\n",
              " 'hexagon': 152,\n",
              " 'have': 153,\n",
              " '6': 154,\n",
              " 'china': 155,\n",
              " 'yuan': 156,\n",
              " 'pride': 157,\n",
              " 'and': 158,\n",
              " 'prejudice': 159,\n",
              " 'jane-austen': 160,\n",
              " 'iron': 161,\n",
              " 'fe': 162,\n",
              " 'hardest': 163,\n",
              " 'natural': 164,\n",
              " 'substance': 165,\n",
              " 'diamond': 166,\n",
              " 'continent': 167,\n",
              " 'by': 168,\n",
              " 'area': 169,\n",
              " 'asia': 170,\n",
              " 'president': 171,\n",
              " 'states': 172,\n",
              " 'george-washington': 173,\n",
              " 'bird': 174,\n",
              " 'its': 175,\n",
              " 'ability': 176,\n",
              " 'mimic': 177,\n",
              " 'sounds': 178,\n",
              " 'parrot': 179,\n",
              " 'longest-running': 180,\n",
              " 'animated': 181,\n",
              " 'tv': 182,\n",
              " 'show': 183,\n",
              " 'simpsons': 184,\n",
              " 'vaticancity': 185,\n",
              " 'most': 186,\n",
              " 'moons': 187,\n",
              " 'saturn': 188,\n",
              " 'romeo': 189,\n",
              " 'juliet': 190,\n",
              " 'shakespeare': 191,\n",
              " 'earths': 192,\n",
              " 'atmosphere': 193,\n",
              " 'nitrogen': 194,\n",
              " 'bones': 195,\n",
              " 'adult': 196,\n",
              " 'human': 197,\n",
              " 'body': 198,\n",
              " '206': 199,\n",
              " 'metal': 200,\n",
              " 'liquid': 201,\n",
              " 'at': 202,\n",
              " 'room': 203,\n",
              " 'temperature': 204,\n",
              " 'mercury': 205,\n",
              " 'russia': 206,\n",
              " 'moscow': 207,\n",
              " 'electricity': 208,\n",
              " 'benjamin-franklin': 209,\n",
              " 'second-largest': 210,\n",
              " 'land': 211,\n",
              " 'color': 212,\n",
              " 'ripe': 213,\n",
              " 'banana': 214,\n",
              " 'yellow': 215,\n",
              " 'month': 216,\n",
              " '28': 217,\n",
              " 'days': 218,\n",
              " 'common': 219,\n",
              " 'february': 220,\n",
              " 'study': 221,\n",
              " 'living': 222,\n",
              " 'organisms': 223,\n",
              " 'called': 224,\n",
              " 'biology': 225,\n",
              " 'home': 226,\n",
              " 'great': 227,\n",
              " 'wall': 228,\n",
              " 'bees': 229,\n",
              " 'collect': 230,\n",
              " 'from': 231,\n",
              " 'flowers': 232,\n",
              " 'nectar': 233,\n",
              " 'opposite': 234,\n",
              " 'day': 235,\n",
              " 'south': 236,\n",
              " 'korea': 237,\n",
              " 'seoul': 238,\n",
              " 'bulb': 239,\n",
              " 'edison': 240,\n",
              " 'humans': 241,\n",
              " 'breathe': 242,\n",
              " 'survival': 243,\n",
              " 'oxygen': 244,\n",
              " '144': 245,\n",
              " '12': 246,\n",
              " 'pyramids': 247,\n",
              " 'giza': 248,\n",
              " 'egypt': 249,\n",
              " 'sea': 250,\n",
              " 'creature': 251,\n",
              " 'eight': 252,\n",
              " 'arms': 253,\n",
              " 'octopus': 254,\n",
              " 'holiday': 255,\n",
              " 'celebrated': 256,\n",
              " 'december': 257,\n",
              " '25': 258,\n",
              " 'christmas': 259,\n",
              " 'yen': 260,\n",
              " 'legs': 261,\n",
              " 'spider': 262,\n",
              " 'sport': 263,\n",
              " 'uses': 264,\n",
              " 'net,': 265,\n",
              " 'ball,': 266,\n",
              " 'hoop': 267,\n",
              " 'basketball': 268,\n",
              " 'kangaroos': 269,\n",
              " 'female': 270,\n",
              " 'minister': 271,\n",
              " 'uk': 272,\n",
              " 'margaretthatcher': 273,\n",
              " 'fastest': 274,\n",
              " 'animal': 275,\n",
              " 'cheetah': 276,\n",
              " 'periodic': 277,\n",
              " 'table': 278,\n",
              " 'spain': 279,\n",
              " 'madrid': 280,\n",
              " 'closest': 281,\n",
              " 'sun': 282,\n",
              " 'father': 283,\n",
              " 'computers': 284,\n",
              " 'charlesbabbage': 285,\n",
              " 'mexico': 286,\n",
              " 'mexicocity': 287,\n",
              " 'colors': 288,\n",
              " 'rainbow': 289,\n",
              " 'musical': 290,\n",
              " 'instrument': 291,\n",
              " 'black': 292,\n",
              " 'white': 293,\n",
              " 'keys': 294,\n",
              " 'piano': 295,\n",
              " 'americas': 296,\n",
              " '1492': 297,\n",
              " 'christophercolumbus': 298,\n",
              " 'disney': 299,\n",
              " 'character': 300,\n",
              " 'long': 301,\n",
              " 'nose': 302,\n",
              " 'grows': 303,\n",
              " 'it': 304,\n",
              " 'when': 305,\n",
              " 'lying': 306,\n",
              " 'pinocchio': 307,\n",
              " 'directed': 308,\n",
              " 'movie': 309,\n",
              " 'titanic': 310,\n",
              " 'jamescameron': 311,\n",
              " 'superhero': 312,\n",
              " 'also': 313,\n",
              " 'dark': 314,\n",
              " 'knight': 315,\n",
              " 'batman': 316,\n",
              " 'brasilia': 317,\n",
              " 'fruit': 318,\n",
              " 'king': 319,\n",
              " 'fruits': 320,\n",
              " 'mango': 321,\n",
              " 'eiffel': 322,\n",
              " 'tower': 323}"
            ]
          },
          "metadata": {},
          "execution_count": 119
        }
      ]
    },
    {
      "cell_type": "code",
      "source": [
        "# word to numerical indices\n",
        "def word_to_num(text , vocab):  # here we will give a text in we will use vocan and convert that text to numerical value\n",
        "   index_text = []\n",
        "   for token in tokenize(text):\n",
        "     if token in vocab:\n",
        "       index_text.append(vocab[token])\n",
        "     else:\n",
        "       index_text.append(vocab['UNK'])\n",
        "   return index_text\n"
      ],
      "metadata": {
        "id": "YV0LjyRPnq0O"
      },
      "execution_count": 120,
      "outputs": []
    },
    {
      "cell_type": "code",
      "source": [
        "word_to_num('what is your name',vocab)"
      ],
      "metadata": {
        "colab": {
          "base_uri": "https://localhost:8080/"
        },
        "id": "cIbJQG6ftRP9",
        "outputId": "69780ab8-dcd0-466c-f3ff-7a64583d3d6a"
      },
      "execution_count": 121,
      "outputs": [
        {
          "output_type": "execute_result",
          "data": {
            "text/plain": [
              "[1, 2, 0, 0]"
            ]
          },
          "metadata": {},
          "execution_count": 121
        }
      ]
    },
    {
      "cell_type": "code",
      "source": [
        "# now we will move towards make out numerical form dataset\n",
        "\n",
        "import torch\n",
        "from torch.utils.data import Dataset , DataLoader"
      ],
      "metadata": {
        "id": "uZIl6TLVtU4r"
      },
      "execution_count": 122,
      "outputs": []
    },
    {
      "cell_type": "markdown",
      "source": [
        "![image.png](data:image/png;base64,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)"
      ],
      "metadata": {
        "id": "BgZ9W_qgy1XV"
      }
    },
    {
      "cell_type": "code",
      "source": [
        "class QADataset(Dataset):\n",
        "  def __init__(self , df , vocab): # here we are textual dataframe ans vocab\n",
        "    self.df = df\n",
        "    self.vocab = vocab\n",
        "\n",
        "  def __len__(self):\n",
        "    return self.df.shape[0]\n",
        "\n",
        "  def __getitem__(self, index):\n",
        "    numerical_question = word_to_num(self.df.iloc[index]['question'],self.vocab)  # we are fetching a row then its question converting into numerical\n",
        "    numerical_answer = word_to_num(self.df.iloc[index]['answer'], self.vocab)  # we are fetching a row then its answer converting in to numerical vlaue\n",
        "    return torch.tensor(numerical_question) , torch.tensor(numerical_answer)\n",
        "\n"
      ],
      "metadata": {
        "id": "6UrVROzSuy28"
      },
      "execution_count": 123,
      "outputs": []
    },
    {
      "cell_type": "code",
      "source": [
        "dataset = QADataset(df,vocab)"
      ],
      "metadata": {
        "id": "BHXvi1Wjy1s0"
      },
      "execution_count": 124,
      "outputs": []
    },
    {
      "cell_type": "code",
      "source": [
        "dataset[10]"
      ],
      "metadata": {
        "colab": {
          "base_uri": "https://localhost:8080/"
        },
        "id": "aylPGM-23YgJ",
        "outputId": "6841df7d-5232-4635-e49d-2c1397b4dd36"
      },
      "execution_count": 125,
      "outputs": [
        {
          "output_type": "execute_result",
          "data": {
            "text/plain": [
              "(tensor([ 1,  2,  3,  4,  5, 53]), tensor([54]))"
            ]
          },
          "metadata": {},
          "execution_count": 125
        }
      ]
    },
    {
      "cell_type": "code",
      "source": [
        "dataloader = DataLoader(dataset , batch_size= 1 , shuffle= True) # here batch has only 1 row so they is no need of padding but if there were more than more then then we need todo\n"
      ],
      "metadata": {
        "id": "9rsa8iyu3ZlQ"
      },
      "execution_count": 126,
      "outputs": []
    },
    {
      "cell_type": "code",
      "source": [
        "for question , answer in dataloader:\n",
        "  print(question,answer)"
      ],
      "metadata": {
        "colab": {
          "base_uri": "https://localhost:8080/"
        },
        "id": "G6WuKR-N35Kl",
        "outputId": "49ed93b1-8377-4fed-f742-4c4fd3e8d359"
      },
      "execution_count": 127,
      "outputs": [
        {
          "output_type": "stream",
          "name": "stdout",
          "text": [
            "tensor([[  1,   2,   3, 146,  86,  19, 192, 193]]) tensor([[194]])\n",
            "tensor([[10, 96,  3, 97]]) tensor([[98]])\n",
            "tensor([[ 42, 125,   2,  62,  63,   3, 126, 127]]) tensor([[128]])\n",
            "tensor([[ 42, 101,   2,   3,  17]]) tensor([[102]])\n",
            "tensor([[ 10,  11, 157, 158, 159]]) tensor([[160]])\n",
            "tensor([[ 42, 137, 118,   3, 247,   5, 248]]) tensor([[249]])\n",
            "tensor([[ 42, 137,   2, 226,  12,   3, 227, 228]]) tensor([[155]])\n",
            "tensor([[ 42, 216, 118, 217, 218,  19,  14, 219,  43]]) tensor([[220]])\n",
            "tensor([[ 1,  2,  3, 59, 25,  5, 26, 19, 60]]) tensor([[61]])\n",
            "tensor([[10, 29,  3, 30, 31]]) tensor([[32]])\n",
            "tensor([[ 42, 107,   2, 108,  19, 109]]) tensor([[110]])\n",
            "tensor([[  1,   2,   3,   4,   5, 206]]) tensor([[207]])\n",
            "tensor([[ 78,  79, 150, 151,  14, 152, 153]]) tensor([[154]])\n",
            "tensor([[ 42, 263, 264,  14, 265, 266, 158, 267]]) tensor([[268]])\n",
            "tensor([[  1,   2,   3, 163, 164, 165,  83,  84]]) tensor([[166]])\n",
            "tensor([[ 1,  2,  3, 17, 18, 19, 20, 21, 22]]) tensor([[23]])\n",
            "tensor([[ 1,  2,  3,  4,  5, 53]]) tensor([[54]])\n",
            "tensor([[ 42, 312,   2, 313,  62,  63,   3, 314, 315]]) tensor([[316]])\n",
            "tensor([[ 42,  86,  87, 241, 242,  19,  39, 243]]) tensor([[244]])\n",
            "tensor([[ 42,  18, 118,   3, 186, 187]]) tensor([[188]])\n",
            "tensor([[ 42,   2,   3, 210, 137, 168, 211, 169]]) tensor([[113]])\n",
            "tensor([[ 1,  2,  3,  4,  5, 73]]) tensor([[74]])\n",
            "tensor([[ 1,  2,  3, 92, 93, 94]]) tensor([[95]])\n",
            "tensor([[  1,   2,   3,   4,   5, 236, 237]]) tensor([[238]])\n",
            "tensor([[  1,   2,   3,   4,   5, 286]]) tensor([[287]])\n",
            "tensor([[  1,   2,   3,  69,   5, 155]]) tensor([[156]])\n",
            "tensor([[ 10,  75, 208]]) tensor([[209]])\n",
            "tensor([[42, 18,  2, 62, 63,  3, 64, 18]]) tensor([[65]])\n",
            "tensor([[  1,   2,   3,  33,  34,   5, 245]]) tensor([[246]])\n",
            "tensor([[ 10,  75,   3, 296,  19, 297]]) tensor([[298]])\n",
            "tensor([[  1,   2,   3, 103,   5, 104,  19, 105]]) tensor([[106]])\n",
            "tensor([[ 42, 318,   2,  62,  63,   3, 319,   5, 320]]) tensor([[321]])\n",
            "tensor([[ 42, 137,   2, 138,  39, 139]]) tensor([[53]])\n",
            "tensor([[  1,   2,   3, 122, 123,  19,   3,  45]]) tensor([[124]])\n",
            "tensor([[ 1,  2,  3, 69,  5,  3, 70, 71]]) tensor([[72]])\n",
            "tensor([[  1,   2,   3,   4,   5, 109]]) tensor([[317]])\n",
            "tensor([[ 42, 250, 251, 118, 252, 253]]) tensor([[254]])\n",
            "tensor([[  1,   2,   3, 146, 147,  19, 148]]) tensor([[149]])\n",
            "tensor([[ 78,  79, 261, 151,  14, 262, 153]]) tensor([[36]])\n",
            "tensor([[ 42, 255,   2, 256,  83, 257, 258]]) tensor([[259]])\n",
            "tensor([[  1,   2,   3,  37,  38,  39, 161]]) tensor([[162]])\n",
            "tensor([[  1,   2,   3,   4,   5, 279]]) tensor([[280]])\n",
            "tensor([[1, 2, 3, 4, 5, 6]]) tensor([[7]])\n",
            "tensor([[  1,   2,   3, 234,   5, 235]]) tensor([[131]])\n",
            "tensor([[78, 79, 80, 81, 82, 83, 84]]) tensor([[85]])\n",
            "tensor([[ 10,  29, 130, 131]]) tensor([[132]])\n",
            "tensor([[  1,   2,   3, 180, 181, 182, 183]]) tensor([[184]])\n",
            "tensor([[10,  2,  3, 66,  5, 67]]) tensor([[68]])\n",
            "tensor([[  1,   2,   3, 141, 117,  83,   3, 277, 278]]) tensor([[121]])\n",
            "tensor([[ 1,  2,  3, 24, 25,  5, 26, 19, 27]]) tensor([[28]])\n",
            "tensor([[ 10,  96,   3, 104, 239]]) tensor([[240]])\n",
            "tensor([[ 78,  79, 288,  81,  19,  14, 289]]) tensor([[85]])\n",
            "tensor([[ 42, 167,   2,   3,  17, 168, 169]]) tensor([[170]])\n",
            "tensor([[  1,   2,   3,  37, 133,   5,  26]]) tensor([[134]])\n",
            "tensor([[1, 2, 3, 4, 5, 8]]) tensor([[9]])\n",
            "tensor([[42, 86, 87, 88, 89, 39, 90]]) tensor([[91]])\n",
            "tensor([[  1,   2,   3,  17, 115,  83,  84]]) tensor([[116]])\n",
            "tensor([[ 42, 117, 118,   3, 119,  94, 120]]) tensor([[121]])\n",
            "tensor([[ 42, 299, 300, 118,  14, 301, 302, 158, 303, 304, 305, 306]]) tensor([[307]])\n",
            "tensor([[ 78,  79, 129,  81,  19,   3,  21,  22]]) tensor([[36]])\n",
            "tensor([[  1,   2,   3,   4,   5, 135]]) tensor([[136]])\n",
            "tensor([[ 42, 137,   2,  62,  39,   3, 322, 323]]) tensor([[6]])\n",
            "tensor([[ 1,  2,  3, 33, 34,  5, 35]]) tensor([[36]])\n",
            "tensor([[ 10,  75, 111]]) tensor([[112]])\n",
            "tensor([[ 10, 140,   3, 141, 270,  93, 271,   5,   3, 272]]) tensor([[273]])\n",
            "tensor([[ 10,  11, 189, 158, 190]]) tensor([[191]])\n",
            "tensor([[ 1,  2,  3,  4,  5, 99]]) tensor([[100]])\n",
            "tensor([[ 42, 137,   2, 138,  39, 175, 269]]) tensor([[99]])\n",
            "tensor([[ 10, 308,   3, 309, 310]]) tensor([[311]])\n",
            "tensor([[ 10, 140,   3, 141, 142,  12, 143,  83,   3, 144]]) tensor([[145]])\n",
            "tensor([[ 1,  2,  3, 37, 38, 39, 40]]) tensor([[41]])\n",
            "tensor([[ 42, 174,   2,  62,  39, 175, 176,  12, 177, 178]]) tensor([[179]])\n",
            "tensor([[  1,   2,   3,  92, 137,  19,   3,  45]]) tensor([[185]])\n",
            "tensor([[  1,   2,   3,   4,   5, 113]]) tensor([[114]])\n",
            "tensor([[ 42,  18,   2,   3, 281,  12,   3, 282]]) tensor([[205]])\n",
            "tensor([[10, 55,  3, 56,  5, 57]]) tensor([[58]])\n",
            "tensor([[10, 11, 12, 13, 14, 15]]) tensor([[16]])\n",
            "tensor([[ 1,  2,  3, 50, 51, 19,  3, 45]]) tensor([[52]])\n",
            "tensor([[ 1,  2,  3, 69,  5, 53]]) tensor([[260]])\n",
            "tensor([[42, 43, 44, 45, 46, 47, 48]]) tensor([[49]])\n",
            "tensor([[ 10,   2,  62,  63,   3, 283,   5, 284]]) tensor([[285]])\n",
            "tensor([[ 42, 200,   2,  14, 201, 202, 203, 204]]) tensor([[205]])\n",
            "tensor([[ 78,  79, 195,  81,  19,   3, 196, 197, 198]]) tensor([[199]])\n",
            "tensor([[  1,  87, 229, 230, 231, 232]]) tensor([[233]])\n",
            "tensor([[ 42,   2,   3, 274, 211, 275]]) tensor([[276]])\n",
            "tensor([[10, 75, 76]]) tensor([[77]])\n",
            "tensor([[  1,   2,   3, 212,   5,  14, 213, 214]]) tensor([[215]])\n",
            "tensor([[ 10, 140,   3, 141, 171,   5,   3,  70, 172]]) tensor([[173]])\n",
            "tensor([[  1,   2,   3, 221,   5, 222, 223, 224]]) tensor([[225]])\n",
            "tensor([[ 42, 290, 291, 118, 292, 158, 293, 294]]) tensor([[295]])\n"
          ]
        }
      ]
    },
    {
      "cell_type": "code",
      "source": [
        "import torch.nn as nn"
      ],
      "metadata": {
        "id": "3Y02OH9q7_9-"
      },
      "execution_count": 128,
      "outputs": []
    },
    {
      "cell_type": "code",
      "source": [
        "class SimpleRNN(nn.Module):\n",
        "  def __init__(self , vocab_size):\n",
        "    super().__init__()\n",
        "    self.embedding = nn.Embedding(vocab_size, embedding_dim = 50) # we cant use Sequential bcoz sequqential assume single output from each layer but\n",
        "    self.rnn = nn.RNN(50 , 64 )  # this layer gives more than one outputs see below cells\n",
        "    self.fc = nn.Linear(64, vocab_size)\n",
        "\n",
        "  def forward(self , question):\n",
        "    embedded_question = self.embedding(question)\n",
        "    rnn_output , hidden = self.rnn(embedded_question)\n",
        "    last_output = rnn_output[:, -1, :]      # shape: [B, 64]\n",
        "    output = self.fc(last_output)           # shape: [B, vocab_size]\n",
        "\n",
        "    # output = self.fc(rnn_output)\n",
        "\n",
        "    return output\n",
        ""
      ],
      "metadata": {
        "id": "iYwnym7r4PS0"
      },
      "execution_count": 165,
      "outputs": []
    },
    {
      "cell_type": "code",
      "source": [
        "dataset[10][0]"
      ],
      "metadata": {
        "colab": {
          "base_uri": "https://localhost:8080/"
        },
        "id": "lfolX9G879ty",
        "outputId": "d585e41d-39bb-49fe-a144-661b9752550e"
      },
      "execution_count": 166,
      "outputs": [
        {
          "output_type": "execute_result",
          "data": {
            "text/plain": [
              "tensor([ 1,  2,  3,  4,  5, 53])"
            ]
          },
          "metadata": {},
          "execution_count": 166
        }
      ]
    },
    {
      "cell_type": "code",
      "source": [
        "x = nn.Embedding(324 , embedding_dim =50)"
      ],
      "metadata": {
        "id": "kGQSlGvd8FwT"
      },
      "execution_count": 167,
      "outputs": []
    },
    {
      "cell_type": "code",
      "source": [
        "a = x(dataset[10][0])"
      ],
      "metadata": {
        "id": "KOHYWdVv-xXC"
      },
      "execution_count": 168,
      "outputs": []
    },
    {
      "cell_type": "code",
      "source": [
        "x(dataset[10][0]).shape"
      ],
      "metadata": {
        "colab": {
          "base_uri": "https://localhost:8080/"
        },
        "id": "IF9uoRAI8NAZ",
        "outputId": "844758a7-d43c-4c1d-a8fb-013ca45e8212"
      },
      "execution_count": 169,
      "outputs": [
        {
          "output_type": "execute_result",
          "data": {
            "text/plain": [
              "torch.Size([6, 50])"
            ]
          },
          "metadata": {},
          "execution_count": 169
        }
      ]
    },
    {
      "cell_type": "markdown",
      "source": [
        "![image.png](data:image/png;base64,iVBORw0KGgoAAAANSUhEUgAAA7MAAAJlCAYAAAAIDqXpAAAAAXNSR0IArs4c6QAAAARnQU1BAACxjwv8YQUAAAAJcEhZcwAADsMAAA7DAcdvqGQAAMt9SURBVHhe7N19XFRV/gfwDwpkjCMmoCNaAkmaRuxkJrBGuqyhtpasC1ZSsdS6VqtForFrmflLdxIQk9q1cllLzJQMlQxIyUQDy5SQUhRBfEIMsBAHlQf5/RH37NzLDAwwIAOf9+vFq+aec5/vjPd7z/eca+Pu7t4AIiIiIiIiIivSSzmBiIiIiIiIqKtjMEtERERERERWh8EsERERERERWR0Gs0RERERERGR1GMwSERERERGR1WEwS0RERERERFaHwSwRERERERFZHQazREREREREZHUYzBIREREREZHVYTBLREREREREVofBLBEREREREVkdBrNERERERERkdRjMEhERERERkdVhMEtERERERERWh8EsERERERERWR0Gs0RERERERGR1GMwSERERERGR1WEwS0RERERERFaHwSwRERERERFZHQazREREREREZHUYzBIREREREZHVYTBLREREREREVofBLBEREREREVkdBrNERERERERkdRjMEhERERERkdVhMEtERERERERWh8EsERERERERWR0Gs0RERERERGR1GMwSERERERGR1WEwS0RERERERFaHwSwRERERERFZHQazREREREREZHUYzBIREREREZHVYTBLREREREREVofBLBEREREREVkdBrNERERERERkdRjMEhERERERkdVhMEtERERERERWh8EsERERERERWR0Gs0RERERERGR1GMwSERERERGR1WEwS0RERERERFaHwWw3kpiYiKKiIhQVFSEvLw9BQUHKKh3O19cXWVlZYjuysrLg6+urrNZEc/O98MILyMnJQWFhIVJTU+Hj46OcnYhaMGHCBOzcuROFhYU4ePAg/vrXvyqrtCgoKAh5eXnie5qYmKisQkRERNRpGMxaiDIYM/XHm7/Wmzx5MhwdHWFjY4M77rgD06ZNU1a5oSIiInDs2LEeeY6V+3706FG88MILymqAkUBIp9Mpq7SJj48PVq5cia+//hrLly9XFt8wnp6e+Pzzz1FUVISCggK8+eabyirw8fFBfHw8vv32Wxw/fhxFRUUoLCxEXl4etm7dikcffVQ5S5tNmjQJHh4esLGxwS233ILp06crq9wQ/v7++OCDD3Dw4EEUFBSI6yM/Px/ffvutxa4Tap67uzt27NghrteYmBhlFSIioi6HwSwRWcxNN92EP/7xj9BqtcqiDjFv3jysW7cO06dPx+DBg9GrV9f5SfvrX/8KT09PAMDx48exZs0aUaZSqfDPf/4T//3vf/HQQw/B2dkZtra2AAAbGxuoVCrcfffdWLZsGTZu3CiW090sW7YM7777Lu6//37ccsst6N27tyizt7eHs7Nzp11LPd3Jkyexbt06VFZWonfv3vj973+PWbNmKasRERF1KV3nzq8TOE35B24ecpdyMnVxW7duxc8//4yGhgYcP34cn3zyibIKdSFDhw7Fc889p5zcIXr37g0bGxvl5Btu2rRp+N3vfofevXvj6tWrSElJwcmTJ0X566+/jj/96U+46aabZPMp2djY4L777sOqVavaHdCmpKTg+PHjaGhowM8//4ykpCRllU41Z84cBAUFtXgMqPMkJSVh3759aGhoQL9+/fD444/D3d1dWY2IiKjL6DHB7MDH3sfN7r/D4JBoONzmrSy2uNLSUsyaNQseHh6yv9DQUGVVasG7776LMWPG4Pbbb8eUKVOQk5OjrEJdiI2NDX77299izpw5yqIeY/r06ejfvz8AoLCwEOvXrxdlc+bMwdSpU0UrZENDA3744Qe8+OKL8PDwwOOPP47du3ejrq4OaDyeI0aMwOzZs8Uy2mL//v2YMmUKbr/9dowZMwYJCQnKKp3K19cXffr0EZ8LCwuxYMECeHl5wcvLCwsWLMCuXbtw6dIl2XzUsT777DNcvHgRADB8+PAuk45ORERkTI8IZgc+9j7sb3EHGoDaK3bQPLIcDrd2fEDbHGVfQ51Oh+nTpyMtLQ0FBQUoLCxEVlaWSPMKCQlBRkaGKDt06BBeeeUV5WJlevfujddeew2HDh1CYWEhCgoKkJmZiaefflpZFWhcR2pqKvLz80W/qf379+OVV16BSqWS1ZXSJA8ePIjCwkIUFhYiOzu7xcGZ2jKfqYGtTB1Dc46Tse3Ys2cPnnvuOZMDUVmCSqVCREQEtm/fju+//170ESwsLMSBAwcQExMDjUYDAAgNDZX1Mf32228xYcIE2fJWr14tyo8cOSIG9dFoNFi5cqU490VFRfjxxx+xZcsW+Pv7y5aRnp4u29/g4GB88cUXKCgoaNX+X79+XQRgffr0QUhISKtbE+fMmYNdu3aJa1Da7q1bt8oGNJP6386dOxd2dnZiekhISJPrRJpu7rUdFBSErVu3Ii8vTxy748ePy76PzZkwYQK8vLwAAHV1ddi7dy/0ej3QeP4feughEcQ1NDQgKysLjz32GLZv3w40Bp1PP/00tm/fjvr6egBAr1698MADD2DChAlN+uenp6eLdQOATqcTZUUGfZONfV+UTO37zp078dBDDymry7z++uuyPq/Z2dlNrldDAwcOFP9fV1eH3bt3Y8uWLdDr9dDr9diyZQtmz56N4OBgUU95rRpem8r9k/quK/tqJyYmwsfHB1u2bMGxY8fE78T8+fOBxj6827ZtE32Y8/LyEBcXJ7tOlOuyxO93UFAQPvjgA3z77bey6z8vLw+bN29u8r1V/i7OmjULSUlJOH78OPLy8hAdHd2m3w/pGAOAnZ0dJk6cKJuHiIioK+n2waxhIGvTAKABqLtmj8FdIKA1NHDgQCxZsgR33HGHSJ3UaDSYP38+IiMj8Y9//APu7u6irH///pg1a5bJwXYAYOrUqQgNDUX//v1hY2OD3r17Y+jQoYiMjERkZKSsbnR0NN544w2MGDEC9vb2QGMwPHDgQPz5z3/GmjVrxM2cSqXCmjVrEBISgltuuQU2NjawsbHBoEGDEB4e3iQ4kLR1PnNJx9DYcTLcX1Pbceutt+LZZ59t93Y05+6770ZwcDDuuusu9OvXT7TO2djYwMnJCUFBQYiOjoZKpUJycjKKi4vFvI6OjrL+g+7u7iJoAoCSkhJ88cUXmDBhApKSkkTroJSGe/PNN0Or1WL16tUmg7LevXtj9uzZGD58uKz/ojl69eqFo0ePioB22LBhmDdvnrKaUZ6enti4cSMWLFgADw8PcQ2icbvvvvtu6HQ6/POf/5TNZ47WXNsvvfQSli1bhrvvvhsqlUocO1tbWzg5OckCMFP8/PxEq2xlZSUOHjwoyqZMmYJhw4aJzz///DM2bNgggl1DGzZsQGlpqfisPP+WpFKp8Pbbb+PNN980uu+33XYb7rjjDuVswrRp0zBt2jRxzVy7dg1btmzBV199pawq/PTTT+L/bW1tMW3aNISEhMjqdISbb74ZK1euhFarhZ2dnfidePrppxEVFQWdTgcvLy/Rh1mlUuEPf/gDFi9erFyUYInf7xkzZuD++++Hs7Oz7PpXqVS49957odPpmgSjhkJCQnDPPfeI7T548GCbfj/Q+ECltrYWaOw2MHXqVFGPiIioK+nWwezAkH83CWRtGhpg0wDUXbWH68PL4eA6SjmbRWg0GmzYsEE89S4qKsKxY8cQERGhrAo0jmrar18/5WQ4OjoiPDzcaNlNN92EgIAA5WQAgIODA/z9/Y0GJDfddBOmTZsmbmwiIyPxhz/8Aba2tqivr0d6ejomTJiAtWvX4tq1a7CxscG4cePw/PPPAwAWLlwIHx8fcbNrSKVSQa1WKycD7ZjPXKaO4U033YTf//73ImDp6O1oSVVVFXbt2iVSKv38/JCSkoL6+nrY2Njg3nvvxZNPPgm9Xo+9e/eK4NDOzg5jxowRy/ntb38LZ2dnoLGF7+DBg7C1tcXChQsxZMgQAMCFCxcQFRWFxx9/HMePHwcA9OvXD3/+85+N9oVzcnKCh4eHcrLZ8vPzkZubCzQG6BMnTkRYWJiyWhPz5s3DfffdZ/ScSOzs7DB9+vRmH+Aotebadnd3x9SpU0Wr6aVLl7B8+XKR8nro0CFcu3ZNuYomRowYIQKK8vJyZGRkiLI77rhDllpbUlKCtLQ08dlQTk4OTp8+LT7b2dlh0KBBsjqWsnjxYgQGBortbg2VSoUnn3xSBPANDQ3Yt29fi6Phfv/99yJgAoBBgwbhn//8J7744gvMmTOnwx4q3XnnnUaPY58+ffDkk0+KzAhDvXv3hq+vL+6++25lEdDMb09rfr9ramrwww8/YMWKFQgMDISHhweWL18u0qw1Gg2eeOIJgyX8j4ODA0aPHi37/ly7dq3Vvx9Sv+5jx47JsgnuvPNOMR8REVFX0m2DWeeglbB39hSB7K9B7K+BrDSt7oo9XB9ummp3I9jY2ODdd9+Fn58fsrKy0NDQIKbb2dmJm/CPPvpIdgPo7OxsNA3UxsYGP//8M9544w14eXnhrbfeQlVVlSh3cXHBfffdB3d3d0yePFkMwnLmzBmsXLkSp0+fxvLly1FQUAA0tpyMHz8ed999NyZOnCiC5Pr6enzxxRcIDAzE448/jry8PLHthto6X2vY2Nhgw4YN8PPza3Kc+vfvD61W2+J2HDx4sN3b0Zzs7GwEBgZi9uzZIqWytLQUSUlJqKioABpvcqUHDTt37sSFCxfE/MOGDRNlXl5ecHBwABoDr6+//hpBQUEYPnw40Ji6+dlnn2Hz5s3Yv38/kpOTcfXqVQCAq6srHnzwQbFcSa9evfDTTz9h8eLF8PDwwAsvvIDDhw8rq5nU0NCAtWvXin1xcHDAo48+2my68dSpU/Hb3/5W3Ihfu3YNGzduhJ+fH6ZPn469e/eKdFvpwcQXX3wBLy8vxMfHy87z5s2b4eHhAS8vL3z//feturY1Go04ngBQVlaGjRs3ipTXxx57DP/6179EuSmGwZBh6yMaHyQYBowt9Qc9c+aM7PPQoUNlny1hwoQJTb4TWVlZCA8Ph4eHB5599lkcPnxYnAOlF198Ed7e/8tyOXbsGFasWCGrY8x7772Hffv2yZZrY2OD4cOHY8GCBfjyyy9NdoloDzs7O2zfvh1+fn7Ytm2bbP033XQTvvvuO8yYMQOrVq2StZjfcsstuP3228VnQ5b4/Q4PD8fDDz+MNWvWiGtz7dq1+PHHH0V9T09PowG1jY0N9Ho93nrrLXh5eSEsLAzZ2dmt/v2QHD16FJWVlUDj8TIW4BMREXUF3TaY7V1pLwtk5a2zjf+93oDa6qYtlzfCDz/8gDfffBOlpaXYtm0bqqurRVlpaSnee+89nD59Gps3b5bdnJhSV1eHpKQkJCQkiJucPXv2iPI+ffrA3d0d9957r6yV4sSJE+JGCoqbbWdnZzz00EO45ZZbxLT8/HzMnz9f9EFcvXq1GDzE0IgRI9o0X2v88MMPePXVV1FaWor//Oc/KCkpEWUqlQouLi5NtuPUqVN48803xXa88847IhDrSIGBgVi5ciW2b9+OrKwsrFmzBi4uLqJcusnMycmRBdhOTk647777oFKp4O3tLQLAM2fOYPv27fD29hbB0uXLl2WDZf3000/ixl06/0p1dXVITk4W/Q0PHDhgNAW2Oenp6di6datoERo+fHizoxvfeeedsla4rKwsLFq0CKWlpTh8+DDeeOMNnD17VpRrNJpm+1hLWnttjxw5UnwGAA8PDyQnJ2PBggVm38yPHTtW1rJ//vx5WXl7mQoo2+Puu++WtRx+//33+Otf/ypShNPT0xEcHIzVq1cbzPWrm2++WbR8o/GYbtiwQXacTdHr9Xj66acRGxvb5DtnY2MDFxcXLFy4sE2p5c05e/YsVq9ejdLSUmzZskW27kuXLiExMRE5OTlYvXq1bATq5ljq99vT0xOvvPIKNm/ejIyMDOTm5mLs2LGi3NbW1miLdUNDA3bv3o233noLer0eBw8eRGlpaat/PyQnT54UD74AYPDgweL/iYiIupJuG8yWf/0K6grONA1krwO4/msgW19/FRUH//fuR0syNprxiBEjEBcXp6wKALK+TVIQIKmurhZByeHDh3HlyhVZuTHXrl1rckN58uRJWasAGlt6DPtn/f73v5elRvv5+cnqK/tznTx5UhbsVFdXN1kHjKzH3Plao7CwUPz/yZMnUVNTIyuHke04cuSI7Ib1q6++ws8//yw+W5qnpye2bNmCf/3rX5g+fTruuusu0SJoKsX2yy+/FIFXnz59MGbMGEyZMgWurq5A4/Wyb98+oPH8SPr374+3335bnMvY2FijN8KGrly5gvz8fOXkVlu1apVIN+7Vqxd+97vfYcSIEcpqQGOWgDSIU11dnew8AkBBQYHswUSfPn2Mpm0qKc91S9d2fn4+srKyRMAotRI+++yzyMjIaDIIkDEtpeleu3YN169fF59b2g9lEGHp4BiNrfTScaqrq0NOTo7ZDzBGjx4tHhjU1dVh69at2LBhg7Jas9asWYMJEyZgxYoVOHHihCwzws7ODlOmTMGjjz4qm6c9SkpKxHe+vr5edj6uXLmCsrIy8bmllnOJJX6/ly1bhu3btyM8PBz33nsv3N3doVarW7ymAKC2tlYM2qTUmt8PQ8oHDERERF1Rtw1m66/9gvK9L6D2xOlfA9nrjYFsY0ttfX01KrJX4fKPKcpZb4iOaHFRuvnmm00GTG1lTh9CY9o6n6Upt0OlUqFXr477WixcuBC/+c1vYGNjg+rqanz55Zd444038Oqrr5pssdm+fbvo74rGgHjMmDGi9ba8vBx79+41mKPt9Hq97Ga+rfR6PT788EP88ssvAAC1Wo2pU6e2eP01NDQ0OScAZEFpR3rttdeQmJgoUiwlN998Mx5++GGsWrVKNr21CgsLZS1eGo3G5KA+Wq1W1n/56tWrZrcUdpbKykrx22Vrawt/f/9mU8pN0ev1WLNmDR588EHExcXJukSo1WrZQEXt1RHdCNr7+234zt36+nr88MMP+Ne//oUXX3wR33zzjbJ6E7W1tU1S0iWd+ftBRETU2Trurr0LqLt2Cecznsa1E4WyAaDqaqtQsS8W+hNfKmfpNmxtbZukRt5+++3iKX9tbS3KyspQXV0tuxHLyspq8m5c6c/Pzw/Hjx+X1ffw8JC1Vg0ZMgR9+/YVnyXK9Zg7n6XV19fLbmZHjhwp246AgABZ66Yl3X333RgxYoQI6L788ks888wzSEhIQGlpabMtMF999ZUI8pydneHn5yeC7qNHjyI7OxtQBOeXL1/GwoULm5xH6S8qKkrU7QgpKSliYCs0tpQa9kmVXLp0STZIzahR8kHZtFqt7FpuLuA2HPBMec21dG1nZ2dDr9fj9ddfx/jx4/Hqq6/i8OHDYttsbGwwevRoWdpna+3du1c2QrGTkxOefvppoy2+s2bNku13WVkZvv32W1kdNAZ7hts0YMAAWXlLDI+/ra0ttFqt0e0xpqCgAEeOHBGfhw0bhoULF8rqmLJixQqjg4O9/fbbyMvLE59tGkdiV5K6Dkj69+9vtJ41uOeee8TAYGfPnsULL7yAmJgYbN++vdnfBXOZ+/thyMnJSTmJiIioy+nWwaykdPccXC0q+DWQralC+VdvQH+yez+Jvummm/Dkk08iJCQEGo0Gy5Ytk6VV6vV6HD16FIcPHxatZ2js8/f222+LQUbuvvtuLFq0CFu3boWvry9OnDghS0G866678Nprr0Gj0SAwMBB//etfjQalbZ3P0n788UdZq88dd9wh2465c+fC0dFRNo+lqFQq2Y3pyJEj4ePjAx8fH8yZM6fZICQtLQ3nzp0DGvvTSqMVX716VRbgHD16VATrffv2xd/+9jeEhYVBpVJBpVJhxowZ+Pjjj/H666+LeTrSihUrZMGOMd9//z0uX74sPvv5+WHZsmWib+z8+fNlQd2pU6eMpkWi8XqVBrhp7bVtSK/XY8OGDZg+fToOHDggK2suuMjOzpZdX8o04ZMnT2L37t2yANnPzw8ffvghHn74YaBxQKbExEQ8/PDDIjirq6vDF198IVKADVNZXVxcEBoaCo1Gg7/97W8YN26cKDPHDz/8IPtu/uY3v8G7774rWowfffRRbNmyxeRrlgxbsm1sbDB+/HizRpx2dXXFP/7xD3z88ceYMWMGVCoVNBoNnnvuOVnr7vXr10UgZviwpm/fvpg5cyY8PT0REhKCBx98sEOzKjqS4UOeAQMG4MEHHxS/23fddZesbluY+/shUf5WtXc8AyIioo5inf/yt0HpV8/h8pFdKN/zf7hy7n+D4nQUjZFX8xQVFSErK6vJjXNHGTRoEHQ6HbKysvDYY4+JUV3R2Ff0888/R3Z2tmyAEDs7O0ydOhVbt25FUVERtm7diqefflq8XzMjI0PWN8vOzg5/+tOfkJWVhX//+98mR/ts63yW1hnb4efn1+S8FxUV4eWXX5YFIcOHD8dHH32Ejz76CFqtttlUxZMnTyI7OxvXr1+HjY2NuGk3fDckGlt7DW88b7vtNixevBh5eXnIy8tDdHQ07rvvPtm10JH0ej3Wrl0rCyqVPv/8c9k1eNNNN+Gxxx5DVlYWPvroI/j5+Ymg7tKlS7KBaioqKmR9raU+yXl5edBoNK26toOCgrB79268+eab4jsaGhoKD4NU30uXLrU4unN5ebn4f8PBxiSrVq3CN998IxvxVqvVYtWqVSgqKkJCQgL8/PxEMNHQ0IBvvvlGpDgfPnxY9sqe3r17Y9q0acjKysJLL71kdquqZPv27fjuu+/E9vTu3Rt+fn5ISEhAUVERli9fjrvuustkq2dSUhK++OILcf3edNNNmDlzpsn0aUO2tra47777EB0djby8PGRlZSEyMlLW4nrp0iV89913gOJhjY2NDXx9fZGeng6dTgcXF5cOSSHuDIYDRqnVarz88svid7ul1HxzmPv7IfHx8RGvWqqrq5NlExAREXUlPSaYBYCyb1fgyrnvlZO7perqatkIsIbOnTuHtWvXis+rV6/G4cOHzb4R/Pe//23y5ubkyZOym3lDbZ3P0m7Udly+fBnZ2dlGg9YTJ060OOBKRkaGLFBtULwbEo0jzyYmJpo9gE9nSElJwc6dO43ut2TFihUtXoNXr17Fhx9+KBtgaO/evTh16pSsnqHWXtvOzs4IDg4WD6KWLl0qBji6dOkS1q9f3+KxPXHihBhUaPDgwU3eBa3X6zFnzhykpqY2GSzImOvXr8taewEgNTXV6OBEV69excGDB5WTW2TO8W/O2rVrZQPODRo0yGT6dGvo9Xp88MEHSEn5dWyD1NRUo33LpYGrzDmeXdHOnTub9NMGgF9++QXHjh1TTm4Tc34/JIYjXF+9elXW55aIiKgr6VHBbE/S0Pi+zwMHDoiWK71ej6+++grz5s0Tr91AY7+30NBQrFmzBmfOnBE3hA0NDSIdOSEhQfSr+uqrr/DSSy8hJydHlv534MABrFy50uQNZVvns7TmtmPVqlWy0U2vXbtmMvBti6VLl+Kzzz4TAVFtbS327t2LuLi4FgOJAwcOyAJt5bshJW+99Raef/55fP3117h8+bJYbl1dHcrLy5GSkoJNmzYpZ+tQa9asafaGWHkNSiNRNzQ04PLly/juu+8wZ84crFy5UjbfyZMn8X//93+yc2lIudzmru1ffvkFp06dgl6vF8esoaEBVVVV+PrrrzFv3jyzRuo9ePCgCD4dHR0xZswYZRXo9Xr87W9/w9y5c/H111+jqqpKts4rV66Iz71798akSZOwevVqERxu2LAB8fHxOHv2rOgHfuHCBcTGxhoNTlrS3HG6fPkyvv32W6P9KiUFBQXYsGGD2G8bGxvcd999zb6S6b333kN6ejrKy8tl3/26ujr8/PPP2Lt3L55//nm89dZbouyrr77CihUrcOzYMdTV1aGhoQG//PILPvzwQ2RlZYl61iYpKQlvv/02Lly4gIaGBjQ0NKC4uBhLly5t8iCjrcz9/UBjNxBphPFTp04hNTVVWYWIiKhLsHF3d2/+DpqoB1m0aBGeeuopkeJ58OBBBAcHK6vdEKGhoXj55ZdFQPPDDz+IfpbUtWzatEkMynTw4EGEhYW12KJrSKVSYc2aNfDz8xNppg0NDdi3bx+ee+65Vi2LCK34/ZBek+Ts7Iy6ujqsXbsWK1asUFYjIiLqEtgySz3OvHnzsGvXLixatEgMBuTr64v4+HiEhoaKQLaurq7J4D83ir+/P5566ilxI1pbW4vdu3crq1EXkZycLNKA77zzzlY/EJFSkbOyskQLrTS40rvvvttkpHKi5rTm92P69OliJOOzZ88iOTlZWYWIiKjLYMss9TgRERGYM2eOSKMzJS8vD48//vgNbQVLT083+t7OrrBt1Lz4+Hjxbl2eL7oRWvv7MW3aNLz++uvo378/rl69itWrV2PNmjWyOkRERF0JW2aJFBoaGnD48GEsWbKkyc1eV1BaWoq4uLguuW30P6tXrxaD94waNQqLFy9WViHqdKZ+P9zd3TFnzhz0798f9fX1+PzzzxnIEhFRl8eWWepxJk2ahNmzZ+OOO+5A3759YWNjg4aGBlRXV+P06dNISUkxa9TazmDYsnLt2jXk5ORg9erV2L9/v7IqEZEMfz+IiKi7YzBLREREREREVodpxkRERERERGR1GMwSERERERGR1WEwS0RERERERFaHwSwRERERERFZHQazREREREREZHUYzBIREREREZHVYTBLREREREREVofBLBEREREREVkdBrNERERERERkdRjMEhERERERkdVhMEtERERERERWh8EsERERERERWR0Gs0RERERERGR1GMwSERERERGR1WEwS0RERERERFaHwSwRERERERFZHQazREREREREZHUYzBIREREREZHVsXF3d29QTqTWGzBgAFQqFWxtbZVFRETURnV1ddDr9bh48aKyiIiIiHo4tsxawODBg+Ho6MhAlojIwmxtbeHo6IjBgwcri4iIiKiHYzDbTgMGDECfPn2Uk4mIyIL69OmDAQMGKCdTGyQmJiIvLw9BQUHKIosJCgpCXl4edDqdssiqREREIC8vDxEREcqiJjrjuBIRkRyD2XZSqVTKSURE1AH4e0tERESGGMy2E1OLiYg6R1f/vW1NKx51nu7SSkxERE0xmCUCMGnSJHz66acICwtTFhFRB+H3joiIiNqDwSxBq9Vi06ZNSEhIUBa1W3R0NDZt2gStVqssAgzWHR0dLZs+adIkpKSkICUlBZMmTZKVWZpWq8UzzzyDX375BevWrVMW33DSsVAeo46UkJCAjIwMREZGKou6lcjISKSlpVk8mJLOWXPHLzIy0uj1HR0djYyMjE493y0xtT/t/Z7u3LkThYWFmDFjRpvmJyIiop6t2wezixYtwv79+7F//34sWrRIWWz1pJvJjIwM2V9zASTJzZ07FwAQHx+vLCKiDrZgwQKUlZXhmWeeafdvlpROWlRUJP4SExOBxsF5srKy8Oqrr+LYsWM4duyYLB04PT1dNp8yJdXYstPT0wEAvr6+yMrKwty5c6FSqTB37lzZuo3Nb2ygoMTERNnys7Ky4OvrK6tjSFpva+ZpjnL9xrYRJtYrHYvmRERE4NixY2K5Op2uyXkwrCedA8M0YeU2Gh5jY9LT0xEbGwuVSoWQkJAm26pcnrHtkbR0jZjS1vmIiKhl3TqYXbRoEWbOnAkHBwc4ODhg5syZ3TKgBYBDhw4hICBA/M2cORM5OTnKalZj586dmDZtGqZNm4adO3cqiy0mLCwMrq6uOHDggFUfL0sLDw9HQEAAYmJilEXUwRYsWICAgAAsWLBAWdTlWOp7mpmZCUdHRwQEBCiLzBYREQGdToeSkhJ4eHjAw8MD8fHxuHLliqijVqsREBCAsLAwjBgxAnFxcSIwU6vVmDVrFjw8PLB582aEhITIgo4ZM2Zgx44dsmW7ubkhMTER2dnZ8PPzQ3x8PPR6PeLj4+Hh4YHQ0FDZtuXm5or5S0pKsHTpUhEsJiYmwtvbG/Pnz4eHhwdmzZqFc+fOifUb88gjj6CoqEgsc/78+VCr1ViyZImyarOkY2C4fmkbdTqdLLiLiIjAunXrUFVVJVuvq6trs4F0REQE5syZg+LiYnh5eSE5OVlZpUVS67203s2bN8PPz6/ZgDYwMBDz58+HXq/H5s2b4eHhgcDAQKAxSHZxcRHn3cPDA8XFxQgPD28SxIeHhyMnJ0fUy8rKanKNKJl7bRERUdt162B22rRpyklGp1HP5e/vj8rKSmRkZCiLiKiTrFu3DiUlJRg7dmybWmd9fX0RHByM4uJiEagAQFxcHP7yl7+Iz/b29ti2bRuys7PFtEceeQROTk5ISkoS06OiolBQUAB/f38RnIWGhiIqKkrMFxcXh+LiYri4uIhppkyePBkVFRV45513xLQ1a9YAjUEyALi4uKCkpEQEednZ2QgODpZtq1JUVJQImAEgOTkZubm5UKvVJoNKYx555BGo1WosXrxYFmQuWbIEFRUVmDx5spg2efLkJsc5OTkZCQkJcHJywiOPPCKmSwwDWcP5Wqu8vFy2v1FRUSIIVwaf5khOTkZgYKDsGKelpQEA3NzcxDR7e3vk5ubKzn9oaGiTa0TJ3GuLiIjarlsHszeSlP77yiuvYNOmTSL917BfqtSf9JVXXhHllu6/Jw2w8sYbbyAtLQ1paWmy/zdcV0VFhegraSxVWZnSbKyfXFhYGNLS0kSde+65R1YOgz6BGRkZiImJgbOzsyiT+tCa2gZpfnOOm+G+GKun1WqhUqlw+vTpJq2y0r4q+xFL+yf1HVRub4aJvo6G+2xsv5THzdixraysNHktmUu5ngxFv1jD7TR2TJXXgLn7oyy3lObWEx0djYSEBHEdKP9fUltbC2dnZ9lylH1DlefP2Dk2vN6ioqLg4OAgK1ceuylTpsjKIyMjZetQboM5vykwckxM1WtJc/ujvO6V5zcyMhKbNm3C6tWrRbnh/xu7Fo4cOQIHBwfZ74G5fHx84OTk1OR7rFRTU4Pi4mLZNK1Wi+LiYsTFxcmml5WVQa1WQ6PRiGnK9FpPT88WA8egoCC4uroiMzNTFjSVlpaiqqpKBMNlZWXw9PRstpXRFMM0Vj8/vybb3RKtVisLpCXZ2dkoKiqCq6srgoKCxL4YO8779+9HRUVFk3Pr5OSE8PDwdgeyAIyu9+zZs7C3t5cFn62l0+nE8ZNSxQcNGiTKa2pqcPDgQdk8MHGNGGrNtUVERG3TrYPZlJQU5SSj0zrSxIkTceDAAQQEBGD9+vVwdXWV3aQ6OzvDy8sLkZGRCAgIQElJCaZMmdLkhqAl99xzj8kbVzs7O3h7e2Pt2rWorKzEvffei5SUFFRWVmL06NGyZQBAQEAAdDodHBwc8PjjjwONN9Lz5s1Dfn6+SGXOz8/HvHnzRNAVFhaGRx99FLt27RJ1Dh06JJaPxqBg5MiR0Ol0CAgIQGRkJMrLy0V5Tk4OZs6caXReQy0dt+joaLi4uIj1pKamora2Fh9//LEY5MnZ2RkODg64cOGCYum/pk/m5+fDxcVFFlSOHj1atORqtVpERUVBr9eL/V2/fj28vLxkwU5CQgK8vLywfv16Uc8wDXzSpEnw9/fH3//+d3FMqqurm/QhnDhxIk6fPm3yWmrJpEmTMGPGDNn5CVCkEkspruvXr0dtba1sfhiklRrub2VlJdauXSv2x9h1oNfrERUV1errujnmrGfYsGGoqKhAamoqhg0bBgBITU2VnVcHBwf8/ve/x8cff4yAxuvugQceEOXKa1an02HkyJFNzrFKpRLXo06nQ3V1tSg39v1JTU0V5QAQExNjdF6l5n5TpHOcl5eHAIPv16lTpxAeHq5clEkt7Y8531NnZ2f07dsX69evh6OjIwYNGoRPP/0UDg4O8Pb2VlYXvwNDhgxRFrVICjyMfZcNVVVVobS0VHz29fWFWq2Gp6enrE+jFBQaSk9Px4YNG2RpvQUFBbI6xri5ucHe3l7015T+NmzYIAtmQkNDRdpskZl9X6X+njBIvc3KylJWa5Z0DMwh7UtrBDSmjkst0V2J1Df3oYceEunV8fHxRn/7Wqs11xYREbVdtw5mly1bhk2bNqG6uhrV1dXYtGkTli1bpqzWoQ4dOiSChXPnzjX5R7K6uloWCFRUVMjKzaXsM6u8cc3Pz0dhYSEAIC8vz+gNj+ENrxTM3XbbbdBqtXjwwQdRXV2Njz76SNT/4osvAEDcmPr7+6OkpMRkP8tJkyZh5MiR2LNnT7v618GM4+bk5ISysjKxntzcXNECJxkyZAjs7OwM5pJT7p9Wq8Vtt90mWnIDAgLg6OiIzMxMMc+6deuQl5cnjltYY5/cXbt2mRwpeefOnaI/FhoDhdOnTyur4dChQ6IfpZSWOWrUKGW1FrVlHmOkwCkrK0t2Po1dB5mZmSaDmLYyZz3V1dXiPFZXV2Pjxo2irkT5kMPwvBu7ZpXfjbCwMLi4uCA1NdVoyxEAo9+ftmruN0UKBH/88UfA4FpSqVRmP0gwZ3/MUVtbK74btbW1SE1NhV6vV1aTsbOza1PL7IULF1BTU6Oc3KLs7GxUVVWhoKBABIOGf1LfTp1OBzc3N8THx8vSXM1RXFyMmpoa0V9T+WfYWhkVFQUPg76v7733nsn02YiICIwdOxabN29uV4undAzMIe1La6SkpKCqqkrWP1jS1vOmZKzFvSWGqelt7cMLIw9IJOZeW0RE1D7dOphFY0Dr4+MDHx+fTg9kuwPDtD9nZ2fExMQYTT3UNqbsKoNKQ9KNtmFLbEepqKiQtb55e3vDzs5Otm5lIKC0c+dOlJWViX58AQEBcHBwEMEOGm/SjQ3SYnjcamtrW9xnZUq0sfRsY1oTpOzcuROrV6+Gi4uL0Rb81nrssceQn59v9OHFsGHDZPvzxBNPNPvgoK06cj2GaYZTpkwxeX6k82zsOpA4OTlBr9e3Kzg0h7QNUsaF9ACmNes2Z386ijnfFWOkQGbMmDHKohaVlZWJNNrWkFJuWyKlE5v7PYVBH1Qo+m62xNfXFx4eHsrJLTJ1DKTlSSnIze2LqVTvK1euYP78+SYDWnt7e9l3DY3n0dj32Nh6tVqtyYCyLYyt297evsm1JR2bqqoqk/2aTR1XIiKynG4fzFL7VFdXi5vL8vJykXZo+BcTE4OcnBzo9Xo4OTkpFyFIN8dtaXlpCwcHB0RFRSEjI0OkkRq2jpaXl6O6urrJjZQhw5a+UaNGyVp7m2N43FqiTIluLnVTqTVBChRpwjqdDi4uLm0KaKUUW1Mj7p46darJdTJ58mSTrdNt1ZHrMUxZTU1NbbIeKVXcnPTYioqKVj14aC+p20FMTAz0en2TTI3mmLM/HaE9QXRycjJ27NjRZGTbiIgIvP/++7K6Slu2bAEar2XDtF6dTidGnJWuBcOAZs6cOVCpVOIzTATV2dnZyMzMNNofNikpSQQ6hv8Pg2WYanGUWkkNr6nnn3++Tf0w33nnHaPB5pIlS6BWq0WKcHZ2NpKSkuDm5iZ7vU1QUJDoF2s4SJIkOztb/GYYrkPqZ/vQQw+JaVKLszGenp6yUYATExPh6enZpD+ykrEgXGo5NQw2m1v32LFjZaM6L1myBE5OTkhrHDDKGHOuraDG1w6Z82ojIiJqisGsFdAaDLZibOCZjhAWFgYvLy/xypoff/wRjo6Oog+tMcrW0OjoaFkLlhQ8Smmu2sY+p5YObqXUUMMAxFiAIwXgUrqoMevWrUNZWRl8fHzQv39/WUpxbm4u0NhCKVEet9zcXFRXV2PGjBmyvrfNkZbRnMjISDGoTFtJLc+tFRkZiZEjRxpN2UXjQD7Dhg1rsT+vdF0bG2jKHOaup7Uee+wxVFdXIyMjQxwjwz60SsrWUKl/rOGASRcuXICjo6NIf46MjGwyAJQlSOnMhg+dWhPIwsz96QiteVhkTFRUFOLj4zF27FjRN3HOnDk4cuSIsqpMcnIyZs+eDQCiT2xRURH8/f2xbds2oHHk4uTkZNGftaioCDk5OU36zEqjCUv1pODV2LYVFRXh2rVrItW0X79+iI2NFWXe3t5NRhc2JLXeurm5iXkAGO1C0pLsxlcLlZSUyLZBrVZj9uzZsm2Ii4tDVFQUXF1dRb3Y2Fjk5uY2m+6cnJyMxYsXAwBiY2Oh0+lkQa603uDgYCQmJhrNmklJSYG/v79Y79ixYxEfH280gDZk+EChyOA9s0uWLEFVVVWL666pqUFycjLCw8PFul1dXREVFdVkcCdD5lxbRETUPjbu7u4NyolkPnd3d+UkQDHgi9R6JU3bs2cPYmJixMAyq1evFjdw0dHRuO2226DT6USLm2HQZ9hv0nCZyhvN8vJy6HQ6ODs7i+346KOPEBUVhdOnT8v+f8GCBUhISBAD5MBIP0IYDLhjmIJVXV0t237D5Zw6dQpHjhzB2LFjxf4otzc1NRWjRo1CRUUFFixYYHQdUGyPOcfNVLCgPH6GgwgZS5eFQeBhbBAd5f6gcZ+Uy1IeX+n8GDsm1dXVyM3NlbVCKIN+5XE3h7Fja7gdzT1ckI6bclslyuvF2PE3XJdEOi7Gjq05mlvP448/Lq4Tb29vPPDAA03+f8iQIU2OibFtUZ4/KK4lw2NbW1srbroPHDggrgXDhzvl5eXIzMxEQEAA/v3vf2Pnzp1G1wGD7THnN8XUOWzt9dLS/hi7lmBwHTg7O4tsCDS+fkZqpZL+3/C3RbkfzTl58qRyEnVzQUFBWLp0KXbs2NFi4EpERD0Lg9l2MhXM0o1jKkCNjIw0mm4sjdyqDLSo40nnKi8vz2TKMpnP2LUsBbitTTfuTMa22xQGsz0Pg1kiIjKFacbUY4waNcrogE3x8fEAgLlz58qmU8fz9/cHDEbfJcvz9vaGo6Njs4Oz3UhSn3HD0cmJiIiIzMGW2Xa69dZbYWtrq5xMN5iyvy5MpLlKJk2ahGeffRbbt29v0re2qzO2r0rGUp9vJCk9uLXpr9Q8U2ngqampyM3NNVpmqLnvSEdo7feurq4OZ86cUU6mbo4ts0REZAqD2XYaMGAAHB0dlZOJiMjCKisrcfHiReVkIiIi6qGYZtxOFy9exNWrV5WTiYjIgq5evcpAloiIiGQYzFrA+fPnUVlZibq6OmURERG1Q11dHSorK3H+/HllEREREfVwTDMmIiIiIiIiq8OWWSIiIiIiIrI6DGaJiIiIiIjI6jCYJSIiIiIiIqvDYJaIiIiIiIisDoNZIiIiIiIisjoMZomIiIiIiMjqMJglIiIiIiIiq8NgloiIiIiIiKwOg1kiIiIiIiKyOgxmiYiIiIiIyOowmCUiIiIiIiKrw2CWiIiIiIiIrA6DWSIiIiIiIrI6DGaJiIiIiIjI6jCYJSIiIiIiIqvDYJaIiIiIiIisjo27u3uDciJRTzZgwACoVCrY2toqi8jC6urqoNfrcfHiRWUREREREVGz2DJLZGDw4MFwdHRkINtJbG1t4ejoiMGDByuLiIiIiIiaxWCWqNGAAQPQp08f5WTqBH369MGAAQOUk4mIiIiITGIwS82KiIjAsWPHkJWVBV9fX2Vxt6JSqZSTqBO15fhrNBpERkbC399fWURWyNfXF1lZWUhPT1cWkQlBQUHIy8uDTqdTFvVIiYmJyMvLQ1BQkLKoS0tMTOwR/84SEVkag9l20ul0KCoqQmJiorIIsOJ/WHsiphbfWOYc/1mzZuH777/Hnj17oNVqsXTpUjz33HPQ6XQYO3assnqrqVQqbNu2DUePHkVkZKSymIiIiIi6EAaz7RQVFYWCggJ4eHg0eaIaFBQEb29v7NixA8nJybIyImodd3d3PP7447C3t8fGjRuRk5ODixcvoq6uDhUVFSgvL1fO0ix3d3fExcXhwIEDWL58OQBAr9dj7dq1uHLlCmbMmIEJEyYoZ6MuoKe2Rlp76521bz8REXU9DGYtIC0tDU5OTnjkkUdk02fMmIGqqips27ZNNp2oLSZNmoSUlBRER0crizpMQkICMjIyukQrZXBwMDw9PVFQUID169cDjQ+T7rjjDkybNg0nT55UztIsjUaDcePGwcnJCb16/e+nMCUlBZmZmXBxccH06dNl8xARERFR18Fg1gLi4uJQXFwMf39/8cRZapXNzMxEdna2chYiaqXx48ejoaEBX331FfR6vbLYor788ktUVVVhzJgx0Gq1ymIiIiIi6gK6fTC7aNEi7N+/H/v378eiRYuUxRajbJ011ior9a+V/o4dO4aIiAiDpZjuY6vT6YzWV/Lx8cFHH32EH3/8EUVFRSgsLMTBgwfx2muvyQbYSU9PR1FREVasWIH//Oc/OHr0KAoLC3Ho0CG88MILsmUaWrVqFQoLC5ukirm7u2PXrl04ceIE/u///k82j0Ta//T0dDz99NP45ptvUFhYiOPHj2Pbtm3w8fERdUNCQpCSkiLbj+zsbDz99NOijlarRUJCAvLy8kSdvXv3YuLEiWIZqampOH78OIqKinD8+HGTfZvJuPDwcAQEBCAmJkZZ1KkCAgIwePBgVFRUYP/+/WK64TUFgwGEjh07hr///e/45JNPcPz4cXHNBgcHi/k2bNgAjUYDNF4rhn3ft2/fjjNnzsDJyQn33XefWF9nS09PR3p6uhiITfrtMHYdS/tu+BtjzkBKhim7iYmJzf4+ofE3ynAdxrZFWqZUx9hvGows66WXXlJWaSI9PR2xsbFQqVTivBnup6WPg7F9NLYO5W8ijOyfYR1jy1CuRyKdfz8/P2g0GmzYsMHo+THn/CmvJWPbrWRsW03Np9znvLw8vPvuuya3Xzruyn2X1ml47pTXVZGZ59aQqX9Lja3P2H6bWl9z/763ZrvvvPNOs747RET0q24dzC5atAgzZ86Eg4MDHBwcMHPmzA4LaKXWWa1Wa7RVNj09HUFBQYiPj4eHhwc8PDxw4MABzJ0712L9viZMmICVK1eKoLCgoAAXLlxA//798eSTTyI2NlY5C373u99h7NixOH36NKqrq9G/f3889dRTmDZtmrIqAOC7775DdXU1nJycZMHn/fffD41Gg6qqKhw4cEA2j5KTkxNefPFF1NfX48yZM7CxsYGXlxcWL14MT09PAMDDDz+MO+64A6WlpcjPz0dZWRkGDhyI559/HtOmTYNKpcKSJUtEn8bjx4+juLgYDg4O6N+/P6ZNmyZSUC9evIj8/HyUl5fD2dlZsTVkDUaPHg21Wo3KykqzMh1sbGwQEhICDw8PnDx5EjU1NdBoNPjb3/4GrVaL8+fP4/jx47h69SoA4Pz588jPz8epU6fEMoqLi9GnTx8MHz7cYMmdz9PTE8HBwQgLC4OHhwc2b94MPz8/2e9GREQE1q1bh6qqKvH7Mn/+fLi6upoMOpRCQkIAQMxfXFyM8PBw2Y10eno6vL29MX/+fHh4eCA+Ph5jx46VBSIRERHQ6XTIzc0VyyopKcHSpUubXdasWbMwZMgQ8YDBlMDAQMyfPx96vR6bN2+Gh4cHAgMDAQsdh0mTJgEGx0E63ob7+Mgjj6CoqEi2DrVajSVLlog6iYmJTfbv3LlzQGOQFBsbK9vO+Ph4XLlyRcxvKC4uDiNGjEBWVhZKS0sxa9YsjBgxAnFxcaKOOedPp9Nh7ty5SE5OFtsEALGxsc0eG3P2F43ndOzYsbJ/5/Lz85GWltbi9ptjxowZ2LFjh+yYubm5NQmEm/PNN9+gpqYGY8aMkU338fGBk5MTcnJygFZeS4mJiQgJCRHXo4eHBzIzM0W5udutVqvx/PPPY/HixeL8VFVVNfnuEBHR/3TrYNZYQGZsmqWkpaXB1dUVL7zwgqxVNiIiAq6urlizZo3sH+/Q0FAUFBTI0pPb49lnn4VGo0FpaSmef/55BAYGws/PD8nJybh+/TrGjRuHhx9+WDZPbW0t5s2bh8DAQCxatAiVlZXo168f7r33Xlk9SXJyMoqLi2FnZye7Gbj33nvh4OCA48ePY/v27bJ5lPr164dPPvkEfn5+mDBhAt59911cu3YNt99+O/7whz8AALKysvCXv/wFAQEBmDp1KiIjI1FWVia27e6774aLiwtqa2uxbt06TJ48GQEBAYiMjMQPP/yA4cOHQ6VSoaysDJGRkZg6dSomTZqE1atXKzenWVI/1YSEBNn0sLAwpKWlyfqSSv1LpT/lPAAQHR0tq7Np0yZZGqu0XKk8JSVF3FxLKisrsWnTpmbX0xLlepT9Yg23My0tDWFhYbL5peNiOL85+6MsN9egQYNgZ2eHiooKZZFRtra2uHDhAmbOnInAwECsXr0a165dg4uLC+677z689dZbeP311/HLL78AAPbu3YupU6fKHnb9/PPPuH79OgYPHmyw5M6n1+sRHR0tgvht27ahtLRUdhwnT56M4uJiEdSh8buakJBgtD+/MQUFBQgNDRWf09LSYG9vj3HjxgGNv2Nubm6yAe2kAbS8vb3FzfbkyZNRUVGBd955RyxrzZo1QONNvbQsV1dXJCQkiGVlZ2cjOjq6XSnkljgO5eXlsuMQFRWFrKws2T5GRUXJ6iQnJyM3NxdqtVr8lru4uKCkpES2f8HBwcjOzoZGo4FarRaBExqP5V/+8hfxubVaOn++vr7w9/dHQUEBoqKigMZtSkpKavHYmLO/Op0Obm5uTf6dCw4OttgAiKGhoWLbYfAQ2cXFRVavOcnJySgpKYGHYtDGMWPGoKKiQvy7be61FBERgbFjx2Lz5s2ybfvLX/4ijoO5221vb4/ExMQm3wkYfHeIiEiuWweznS0uLg4lJSW47bbbZK2yY8aMQVVVlSw9UpKTk9OklbMtxo4di1tvvRXXr1/Hzp078dVXX4myrVu3oqKiAmq1usnT6AMHDoi6GRkZKC8vR69evXDTTTfJ6kn0ej327t2Luro6DBs2DFqtFnfffTd+85vf4Nq1a7L1mlJaWiq7udmyZQtKS0thZ2eHQYMGAQA+/fRTBAQEICUlBQcPHsTatWsxcOBAsW2lpaWorq6GnZ0dHn/8ceh0Onh6emL37t0oKChAWVkZampq4OLigsWLF2POnDkAgM8//1ys1xw7d+5Efn4+XFxcZEHl6NGjUVlZiYyMDKAxkFWpVIiMjERAQAB0Oh1cXFxkgWZCQgK8vLywfv16BAQEICAgADNnzhQ3tJMmTYK/vz/+/ve/i8C8uroazzzzjCxwmThxIk6fPo2AgACsX78erq6urRqgadKkSZgxYwZ27doltkOZSrxgwQKx/NraWtn8aDwu06ZNE/OuX78elZWVWLt2rdifsLAwPProo7L16PV6REVFtTqg7d27N2xsbHD+/HllkVF1dXXIzMxEQUEBACAvLw+VlZXo3bs3HBwclNWN+uWXX1BfX6+cLCjTNdv6p2zlUTIMiNB4g1tVVSUCiaCgILi6usoCI8n+/ftRUVFh1vFWzl9cXIyamhoMHToUMHKzLzl79izs7e3h5uYmtkU5VkBpaSmqqqrEzbup30SpXlt01HGAYh8NpTd21ygqKoKfnx/UarVoWS4rK4Onp2eT1jcY7GdQUFCTdNe2Um638vz5+PhArVYjLS2t2XrNaW5/tVptk24AHUGZ+uvp6SkLqs2h7Bbk6+sLDw8PFBUVITs7u1XX0pgxY1BTU4NvvvlGWVXGnO02dvyU3x0iIpLr1sFsSkqKcpLRaZZUVlYGvV4v+4etM/4Rkt7RWV9fL1qbJPv27UNlZaXRILW6ulr8v16vx/Xr12XlxuzcuRMXLlyAs7MzfHx84OvrC2dnZ5SXlzf5h9iYK1eu4PDhw+KzlAYq8fT0REJCAp544gm4ubmhrKwMX3/9NSorK2XzvP322yguLkb//v0REhKCzz77DP/5z3+g0WiQmJiITZs24dKlSxg+fDgWLlyIffv2Yf78+WIZ5vriiy8AAN7e3kDjTdttt92G06dPIycnB2FhYXB1dcWBAwfEzc/OnTuxZ88eEQRLdXbt2oV169bJli/ZuXMnwsPDxTJycnJw+vRpZTUcOnQICxYsAACsW7cOJSUlGDVqlLJai9oyjzFScJyVlYWdO3eK6f7+/igpKZEFyZmZmXBwcBDHsqM0NDTIUjbr6+vNurZbQ0r9lFIH2/rn5+dnVuq0KW5ubrC3t1dOtjgXFxfR39EwGJfSW2GwLVJfVunPsH+ytCxL66zjAIN+oTBI683KypLVCQ0NFSnKRYqHFtnZ2fDz80NxcTHmzp2Lomb6y1rKoEGDoFKpxPqkP6n/cXNa2l9fX1+o1WpUVVW161puSXp6urj+pO2QHli1hjIgfeSRR+Dk5ISDBw8CrbyWXFxcUFVVhdLSUmWRYKntJiKiprp1MLts2TJs2rQJ1dXVqK6uxqZNm7Bs2TJltQ5XVlamnGTS2bNnlZNapXfv3ujfv79s2vjx4+Ho6Ii6ujpcunRJVtYWOTk5OHjwIOzt7XHvvfdizJgxuOmmm3Dw4EGjT7KVevXqJbt5km6EGhoaUF9fj+DgYAwfPhwXL17EggULMHnyZPHuT0Nbt27F7373Ozz33HPYvXs3AOCBBx4QAesbb7yB8ePHY9myZTh+/Dj69euHJ554Ao8++qhsOS3ZuXMnysrKMHbsWGi1WgQEBMDBwUEEuWhM1zb2nlM7OzsMGTKk2TqGlKnK99xzj7KKUSqVyqxWJzTuz+rVq+Hi4iLW05ZUZcljjz2G/Px8o4NEDRs2TLY/TzzxBOzs7JTVWlRfX4+GhoZOTfm9+eabYWNjo5zc5Ugtax2trKxM9HdUBuRS/0dpWwz7Dhr+SSmbrflNNFdHH4eamhoUFxfL0koNU1CNiYqKgodBH9P33ntP1vcxMDAQHgb9ck0NCmQJFy5cgF6vl/VnNfwzTCM2ZM7+StkCbWFua7yUxhwfH29yW82VnZ2NoqIiuLq6IigoCFqtFsXFxSItuDXXUkvXsqW2u6X1EBH1VN06mEVjQOvj4wMfH58bEsiiMUA1lUpsLDXLWDpbS4FKdnY2zpw5g169emHSpEliYCQAmD59OpycnHD58mXk5eXJ5msraSCoO++8E3fddRcuXbqEL7/8UlnNqKFDh+LZZ58Vn2fMmAEXFxdUV1fj6NGj6NevH2xtbVFXV4fLly8DAH7729/illtuEfP4+vqKG4P0xtGRv//+e/Tq1QuDBw9GcHAwJk2aBL1ej//85z/Q6XQoLy/HzTff3KaAyLBFcdSoUSgrK5O1QppSW1srBn1pSXR0NFxcXKDT6URa7qFDh5TVjNLr9WY9SJAYpgkbS4k2l9SfS2opVjp16pQslTkgIACTJ0822TptyoULF1BbW4t+/fopiyyid+/eyknQaDSwtbU1O7X5RpGCAWO/EcpBbdqjud8xSXPbYsjUsqTtbYvm1t2a42Bsfq1W22zrm5SmaorU1xKNrX5KUr9cZdqpJRUXFwONabHtZWx/y8rKRHDYFsrWenOuBSkduC22bNkCAJg6dWqTlOLWXEumruXmmNpuY8uR1tfeB91ERN1Vtw9mu4KoqCgUFxdjzpw5sv5RiYmJcHNzQ1JSkkjNkkZaDA4OFjc1Un/QlnzyySf4+eefodFo8M477yA9PR1ZWVkICgpCQ0MDMhoHFLIEaSAojUYDjUaDs2fPiv6jLbl+/TrCwsKQkZGBr776Co888gh69eqFQ4cOITExESdOnMCVK1fg4uKCmJgYpKenIywsTBZwaDQaLFiwAFlZWfj888/x5ZdfQqvVoq6uDkePHsWYMWPw9ttvIyMjA59//jl0Oh2cnZ1x6dIlHDlyRLY95li3bh3Kysrg4+OD/v37y0aqzM3NRXV1NaZMmSJufiZNmoQHHngA+fn52Llzp6gzY8aMJgM6mRIWFgYvLy/lZJnIyEjRR7GtpJbn1oqMjMTIkSOxceNGZREA4MiRIxg2bFir+vOacuLECVRXV8PZ2dliN/uHDx8WmQp/+MMfkJGRgXfffVeUu7m5oba2FiUlJQZzdT3SID5ubm6ylr2goCCEh4ejuLhYNvhMW23btg0VFRVNRsiNiIjA+++/DzRuS2ZmptG+oklJSWI+Y8vy9fVFcHCwWS33xoINSx0HT09P2UjRiYmJ8PT0FP2ApVY7w3U///zzTUZhNtxfGASRxcXFCAoKQlJSkiiTgsOW0nTbEjhJpEGblCNh+/r6IikpyeT3ytz9feedd1BlZORdw+NgbPulVlLD427sWrhw4QKgCMbnzJnTYoq0KdJAUAEBAahSvEavNdeSqX/f33//fURERLRqu+3s7GT/9kvrM+yrrmt8BZDhOSQi6skYzHaSwMBA8Soeqa+St7c3oqKiZCM/Go6WKPWx0Wq12Lx5s2x5xiQlJSEiIgI5OTno1asXPD094eLignPnzmHlypUmW8/awnAgqLq6Ouzdu9fsUUjPnTuHlJQUaDQa3Hbbbbh69So+++wzvPzyywCAtWvXYuvWraiursbAgQMxcOBApKSkyFJ0S0tLcfr0aQwYMAAjR47ErbfeiosXL+K///0vli1bhpMnT+Lnn3/GbbfdhpEjR6J///44fvw4li1b1uZUviNHjsDT0xO//PKLrGUxJydH3FjExMQgIyMDUVFRyM/PF8c8JycHM2fORFlZGaKiokTareHovlLaslQ+Y8YMfPfdd2I95eXlqK6uxj333CPmf+CBBxAbG9uqlk7lCMMZGRlQqVSIj48HGluhpNGSn3jiCTg4OOCJJ55ARkaGaImVgnUHBwfZ/hiOfBwTE4PU1FRMmTJFtq62jGi8Z88enDt3Drfccgt+85vfKIvbRGq1v3DhAuzt7XHbbbeJByYPP/wwbr31VlRWVprVmnejxcXFISoqCq6urrK+kLm5uSZTQ1tL6udZUlKC2NhYsZ7w8HDZwGpRUVHilT2GfTOvXbsmG6V1/vz5qKqqEstat24dUlNTTbZ+GjIMmosM3tlpieOQkpICf39/Mb/0qhkpeJF+o93c3EQdNI7Abqhfv36y4+Tt7Y3FixeLYzBy5EhRtmHDBlRVVbW4jdJDgLlz5xp9V2pLpH68hn2aN2zYIN7jbYy5+2vq+ujXr5/YZ1PbL43sL22XsWshLi4OycnJog9yUVERcnJy2tX3VPpuFzUO/GSoNdeSsX/fR48ejf3797dqu0tLS3HgwAHxb39sbCxKSkra3a+eiKg7s3F3d29QTiQyx6JFi/DUU0/hwoULmDdvXos3/TqdDiEhISgoKGhyM9AVuLu7KydRJzt58qRykrBw4UI888wzyM3NRVhYmNkPT9pi1apV+MMf/oDdu3e363UpZD2CgoKwdOlS7Nixw6wWXCIiIrrx2DJLbeLp6YmAgAD07t0bP/zwQ4uBLFF7JSUlobCwEKNHj8YTTzyhLLaYwMBA/Pa3v8XPP/+MTz75RFlMRERERF0Eg1lqlXnz5mHXrl345JNP4ObmhtLSUnz44YfKanQDREdHy9J5jf1Zov/qjXLy5EkkJiaipqYGjz32WKtTlc2hUqnw3HPPoW/fvti0aVObU9KJiIiIqOMxzZhaJSIiAnPmzIGNjQ2OHj2Kf/7zn2a9WxZWkGZ86623ivf1Uuerq6vDmTNnlJOJOgXTjImIiKwPg1miRgMGDICjo6NyMnWSyspKXLx4UTmZiIiIiMgophkTNbp48SKuXr2qnEyd4OrVqwxkiYiIiKhVGMwSGTh//jwqKytRV1enLKIOUFdXh8rKSpw/f15ZRERERETULKYZExERERERkdVhyywRERERERFZHQazREREREREZHUYzBIREREREZHVYTBLREREREREVofBLBEREREREVkdBrNERERERERkdRjMEhERERERkdVhMEtERERERERWh8EsERERERERWR0Gs0RERERERGR1GMwSERERERGR1WEwS0RERERERFaHwSwRERERERFZHQazREREREREZHUYzBIREREREZHVYTBLREREREREVsfG3d29QTmRiIiIuq8BAwZApVLB1tZWWURdVF1dHfR6PS5evKgsIiLqsdgyS0RE1IMMHjwYjo6ODGStjK2tLRwdHTF48GBlERFRj8VglqxSUFAQ8vLyoNPplEUW5evri6ysLKSnpyuLmtDpdDh27BgiIiKURZ0uPT0dWVlZ8PX1VRZROyUmJnb5Y9tZ34/O1prvIxk3YMAA9OnTRzmZrEifPn0wYMAA5WQioh6JwawFSDeOiYmJyiLq4RhUUk+WmJiIvLw8BAUFKYssJiIiAseOHetSgXt6enqH73dbqVQq5SSyQvfffz+ysrL47wsR9XgMZruh1rTKtKYuUXfV1b4HXW17yHw6nQ6urq5YvHgxkpOTlcU3HFOLu4fDhw9j/vz5AIDnn39eWUxE1GMwmCXqQIGBgfDz80N2drayiKjbCw0NhZeXV4cGdXFxcRgxYgSioqKURZ3O19cX/v7+yM3N7dB9JgKA7OxsZGZmwtvbu0tmARARdQYGs0RERBbg4+MDtVqNgwcPKouswqRJk5CSkoKMjAxkZGRg06ZN0Gq1ymrUASIjI8Vxz8jIQEJCgrKKUd988w0AYNy4ccoiIqIeodsHs4sWLcL+/fuxf/9+LFq0SFncYaRBYsLDw5GXl4eioiIUFRU1GbgkIiICeXl5iIiIQHp6uqhXVFQkSzE01S9XOSBKeno6YmNjoVKpEBISYnSdEnPqJiYmyrapNf3AlPMqt106Rq+++iqOHTsm229pv6RpzfULamk9MDh+Le2HclkvvfSSsgpgYnlOTk7Kak36zJp7XUiU18T7779v9Dowh3LfDAeram7wKuU+GNt3w2NpmCIrbb+p/TNWt8jgfOt0Otk2G34nlNe+IeU2w8j+S+XmfA+MufPOO5s9DhLlels6dy1tj/K7oSw3RepbqtzOlravtdesoURFn1nD8224XlPXnnLbjH0fTfWZVV47ynVI80nlyusFRtZvrI6hMWPGoKqqCvv371cWNfkuK7fXGOX6k5KSTF7zlpSamoqAgADMnDkTOTk5ymJER0cjIyMD0dHRyiKL0Gq12LRpkwjs0tLSEBYWpqzWbtJ+dPR6DEnrVAarMTExCAgIQEBAAE6dOiUra05ycjJKSkr40IGIeqxuHcwuWrQIM2fOhIODAxwcHDBz5sxODWg1Gg0iIiKwePFieHh4ID4+Hm5ubk1uFgEgPDwcOTk58PDwgIeHB7KyshASEmLWDY+hwMBAzJ8/H3q9Hps3b4aHhwcCAwOV1YAW6ko3zN7e3pg/f77YrpKSEuh0OqM3nobS09Nl88bHx2Ps2LFN9l2j0WDKlCkICwuDh4cHCgoKEBQUhPfeew+ZmZnw8PDA/PnzoVarsWTJEtm8aGxJACC2b/PmzfDz85OtJyIiAjqdDrm5ubL9WLp0qeymXrnNs2bNwpAhQ6DRaEQdU8vbsWMHAgICZPVMMee6kI6/Wq3GrFmzxHHw8fFp0wAuQUFBcHFxEcvy8PBAcXExwsPDERQUhG+++QY1NTUYM2aMbL6IiAi4ubkhMzMT2dnZRvfd2LFE47mRrmlT16AkJCRE1I2Pj4eTkxPefvtt+Pv7i23OyspCUFBQi9eeMYmJiU3O7blz54AWvgemqNVqPP/88+Iczpo1C1VVVU2Og/KaMvU9MNTc9kRERGDdunWoqqoSx3/+/PlwdXVtNtCKiIjAnDlzUFxcLEv7NXf7zLlmWyMkJAQw+N4aXosS5baZ+j4ak5iYiJCQEHH8PDw8kJmZKcp1Oh3mzp2L5ORksWwAiI2NlT14Uq5fumZMcXFxQVFRkaxbgbHv8ubNm1v8fW/P/neUsLAwpKWlQa1Wo7q6WllsMXPnzoVerxfBXV5eHmbMmCF+7y1lwYIFYh0duR5JWFgYRo4cafFjV1ZWBrVabfL7T0TUnXXrYHbatGnKSUandZTa2lokJCSIG8e4uDgUFxfDw8ND9o+Ovb09cnNzZX2+QkNDUVBQAH9//xvyD9QjjzwCtVrdZBCTJUuWoKKiApMnT5bVNyQFQDt27JDt+4EDB5r07amtrUVSUpK4+UtLSwMAlJSUiOORnJyM3NxcuLq6NgmYysvLERoaKj5HRUWJIFyqO3nyZFRUVOCdd94R9dasWQMAmDFjBtC4za6urrLzlZ2djejoaOj1ejEfGpdXXFxsdL3mMOe6kI5/dHS0ODbJyclISEhAbW2tbHnmSE5ORmBgoOwmWzrWbm5u4hgrz8+YMWNQU1MjUtnMOZaS8vJys/sxFhQUiLrS8ejbt6/s2tiyZYvRgNscLi4uKCkpkZ3b4ODgNvdltre3R2JiYpNrBYprytzvgbmka88w2JauCycnJzzyyCOy+lAEsobztWb7zLlmW6OgoED2/UlLS4O9vb1IlWzN91EpIiICY8eOxebNm2XX31/+8hfExcXBt7Ffq+E1l52djaSkJNkxbO014+vrC7VarZyMRx55BE5OTrJrOSoqqtnf9/bsf0fRarX4/e9/j48//hhbtmxRFltUeHg4wsPDxecff/wRdnZ28Pb2ltWztB9//BEAMGTIEGVRu2m1WkyZMgX5+fkoKytTFrfL2bNnoVarb+iDDiKiG6VbB7M3WkVFRZN0M+kJquE/OjU1NUb7WBmr21m0Wq3sRk6SnZ2NoqIio4GlZMyYMaioqMC2bdtk08+ePQt7e3u4ubmJacpjVFxcjJqaGrP/sTeWAme4nqCgILi6uoqWRUlpaSmqqqrg4uICNJMeKNWTSMsztV5zKPcZRs61VqtFVVUVSktLZfWk49NWhqmXc+fOhUqlwqBBgwAABw8elAUUvr6+8PDwEIPZmHssJeaeQxg5j2VlZaipqUFxcbFseluVlZXB09OzzS2JSsbOofI4tOZ7YI7mrr39+/ejoqKiSaqhk5MTwsPDmwSyaOX2Gdtf5TXbGsp9kK7roUOHAq34PhqjfACjJPVrlR7mSJTb0NZrRvk7oNVqUVxcjLi4ONn05o6f9MBGef2bs/8dJScnB6GhoVi3bp2yqNvw9/dHdXU1cnNzlUXt9vjjj8PBwQFffPGFsqjdLly40K5/F4iIrFm3DmZTUlKUk4xOIzlTLQzmcnFxgUajwYYNG2T9vaTUws7k5uYGe3t70fdQ+tuwYYPsJlIZiJkiLa8jSce/qqrKZCtQa0U09g986KGHZCmlhq28yoBIOZiNucdSorypv5FCQ0NFCnqRGX0fLcHS34O2XHtS6rvUem7I0ttnSeZ+H41xcXEx+iBIMmjQIKhUKsydO1e231I/ZYklrhnpu+zp6SlbV1FREfz8/JTVhZb2oacZPXo0amtrOyTINOw36+LigrVr1zZ52NJekyZNwsiRI7Fnzx7s3LlTWUxERO3QrYPZZcuWYdOmTaiurkZ1dTU2bdqEZcuWKat1adINTWc+kc/Ozm7XusrKylBaWirrnyn9jRgxokkLRUeQWvWk1hbDvnOGf1JrlbmtiO1tGb0RfH19ERwcjGJFf0ml7MbXPEit7srWMXOPZWdp7XUaFRUFD4M+2O+9957J7IL2kK4lS38P2nLtpaSkoMpIX150wPZZkrnfR2NamvfChQvQ6/WIj49vst8eHh5Nug+09pqRWnZhcI0WFBQ0WY+Hh0ez30f6VWRkJO655x7k5+d3SCBo2G92z549iIqKQmRkpLJauzz22GMoKytDTEyMssgiBg0a1OoHXURE3UW3DmbRGND6+PjAx8enyway9vb2TfoBSimeytY5ZYuFj4+P0VF026usrMxoKrG0XcZSkCVnz56Fk5MTfHx8lEUWp0yrlKYpHwIYq2fI1DYrj29zyzM2rS2aS+UeN25cmwaAMmbMmDGws7OTTZNSM6dOnQpvb29ZSnFz+34jqRUDn0jpuKZIfUzR2NrZFs1dK1KLtKlrqq2aO/7SupUtSleuXMH8+fONBrSW3j5LMrVtyu+jMabmlUipu8rf3OaYc82Yerhi6re0OTk5OUb3wZz9704iIyMxZcoUHDp0CAsWLFAWW1xMTAxOnTqFUaNGKYvaLDIyEi4uLti4caOyyKLYkk9EPVW3D2atxdixY2WjtC5ZsgROTk6iX5cU4Hh6eooRMKUWN2VA0txNr5Kpuu+8847RG+AlS5ZArVYbTVuUbNu2DRUVFU1GJ42IiMD7778vq9tehscDjSOQenp6iiBMam001vctKSlJbJ+xbTZ2fE0tT6fTwdPTU3xuL2mAlQULFohALSgoCA899JCiZsukm2zDG2ppkByl5MbXPPj4+DTpd2hq36E4lp0pJycHGo0Gzz//vJg2Z86cJgG/cvuUfRJNfQ9MsbOzQ3BwsOzchIeHy/qgGrumYOb3wNj2ZDcOUuTm5iZ7NYu07uLiYqMDbmUbDE5l+H1uz/Z1NGPbZuz7aExUVBSKi4sxZ84c2W/q+++/j4iICCQ3Dnbm5+fX5FVPSUlJ4py2dM0YU1ZWBg/FoFjGvsto/M2Q1h/U+Moi6by2Zv8TExNlrx1KT0/v8Ff3dIbODmTR+EBSpVKhoqJCWdRmo0aNgoODA6KiokQ687BhwzBs2DCLvd5IeoCbnZ0N38bRs9uSFk9EZI0YzHYBNTU1SE5ORnh4uOhP5erqiqioKFmqnzTCsdRncd26dUhNTW3yNNYw6Chq4X2QpupmZ2fDz88PJSUliI2NFdulVqsxe/Zsk62yaGbe8PBwfP7558rq7ZKSkgJ/f3+xjrFjxyI+Pl52Ux8VFSVeOWLYZ+3atWuykUKlFixpm00d36ioKFlfuqKiImi1WmzevFlWrz2Sk5OxePFiqNVq0adx6dKl+M9//tOm0UyXLFki27fg4GAkJiYaHRlZGlm2vLy8yXk251h2pqjGUaQNz0VOTg4KCgpk9fr16ye7Fr29vWUjdZv6HphSWlqKAwcOiHMTGxuLkpIS+Pn5IbuxJbs93wNT2xMXF4eoqCi4urqK5cXGxiI3N7fZNG/pekLj62d0Ol27tq+jteb7aExgYCAOHDgg6xc7evRokTIv9Yc17P+9YcMGFBYWivPX0jVjzMGDB6FWq2UtqsnJyZg9ezYAyPon+/v7Nxl8S9LW/Q9qZpCwzqRtfE9sW9/bam4gK70qaNOmTWY/iGrO448/DkdHRzGqsaQ96wkPD5e9/kd6j+ypU6cQEBDQ7P6Zo6uccyKiG8XG3d29QTmROk9ERATCw8ORkJBwQ/uokXUICgrC0qVLsWPHDqOtcJbAa5KobXx9fUXwadj31lJaWn5ERARCQ0PxxhtvmAy63d3dlZOESZMmYd68edizZ4/R/p0JCQkYNmyYcjLKy8uh0+lkAZVU99SpUwg3eM1OS7RaLaKiouDs7KwsQnV1NVavXi36zkrb6+DggNTUVKPb3Bzl/hjbD1hgPUpSyrqp49JSueTkyZPQ6XR46KGHWnzQQkTUXbFllsiKjBs3Dvb29rhw4YKyyGImT56MKiOvRSGi5kkt6sr39FqKsl+20pgxY3D06NEOC2qMtTIGBARg5syZTQLAzMxM1NbWtjplNycnBzNnzmyyjoCAAEybNk02CNTOnTuRn5+P2tpalJeXy5ZjDuX+GNsPWGA9SuGK9+i2lW/jO5Ol16cREfVEDGaJuqCIiAhs3769ybSgoCAcOHCgw1pMIyIi4Obm1uRdskRknqioKJSUlDQZb6A1goKCkJ6e3mRgs/Bm+kajMX3aWIvtjeDv7w8ATVJ2LUl65U1lZWWHvLZH0lnraQ2tVovY2FigcYwLIqKeimnGNxhTOskYKZ1YOZDR5s2bTd7ItkdERATmzJkDOzu7DlsHEZlHSidWvr85Kyur3cHqrbfeCltbW+VkQJFOi2bSbpsj9XdVpgRbWlvTmFurs9YjHTdJS+urq6vDmTNnlJOJiHocBrNEREQ9xIABA+Do6KicTFamsrISFy9eVE4mIupxmGZMRETUQ1y8eBFXr15VTiYrcvXqVQayRESNGMwSERH1IOfPn0dlZSXq6uqURdSF1dXVobKyEufPn1cWERH1WEwzJiIiIiIiIqvDllkiIiIiIiKyOgxmiYiIiIiIyOowmCUiIiIiIiKrw2CWiIiIiIiIrA6DWSIiIiIiIrI6DGaJiIiIiIjI6jCYJSIiIiIiIqvDYJaIiIiIiIisDoNZIiIiIiIisjoMZomIiIiIiMjqMJglIiIiIiIiq8NgloiIiIiIiKwOg1kiIiIiIiKyOgxmiYiIiIiIyOowmCUiIiIiIiKrw2CWiIiIiIiIrI6Nu7t7g3IiEbXdgAEDoFKpYGtrqywiom6urq4Oer0eFy9eVBYRERGRhbFllsiCBg8eDEdHRwayRD2Ura0tHB0dMXjwYGURERERWRiDWSILGTBgAPr06aOcTEQ9UJ8+fTBgwADlZCIiIrIgBrPUIYKCgpCXlwedTqcs6rZUKpVyEhH1YPxNICIi6lgMZi0sMTERRUVFsr/09HRlNeqGmFpMRIb4m0BERNSxGMxaiNQS6e3tjfnz58PDwwMeHh6YNWsW1Go1jh07hoiICOVsZunMVs7OXBcREREREVFbMZi1AF9fXyxYsABVVVWYPXs2kpOTRVl2djb8/PxQXFyM8PBwBAUFyealnkGr1WLTpk3IyMhARkYGUlJSMGnSJGU1aqXIyEhxTDMyMhAZGams0q1MmjQJKSkpiI6OVha1i3R9Nrdcad3KYxwWFoa0tDRs2rQJWq1WVnajmNofaR/a+v1Tfo/T0tIQFhamrEZERESdhMGsBTzyyCNwcnJCUlISsrOzlcUAgDVr1gAAZsyYoSyiHuTQoUMICAjAtGnTsHPnTmUxtVJMTAwCAgKg0+lQXV2tLCayqJycHMycORMBAQFYv349amtrlVWIiIioE3X7YHbRokXYv38/9u/fj0WLFimLLUKr1aKiogL79+9XFgnJyckoKSmBh4cHfH19RTpvYmKirJ6vry+ysrJEP9v09HTExsZCpVIhJCRE1gc3MTERWVlZCA8PR15enuijm5eXJ2sBtsS6jJHmN+wfrFwHFP2IjaVbS9vXXD9jc/fVsH5L20VE7bdu3TpMnjwZM2fORE5OjrK4S9m5cyemTZvGh0lERETdRLcOZhctWoSZM2fCwcEBDg4OmDlzpsUDWl9fX6jValRVVZlslZWUlZVBrVZDo9Eoi0wKDAzE/PnzodfrsXnzZnh4eCAwMFCUq9VqPP/881i8eLHoo1tVVYWlS5caDfKa09K6DPn6+iI2NhZVVVWif3B8fDyuXLkiqxcSEgIAoo6xdOsZM2Zgx44dsuW4ubk1CUDN3df09HRZ3+X4+HiMHTu2yfKUIiIicOzYMVkQbPhnLBAnIiIiIqIbo1sHs9OmTVNOMjrNmtnb2yMxMVH0083Ozhb9xDoypVmj0UCtVstaYuLi4vCXv/xFVq+goAChoaHic1paGuzt7TFu3DgxLTQ0FFFRUeJzXFwciouL4eLiIqbBzH2NiIiAm5sbduzYIerFxcXhwIED8Pb2bjbAj4uLw4gRI0RQrfwbMWIE4uLilLNZTHR0tKz/p7F+fQkJCc32EZX6BBpbjtTfLyEhQdQ31bewufVERkaKvpNpaWlG68DEtijrNLceS2puPdHR0di0aRNeeeUVUd5RfSGl/qXSegz7mUZGRmLTpk1YvXq1KDP8f8P+qJWVlbK+m4bnFC2sR2J4vcXExMDZ2VlWDsVxi4qKgoODgyhTnl/lNhheW4bLUW6LcltNLa8lze2Psq+rchsmTZqETz/9FG+88QbS0tKQlpYm+/+OuBaIiIio/bp1MNsVVVVVobS0VDm5zYylN5eWlqKqqqpJMGhJ0jqCgoKaba1Uph0WFxejpqYGQ4cOlU1Xpix7enpCrVbD19dX1DFnX8eMGYOKigps27ZNVu/s2bOwt7eHm5ubbHpXERkZiZEjR0Kn0yEgIMBov9qEhASoVCpERkaKPnu///3vRWA2adIkzJs3D/n5+WIZqampBmsxT0vrAQAHBwc88MADiI2NRUBAAA4dOoQHHnhABN9hYWGYP38+ysrKxLYEBAQgJiamVeuxBHPW4+zsDC8vL1GnpKQEU6ZMaRIAtkdYWBgeffRR7Nq1SxwPvV6PqKgosR5nZ2f07dsX69evh6OjIwYNGoRPP/0UDg4O8Pb2FsuaOHEiTp8+LfbH1dVV7I8564mOjpZdb5GRkSgvLxfLh5HjpuyXLKXsBgQE4NSpU7J5Dd1zzz2oqKgQy3BwcMDjjz8ONF6zM2bMQF5enmw7Tp06hfDwcOWiTGppfwz7uh46dEg2r8TOzg7e3t5Yu3YtKisrce+99yIlJQWVlZUYPXq0sjoRERF1Ad06mE1JSVFOMjqtPbKzs1FVVdUk8DLGxcXFrHRka2A4SvPcuXPb1S81PT0dGzZsQFFRkWgFLSgoUFYzi4uLCzQajVie9CelO3dlyoDFUFhYGFxcXJCamioeEKxbtw4lJSUYNWoUAODBBx9EdXU1PvroI8Xc5jNnPQBQW1uLLVu2iGD7woULogwA/P39UVlZifj4eNl0ibnraS9z11NdXY21a9eKOhUVFaLMUvz9/VFSUiIL6DMzM2Xnvba2FpmZmeL/U1NTodfrRX3JoUOHsGDBAsDI/rS0nkmTJmHkyJHYs2ePyX6jxo5bW506dUpsa3l5uSwgHjJkCADgxx9/BBqDztOnT0OlUpn9IMGc/TFXfn4+CgsLAQB5eXnIyspSViEiIqIupFsHs8uWLcOmTZtQXV2N6upqbNq0CcuWLVNWa7ecnBw4OTnBx8dHWSQEBQXB1dVV3BhKLYodqaysDOjgdQUGBsLDwwObN2+Gn59fk4GbWqLT6eDm5ob4+HhZOnJrSftaVlaG0tJSzJo1q9Vpwjeyz2xMTAxSU1MxZcoUkQqpbKG0s7PDE088IUvFHDZsmCh3cnKCXq9vd/DR0nrM1dK2WGo9Lems9Zhj2LBhsu144oknYGdnp6zWJoYBYHPrkQJIZUusISlF99y5c8oii5KWL7V8arVa3HbbbS1eO4bM2R8iIiLqnrp1MIvGgNbHxwc+Pj4dEsgCwLZt21BRUYHg4GCTrbNz5sxBVVVVk/RXZSqwj48PnJycZNOaYyyIlpZx9uxZ2fT2rqs5UVFRyMrKMquFuiVS4K9kzr6ePXvWaD1z3Og+s9JrZgIa04OnTJkiC2hra2uxfv16UUf6k9IxKyoqWtWiZUpL67GU7rYec5w6darJdkyePBnr1q1TVm01wwCwufVIAaSxPrISKTCUAsWOds899yCjsa+rXq9v1bkxZ3+IiIioe+r2wWxnkAYiUqvVeO+992SDDEl9QV1dXREdHS1SjLOzs0XfUJ1OJ+oGBwc3aamRWlaNBSl2dnayIDooKAjh4eGyfqOWWpehoKAgJCUlic++vr7w8PBodRq1lJ46ZswYMW3OnDlQqVQGtX5lzr5KDxaUIyZHRETg/fffF5+7utzcXFk6pvS5uX6cFy5cgLOzMwICAoDGfrhTpkwR5Tk5OdDr9SLg1Wq1iIqKkgUB5qzHHEeOHMGwYcOaDCwlsdR6WmLp9UgDGSlbzc0hHZO2zNucyMhIuLq6ivTkltYjpfpKacnGrgNli6nUH9twAChLkFLjpX65bXnIYM7+3EjSvwFZWVntftBHREREcgxmLSQ5ORleXl7Izc1FbGysSE2V+m56eXmJ0XUloaGhKCgoEO90XbduHVJTU5sMEJWdnY3MzEx4enqiSPEO1tLSUhw4cECsJzY2FiUlJfDz85MFlZZYl9LIkSNl+1lVVWXyVT6mxMXFITk5GX5+fmJZOTk5RvvMmrOvUl/ekpIS2XkIDw/H559/rlxkl6EcyTgqKgr5+fmi32NOTo54EBETEyOrKwUtMTExOHTokEhVHjt2LHbv3i1bz8aNG+Hg4ICYmBjExMTg9OnTssF7zFmPOWJiYrB+/Xp4eXkZXYal1iMFl9JIu9K+SyPhWmo9Eqkv7dixY1sdHBtLJc8wMrJuc6TATWrJzMjIEANxSa27La0nJycHa9euhYuLCzIaW0MPHDgguw527tyJLVu2iPM3f/58pKWlyVJ5IyMjxbKHDRsmUpuNjcJtitS/W3luWrMMc/bHcMTke+65B87OzoiJieFIxURERFbOxt3dvUE5kaxDYmIiPDw8MH/+/Fa1hloja9hXd3d35SRBai06ffq0GAynM0RGRuKBBx7A6tWr2z04Dv2vhbKsrKzVLYjUlDRisk6nEynS0neltenGnS0sLAwzZszAli1bmk0TP3nypHISERERWQhbZomIzPTggw/CwcEBR44cURaRhXh7e8PR0bFDRpQmIiKi7oXBLFEnktJDW5NG2RMp066N/bUlTbitpDRVLy8vrF+/XqR/U/sYpr1L5/WJJ57Arl27sGDBApFGbuqvs9OEtVotNm3aJLZTOeYAERERdS6mGVsxa0i9tRRr2Ndbb70Vtra2yslE1EPV1dXhzJkzyslERERkIQxmiSxkwIABcHR0VE4moh6qsrISFy9eVE4mIiIiC2GaMZGFXLx4EVevXlVOJqIe6OrVqwxkiYiIOhiDWSILOn/+PCorK1FXV6csIqIeoK6uDpWVlTh//ryyiIiIiCyMacZERERERERkddgyS0RERERERFaHwSwRERERERFZHQazREREREREZHUYzBIREREREZHVYTBLREREREREVofBLBEREREREVkdBrNERERERERkdRjMEhERERERkdVhMEtERERERERWh8EsERERERERWR0Gs0RERERERGR1GMwSERERERGR1WEwS0RERERERFaHwSwRERERERFZHQazREREREREZHUYzBIREREREZHVYTBLREREREREVofBLBEREREREVkdBrNERERERERkdRjMEhERERERkdVhMEtERERERERWh8EsERERERERWR0Gs0RERERERGR1GMwSERERERGR1WEwS0RERERERFaHwSwRERERERFZHQazREREREREZHUYzBIREREREZHVYTBLREREREREVofBLBEREREREVkdBrNERERERERkdRjMEhERERERkdVhMEtERERERERWh8EsERERERERWR0Gs0RERERERGR1GMwSERERERGR1WEwS0RERERERFaHwSwRERERERFZHQazREREREREZHUYzBIREREREZHVsXF3d29QTqTW8/X1RWxsLDQajbIIAFBXVwe9Xo+ioiKkpKRg3bp1yiqdLiIiAnPmzIGdnZ2yCA0NDaiursbp06eRnJyMtWvXKqvccC0d85qaGpSVlWHfvn146623UFpaqqxCRERERERWii2zncTW1haOjo7QarV49dVX8eWXX2LSpEnKal2GjY0NVCoV7rzzTrz88st4//33lVW6PHt7ewwZMgQzZ87ERx99BF9fX2UVIiIiIiKyUj0qmHWa8g/cPOQu5eROZ2NjAzc3N7z++uuYMGGCsrjL6d27N3x8fBAaGqosshrDhg3DzJkzlZOJiIiIiMhK9ZhgduBj7+Nm999hcEg0HG7zVhZbXGlpKWbNmgUPDw8EBgYiLi4Op0+fRkPD/7K6NRoNnnnmGdl8N1JWVhY8PDzg5eWFt956C1VVVaJMpVLhrrtu/IOA5hge82effRaFhYWizMbGBnfeeaesPhERERERWa8eEcwOfOx92N/iDjQAtVfsoHlkORxu7fiAVlJQUID4+Hg89NBDyMrKkgW0o0ePxsMPPwwASExMRFFREYqKipCXl4dZs2YhKSkJx48fR15eHqKjo5GXlyfqfPvtt01adlevXi3Kjxw5gr/+9a+ycnPo9Xq89dZb2LNnj2z64MGDgca+qllZWWI96enpsno6nU6UFRUVQafTAQCCgoJk25+YmAgfHx9s27YNx48fF/sdFxcHlUolW2ZrpaenY/369aiurhbT1Go1xo4dKz5rtVokJCTg8OHDKCwsRGFhIQ4fPoyEhARotVpRT6JSqbBgwQLs2bMH+fn5Yj9+/PFH/Pe//4W7uzs0Gg1ef/11pKenIy8vD4WFhSgqKkJBQQH27duHV155RbZvxo6Jv79/k2Pyn//8B56enrLtISIiIiLqybp9MGsYyNo0AGgA6q7ZY3AnB7RoDBL/9a9/4cKFC2Jacy2eISEhuOeee2BrawsAOHjwIIqLi0W51AdX4u7uDi8vL/G5pKQEX3zxhfjcWoZBV0NDA86ePSsrb6+bb74ZK1euhJeXl9hHlUqFP/zhD3j99deV1VtNpVKhd+/e4nNlZSUOHDgAAJg1axb+85//YMKECejbty9sbGxgY2ODvn37YsKECXjnnXdkDwp8fHywZcsWzJkzB7feeivs7e1F2c0334wRI0ZAo9HA19cXf/zjH+Hp6QmVSgUbGxugMVXb1dUVTz31VLP7dvPNN0On0zU5JhMnTsRbb73FgJaIiIiIqFG3DmYHhvy7SSBr09AAmwag7qo9XB9eDgfXUcrZOlR2djZOnjwpPtva2uKWW26R1QEABwcHjB49WgRDAHDt2jXs3bsXdXV1AAA7OzuMGTNGlP/2t7+Fs7Mz0Bh8Hjx4ULYuc2k0Gixbtgx+fn5iWmVlJfbv3y+r11533nknBg0apJyM3r17w8/Pr10DNoWGhuLJJ5/ETTfdBACor6/Ht99+CwCYMGECnn/+efTv3x8AUFhYiLCwMLzwwgtixGONRoNnn30WaHxI8Oqrr+KOO+6QnQ9TysvLsXXrVjz33HMizTw7OxsNDQ3o3bs3AgICRGu8kre3t8nRmT09Pa263zIRERERkSV122DWOWgl7J09RSD7axD7ayArTau7Yg/Xh39Nge1MZ86ckX2W0ncN2djYiHRfLy8vhIWFITs7Gzt37pS17A4bNky0znp5ecHBwQEAcOnSJXz99deinjn8/PxQVFSErKwsPPbYYyIQvHbtGj799FOkpKQoZ2kXOzs7fPHFF/Dz88OqVaug1+tFmVqtxtChQ2X1W6LRaLBhwwYUFRVh6dKlIlBuaGjAd999J16HNH36dFFWXV2NDRs2IDMzEykpKdi5cyeuX78ONAaPU6dORXBwsKxFVK/XY8OGDQgMDISXlxdWrlyJn376CQCQnJyMiRMn4qWXXkJaWhrQmGa+detWkfKsVqtlDyEMNTQ0IDMzE4GBgbIgGI1BvrH0ZyIiIiKinqjbBrO9K+1lgay8dbbxv9cbUFv9vzTUzmKY+orGVkOlhoYG7N69G2+99Rb0ej0OHjyI0tJS5OTk4ODBgyLAcXJywn333QeVSgVvb2/RcnjmzBls375dsdTWaWhowKlTp6DT6fDGG28oi9vt7NmzWLFiBUpLS7F69Wrk5+eLMnt7+1YHs8ZUVlZi8+bNeOaZZ3Dy5EmoVCpZi/fFixdx6NAhUf+XX34R50OlUmHEiBEYPXq0SPmtq6vDxx9/jFdffRUFBQXQ6/V4++23MX36dGRnZ4vlPProo3jnnXfw2Wef4dtvv8WSJUvEg4ZevXqJBwVKZ8+exbJly1BQUICCggL8+9//RllZmSh3dnZuV4s1EREREVF30W2D2fKvX0FdwZmmgex1ANd/DWTr66+i4uAa5awdzs3NTfy/qb6otbW1KCoqUk4GAHz55Ze4dOkSAKBPnz4YM2YMpkyZAldXV6Ax4Nq3b59irrapr6/HqVOnlJMt4ty5c7I06GvXrsnKLaFXr14oLS0Vrb533323rC/w0KFDsXXrVjEA09y5c2FnZ2ewhF9bfCUtpVtPmDABu3btwrJlyzBlyhSMGjUKzs7OuPnmm81KUT537hwKCgrE53379qGyslJWh4iIiIiIunEwW3/tF5TvfQG1J07/GshebwxkG1tq6+urUZG9Cpd/tGzqbEsCAwNlwey1a9dw+vRpWR00BrPKdGTJ9u3bcfz4cfHZ09MTY8aMES1/5eXl2Lt3r8Ec5snKyoKfnx/S09NRX18PGxsbeHh4YOHChVYx8JD0ap6VK1eK1wqp1Wr8+c9/xqxZs5TVLU6lUiEiIgIeHh6wsbHBL7/8gh07duDVV1/FihUrZGnU5nJ3d5cNNkVERERERL/qtsEsANRdu4TzGU/j2olC2QBQdbVVqNgXC/2JL5WzdChPT08888wzcHJyEtPaOuLwV199JVoynZ2d4efnh169fj2dR48elaW8tkZpaSkiIyNx5MgRMW3EiBGYN2+erJ4h5StvBgwYICvvbG+//Ta2bt0q0oX79euHp59+Gp6entDr9WIALSjeTav8GzFiBOLi4kQrOBpHkPbx8RGfDT3wwAO49dZbgcbW8U8++QRz587Fhg0bUF1dbVbLrLOzs6zl2MvLSwxUhcb+uocPHxafiYiIiIh6qm4dzEpKd8/B1aKCXwPZmiqUf/UG9Cdb33LZVp6ennjxxRexbt063HPPPWL6tWvXkJaW1qYRh9PS0nDu3DmgceTjIUOGAACuXr0qRu1tK71ej8TERJHeamNjg4kTJyIsLEyUGwaELi4uCA0NhUajwd/+9jeMGzdOlN0o69atk7VeDxs2DPPmzcPhw4dlLeGDBg3CokWLxOjCGo0GTz31FLZs2SIC+Pz8fDEolK2tLR599FH83//9Hzw9PaHRaBAVFYWtW7firrvuEinKtra28PLygqenJwIDA/HEE0+IlvPm3H777YiJiYFGo0FgYCDmzp0LR0dHUX7y5Mk2tfASEREREXU3PSKYBYDSr57D5SO7UL7n/3DlXI6y2OIMR9ZNT0/HvHnzMHjwYNE6V19fjx07diAmJkY5q1lOnjyJ7OxsXL9+HTY2NqJVtq0tvUpJSUn46quvRBDn4OCAJ598Ep6enk0Cwt69e2PatGnIysrCSy+9JGtZvFFOnjyJjz76SKQbGwbku3btEiML29jYYNSoUVi1apUYyfm1117DXXfdJQbq+vTTT8WDAzSmE8+aNQvp6enIysrC7NmzMXDgQNTU1KC2tlbUGzduHNLT0/Hvf/8bw4YNE8eyOb1790ZgYCCysrLw73//G7fffrsoq6ysxM6dO2X1iYiIiIh6qh4TzAJA2bcrcOXc98rJne7q1atITExEZGSksqhVMjIycPHiRfG5Pe+WNeZf//qXLGi97bbb8NxzzwEAUlNTZem3kqtXr+LgwYPKyTeE9ModaeRnBwcHPProo/j666+RkpIiCzybk5OTg7fffhsVFRXKIplvvvkGeXl5Yn2ShoYG5Obm4sqVK7Lpxpw6dcroQFi1tbVIS0tDUlKSsoiIiIiIqEfqUcHsjVRTU4Nz584hOTkZs2bNwuuvv66s0moHDhxAeXm5+NyWd8s2p6CgAJs3b8bVq1eBxpGBf/e732HWrFnYsGED4uPjcfbsWdTX16OhoQEXLlxAbGysxYJpS0hISJCNFj18+HA899xz+Pvf/46oqCgcPnxYFmRK5+nTTz/Fxo0bxfSkpCTMnj0bn3/+OX755RcRsNbX1+Onn37Cl19+icOHD+ONN97Avn37REB65coVbN++HZs2bRLLas65c+ewZs0aVFRUoKGhAfX19Th79izi4uLw97//XVmdiIiIiKjHsnF3d5c3I5HVCA0NxcsvvyzSen/44QfR95OsQ1BQEJYuXSrOYVZWFkJDQ5XViIiIiIhIgS2zVsrf3x9PPfWUCIJqa2uxe/duZTUiIiIiIqJuicGslUlPT0dRURHWrVsnGxwoPz8f7733nqwuERERERFRd8VgthsoLS1FXFwcX9lCREREREQ9BoNZK3bt2jXs378fL730Er766itlMRERERERUbfFAaCIiIiIiIjI6rBlloiIiIiIiKwOg1kiIiIiIiKyOgxmiYiIiIiIyOowmCUiIiIiIiKrw2CWiIiIiIiIrA6DWSIiIiIiIrI6DGaJiIiIiIjI6jCYJSIiIiIiIqvDYJaIiIiIiIisDoNZIiIiIiIisjoMZomIiIiIiMjqMJglIiIiIiIiq2Pj7u7eoJzYndTX16Ourg7Xr19HQ0O33lUiIiIiIqImbGxs0KtXL9ja2qJ3797KYqvVLYPZhoYG1NbWoq6uTllERERERETUo9na2sLOzg42NjbKIqvS7dKMa2pqcPXqVQayRERERERERtTV1eHq1auoqalRFlmVbhPMXr9+XQSxTCcmIiIiIiIyraGhQQS1169fVxZbhW4RzNbX11v1SSAiIiIiIroRpEbB+vp6ZVGXZ/XBbH19vdU3jxMREREREd1INTU1VhfQWvUAUNJTBCIiIiIisgxrHxSIWtZct8w+ffqgVy/raPO0jq00gS2yRERERESWw0C2Z2juPFtTjGW1wWxNTQ37yBIRERERWUhzAQ51P6bO9/Xr160moLXKYLahocHq8rmJiIiIiIisQX19fbOpyF2FVQaztbW1VnFwiYiIiIiIrE1DQwNqa2uVk7scqwxm6+rqlJOIiIiIiIjIQqwh5rK6YJbpxURERERERB2vq8deVhfMWsMTAiIiIiIiImvX1WMvq3vP7JUrV9hfloiIiIjIwkyNbtuSefPm4b777pNNO3v2LOLj43Hu3DnZ9O5o3LhxGDJkCD799FNlUZfXUlxlY2ODm2++WTm5y7C6YLa6ulo5iYiIiIiI2qktwWxiYiK+/fZbbNmyRVmEN998E6GhocrJ3cqQIUPw5ptvYsiQIYiKisI333wjyqQgvysH9i0FswDg4OCgnNRlWF2acVf14YcfIi0tTTmZiIiIiKjbGjJkCFavXo1z5841+Tt79izGjRunnKWJ1NRUFBQUiL/U1FRllS5LapUdOnSobF91Oh2CgoIQGhqK+Ph4JCYmyuYz5Ovri3379smOwZEjR/Diiy8qqwIAPvjgA3GMPvjgA+zbtw++vr7Kaj0Cg9k2SktLw4cffqicTERERETU7el0OhQUFGDo0KEoKCjA7t27sXv3bsybN09Z1aTp06fj+++/BwB4enqKv8rKSkyfPl1ZvUv69NNPERUVhZdffhmrV68GGo/N0KFDce7cOcybN08E90OGDFHOLpOUlCSOwahRo7Bq1SpllSaeeuopjB8/HtnZ2UDjg4EPPvhAWa3bYjBLRERERERm0+l0KCkpkQWgEydORGhoKFxdXc1qjfX19UVkZCRyc3MxZcoUWdmjjz6KrVu3yqZ1Zd98843oLysFsqGhoXj55Zdx3333Yd68eRgyZEiXTDO2dj06mJVSgz/88EOcOHECJ06cEKnCy5cvx9dffy1rsl++fDl++OEHHDx4EMOHD4efnx+OHj0qSwFIS0sTyzJsufX19cXXX38tygznmz59Og4cOID33nsPR48exYkTJ5Cbm2s1T6SIiIiIqOcYOnSo0T6y586dQ0lJiVnB7Lhx42Bvb4/k5GRlkcwHH3wgS781bHWU0m0N60jpt8ZaKFNTUzs0hdkwkEXj8YiPj8fcuXMRFRWlrG625cuXi/37/vvv4ejoKCvbt28fnn76aezbt0/EKM2lKXcnPTqYBYDhw4eL/z7xxBNQq9X48MMP8e2338Le3l72Zbznnntw6NAhjBkzBidOnEBWVhbuvPNOkQIwfPhwHDp0CMOHD8fmzZsxduxYvPjii/D19UVMTAyqqqowfPhwDB8+HMnJyfjzn/8sAlZ7e3uMHj0a4eHheOKJJ3D58mXMmTNHrJuIiIiIyNqcPXtWOQkAMHDgQNTU1ODChQvKIuGDDz6At7c3FixYAE9PTyxYsADe3t5Yvny5qCPdy3t6euLJJ5+EWq3GBx98gJycHNx+++2iYWr69OlwcnJCenq6mNeS5s2bJwtk0difeO7cuQgNDZUNDGVKcHCwCFqlfrDLly/H1KlTxTFYt24d7rjjDuWsOHLkCMaPHy9iFHPTlK1djw9mT5w4gSeffBIAkJ2djT179uD222/HhQsXcPToUUyePBkw+AIcOnRIsYT/OXHiBP7xj38AAFJSUnDx4kUMHDhQPHlas2aNqJuSkoLLly+LYcxramqQlJSE7OxssR1qtbrHduYmIiIiIuskpdZK/UbbwtfXF7fffjs+//xzkXK8detW5ObmQqvVinonTpzAU089BTTey2dmZuL2229HYWEhAGDatGlA4zbV1NSYFVS2hTTYk0Qa5Tg+Pt7sdRr2mZX6wWq1WuTm5opjsGrVKhw4cEA5a4/V44NZpZ9++gk1NTUAgEOHDsHJyQnTp0/Hfffdh4qKijY94TD25Ck7OxtVVVUYOnSorC4RERERkbU7e/Zss6/l+emnn2Bvb49BgwYpiwAAgwYNgr29PX766SfZ9HPnzjXb4CPdyx85cgSFhYUi8NVqtcjMzBQDJVnSH//4R1nA2pZA1hhfX1+o1eo2PxDoCRjMKgwcOBD29vZAY2fumpoa3HfffSLFuC2a+7KaSr0gIiIiIuqqTDXIuLq64tNPPxUDIplieJ9tzIULF1BTU4OBAwcqi1BVVWUyKDW8l8/JyYGTkxNeeOEFqNVqfPvtt8rqFjF06FCUlJRgyJAhmDdvHhITE9sdyMKg8Us5CrKxY9JT9fhgdtiwYbKBmB566CHs2bNHlu770EMP4aabbkJKSopydrNIX1bDPrDLly/H4MGDO+xLRURERETUEV5++WXodLomf4mJiRg6dGiLgSwMUoKDg4ObDNT08ccfY9CgQSgsLMTUqVPFGDPTp0/H1KlTkZOTI+oq7+WnTp0qWmBXrVqFiooKhIaGorCwsMNGSD579iyCgoLw5ptvAoDZfWTN8dNPP8Hb21scgxdffBHDhg1TVuuxenwwW1paiuDgYJw4cQIxMTHIzc0V/V4BiGDzzJkzsidAaWlpGDt2bJPRjI3Jzs5GZGQk1Gq1GM34oYcewmuvvdZhXyoiIiIioo5w7tw5hIaGIjk5WfYXHx/fbGqx0j/+8Q8xqJPhiMXXrl3D1q1b8dRTTyE3NxfR0dEoKChAdHQ0Pv/8c9m9emlpKf70pz+JcuW9fE5ODlQqlSwAtrRPP/1UvJpo9erVbU4LNhwAqqCgAMuXL29yDP70pz8hLy9POauQnp6OsWPH9pjRjG3c3d0blBO7surqauWkNvvwww8xcOBAMciTMdOnT8eiRYuwYcOGNvWXJSIiIiKyBjY2NspJXdoHH3yAgQMHNnlPraHly5fD398fCxYsMJma3JM1NLQcCjo4OCgndRk9vmW2JXPmzGnzwE9ERERERHRjKNOOqfthMGvC8uXLceLECajVarz++uvKYiIiIiIi6qJSU1ONph1T99Kj04yJiIiIiOhX1pZmTO3HNGMiIiIiIiKiTsZgloiIiIiIzGqlo+6jO5xvBrNERERERAR0kwCHWtZdzjP7zBIREREREZFR7DNLREREREREZEEMZomIiIiIiMjqMJglIiIiIiIiq8NgloiIiIiIiKwOg1kiIiIiIiKyOgxmiYiIiIiIyOowmCUiIiIiIiKrw2CWiIiIiIiIrA6DWSIiIiIiIrI6DGaJiIiIiIjI6jCYJSIiIiIiIqvDYJaIiIiIiIisDoNZIiIiIiIisjoMZomIiIiIiMjqMJglIiIiIiIiq8NgloiIiIiIiKwOg1kiIiIiIiKyOgxmiYiIiIiIyOowmCUiIiIiIiKrw2CWiIiIiIiIrA6DWSIiIiIiIrI6DGaJiIiIiIjI6jCYJSIiIiIiIqvDYJaIiIiIiIisDoNZIiIiIiIisjoMZomIiIiIiMjqMJglIiIiIiIiq8NgloiIiIiIiKwOg1kiIiIiIiKyOgxmiYiIiIiIyOowmCVqo4ULF+LIkSMIDg5WFvUowcHBOHLkCBYuXKgsIiIiIiLqMAxmqU2Cg4Nx4sQJJCUlKYvaZfz48cjJyWl2udK6V65caXT6iRMnOjzADA4OxuzZs/Hjjz82u609QVJSEn788UfMnj27w487EREREZGEwWwPJAV9paWlsr+cnByMHz9eWZ0Uxo8fj3/84x8oKSlpErz9ue9vsH9wuPjbpQnFKDsXWR2X3g7YOjBE1Nk6MAQuvR1kdSSj7FywSxPabJ22kpZtuL37B4djQp9hsnrKfVKWo/GaKikpwT/+8Q9eQ0RERETUKRjM9mB79+6FRqMRf1qtFvv27VNWsxpJSUkYPnw4hg8f3qGtpX/84x/h5OSEzz77TFmE/17+Hj7nE8Tfhss/YPktE0Ug6mBjhzf6T8S26uOizuGan/BG/4lwsLGTLcvBxg4v9LsPF+r1sumWdPl6DcLLU2Tb/NXVU6L8z31/g1l97xJ1on7OgO6WAKMB7WeffQYnJyf88Y9/VBYREREREVkcg1miVhg/fjwmTpyI4uJirFixQlncxDfXzgEAXHqpAADVDbX4a8UO/Pfy96LOl1dP4na7W+Bm219MA4CZqtEAgA2Xf5BN7ywuvR3wiMMd2HD5BxypLQMAfHX1FL64UoTHVHc1Cb5XrFiB4uJiTJw4ka2zRERERNThenwwu3LlSpSWliIzM1NMk9JwOzvtduXKlaIv6OnTp0X6r9Q31LA/aWZmZoelB69cuRI5OTlISUkRyzf8f8N1VVRUICcnR2yL4XGEkZRmY/1Zk5KSRPknn3yCwYMHy8oByPY3Pj4effv2FWXScTF1PMw9bsrlGNvmwYMHQ61W47vvvhPzNedR1WhcqNejuO4XZVGzRtm5YFbfu7BR/wOqG2qUxZ1CCsClgBwAJvQZhgdv9sCg3iqoesmDWQD47rvvoFarjZ5DIiIiIiJL6vHB7EsvvYSVK1fCzc0NK1euFP0hq6qqMHfuXLPTbg2DJMO/06dPt2qU1759++Lhhx/G/PnzodFosHfvXjz88MOyAPD+++/HhQsXoNFoMHfuXKjVarzwwguy5Zjj/vvvl22rYSA6ePBgODo6YuXKlXBycsLQoUPx/vvvQ61Ww8/PT9SbPn06Tpw4AY1GIzuOaAxk//nPfyInJ0ekMufk5OCf//yn2J+kpCRotVrMnTsXGo0Gf/rTn3D+/HmxfDQeW7VajT/96U9iny9fvizK9+3bB61WK46XKS0dt+XLlwOAWM/evXtx+fJl/P3vfxdpy+7u7gCA0tJSMZ+SYR/Tu+0H4pVfdqO6oVZZTfhdH3cU1v4sC3gfVY1G1tWzspTfjtC3lz0SnKeJ7V3af4IoG9iYGl12/dc056X9J+DFfuMQe2k/+vayF8GuIem4SMeJiIiIiKij9PhgFo3pkZ988gkefvhhLF68GGq1GsuXLzc7kAUAf39/Wf9T6e+2224zKx1VUlNTg/fee08ET2fOnFFWwfHjx0UweP78eVRVVSmrmEXZZ9bf31+U1dTUiD6hNTU12Lhxo9H17N27V2yLlGZ67733AgBCQkJQVVWFt956S9TfvHkzAMDX1xfBwcHQarXYvn27yT6uCxcuhKurKzZu3Niq82FMc8dt/PjxUKvVOHHihFjPgQMHAEVgptFoYG9vLz4bY9hvdtWlb5Ay8FGjfUzRGPg+eLNHYwvsrwHvhD7DcLf9QMRXfausblFHasvw+9JEsa3h5Snw6zNUFtACwOjGgaJO1v2C6T9tRlkLfXjt7e2h0WiUk4mIiIiILIrBbKOXXnoJJSUlGDlypCyYpNZTq9UifXfw4MH45JNPROuvYYqwOa2cUlB08uRJZZFF7du3D1VVVRg+fLjY9rFjxwKKdZeWlqKmxvy0X6mP6e/6NG2p/HPf3+Cv6nsQ9XOGaIF16e2AF/uNw6pL36Csvlo5S4c6UluGDZd/wN32A+HS2wE/1Vejby97vNhvHB4r+1TWz/fy9RrRYqtUU1PT7DklIiIiIrIEBrONkpKSoFar8fnnn7fpfZmWSjPuDqqqqkTr5vnz50XaruHfSy+9JILE5lrxOjtt1TD41mq1shRjGAS2zW2zIQcbOwzqrcJJRZ9ZY4EsGltBNb37QndLgEj91d0SAE3vvkgZ+CjedXqoycBLluRu2x8X6vXQX69F2XU9Ll+vwbbq47LA+nd93HG45iejwXZnPXwgIiIiImIw2zjg0bhx47Bx40bMmTOnTe/LtFSasaUYDrwk9WHtaFKfWSk9+cCBA3BycjLZn1dK9ZXSksePH4/4+HjZ4EFSUCS1kkr9cA0HgLIEKZ155cqV4twZe8WPcptbMlM1Grfb3SIbRMlUIIvGllzD1+RIr8Mprb+MaT99jL9W7JD1v5UeoljiHEuDO0kpz2X11dhWfRyz+t4l3pU7oc8w+PUZio/1PypnBwDce++9KCkpaXLciIiIiIgsrccHs0lJSXj88cfxzTffiKAzPj4earUa69ata3ULrTVRDgClHN23OVJQZ7gMaeAq6TiuWLECb7/9NsaNGydbjzQ68L59+7B8+XK4urqitHEk4927d+P48eNiPUlJSXjvvffEMmJjY7Fx40bZIFELFy4Uoz/ff//9onW1Na3iK1asQE5ODl566SXZtioDxX379mH37t1wc3Mzuuyl/SeIFtX9g8Phc9MQPHxhk3i1jfS6GwCy1tf9g8Pb1Op64cIFAGjT63Am9BkmW/+L/cZh2k8fywLs/17+Hhsu/yAGiXql//2YV5Eu9sdQcHAwXF1dzR7pmYiIiIioPWzc3d0blBO7surqpqmNRO21cuVK/OlPf8Lbb78ta0mXRls2TDeWWpCrqqpkg2bdCFJLdUlJyQ3fFmnU6daMAk5EREREXZuDw69vuOiKenzLLJEp48ePx/Dhw1FVVSVrCTZsUb7R6bQhISHo27fvDW8NTUpKgqura6tHASciIiIiaiu2zBI1yszMxB13/JoCLDl+/LjJFs+FCxciLCwMr732WqcHtQsXLsTf/vY3AGjSmtzZgoOD8frrr2PdunU3dDuIiIiIyPK6csssg1kiIiIiIiIyqisHs0wzJiIiIiIiIqvDYJaIiIiIiIisDoNZIiIiIiIisjoMZomIiIiIiMjqMJglIiIiIiIiq8NgloiIiIiIiKwOg1kiIiIiIiKyOgxmiYiIiIiIyOowmCUiIiIiIiKrw2CWiIiIiIiIrA6DWSIiIiIiIrI6DGZbKSkpCZmZmcrJ1M0FBwfjyJEjWLhwobKIOllISAj+/Oc/KycTdSm8TomIiDoeg9lWWLlyJcaNG4fPPvtMWSSzcuVKnDhxAsHBwcqibiM4OBgnTpxAaWkpSktLkZOTg/HjxyurtVtSUpJYR2lpKZKSkpRVmtRZuXKlskqLlMtQricpKQk//vgjZs+e3a3Pa1cXGBiIoUOH4vjx48oihISEIDIyUvwFBgYqqxBZxKhRo/DCCy+Ia+2FF17AqFGjZHV++OEH9OvXDyEhIbLpREREZDk27u7uDcqJXVl1dbVyUqdYuHAh/va3v+GTTz7BSy+9pCyWWblyJR5++GH8/e9/bxIUNaet81na+PHjEf//7d1/cFT3ff/7FwFWRGIhIHMlVJuKvZGNSbmMgila4SjJZfiK4Dhka0skoO8M0cREM1TTkQGPEiaMy8TtTkDWOKpn1LpRmKmwv2hNdjCBsHX5tsVYC1/i6KoaO1Ca9RZTIUWWXbIWDhLE94/qnO45uyutpJXQEc/HzM6gz/ns+ZzzOecs530+P05T04gBeUVFhf7yL/9Sr7322oj1ceAzX9L/+LRH9R+e0T/97t8ty5bMztZLuV9V/uz5kqTOwV7VffD3uvnJkCWfRtmmQCCgz372s6qtrdW5c+csy5TBciTp7NmzcrvdKcvKhPLychUUFOgnP/mJysvLtXz5cp06dUpXr161Z01p5cqV2rhxoy5duqRQKGRf7Ejr16/XunXr9Pbbbyfdp8rKSi1evHjEujLqRZJef/11vfPOO/YsE1ZeXq5Vq1aZf/f39+snP/mJJc9EGfsxd+5cM20yyoln1P+dO3cyXnfGuj/1Kevz1a6urqTHerzSKaeyslLLli0zl/3+97/XhQsX9Oabb8Z947+Vl5drxYoVSetktHMWAAAnyM7OtidNG7TMpumrX/2q+vv79dOf/tS+CEl8ad4f6vzSav3m9wP66JNB+2IzwPyXwd+o5HqL/t+ev5MkNS7+H8qe9d836BOV6XJ+9rOfKTc3V3/yJ39iX5QxCxcuTPrve92DDz6omzdv6le/+pV9UVq+9a1vaePGjfrwww/tizJm/fr1WrFihcLhsA4dOqRTp05NSuvcO++8oxdeeEGHDh2a1HIMy5Yt06pVqzQ4mHgtZ8qdO3fMejM+kxEAjlZOW1ubZdm1a9f0yCOPJLS8puPNN9/Uhx9+qOXLl1sCZAAAkBkEs2l45plnVFhYqH/8x3+ctNa4mWTJ7Gx9M+eP9Phv/pf+98dR+2JJ0lc//aAkqSn2fyRJNz8Z0gu//T/6v+cu0h9nFdhyj1+my/nhD3+oaDSqL3/5y5PSrdowMDBg/vvWrVspWxrvFevXr9eiRYv07rvvjqsujC7HL7zwgn73u9/ZF2fMm2++qRdeeMFsxXvnnXf029/+VosXL57UYMYoJycnx74oI0pKSiRJ0Wjy63km+4//+A9J0qJFi+yL0vKv//qvys7O1sMPP2xfBAAAJuieDWYfffRRdXR06OrVq5ZJfYyxk/HjLvPz8zU4OKhwOGymxbOPH922bZs9i5555hldvXrVzBPfjdUoc9u2bZo/f76ampqSjt20l2PfdiUpx74vGu4qm2y5sf5XX31VS5cu1Re+8IWk2zuavjs39Z3+k+q7k7pL+PI5n9G/DP7GzJM9a67+bMEfa/4sl5bPGd9NYzKTUc4vfvELud1uLV261L5oQsrLy7Vnzx4tW7ZMy5YtM/+dm5ub9hjQ9evX6+mnn9bmzZs1d+5crVq1yhzXV1NTYwmovvWtb6UcY1peXq4/+7M/U3l5uZ5++umkeRRXXqr1LFu2TDU1NZbl8a2HxtjD8vJyy5hX+8Q58+fP1507d/Tee+9Z0tMVCoUmtQvu3WYE+93d3fZFE7Z+/Xrdf//9evfddzU0lNg1f6Z78MEHdevWrXGfe++9955u3rxJLwsAACbBPRvMnjt3TsXFxYpGo/rmN7+pRx99VM8//7y+8IUv6OWXX7aMA33ggQcUi8V0/fp1yzoUN3a0o6ND+fn5ys/P18svv5yQ56tf/aq2bdum/Px8Pfnkk4rFYvre976nRx99VBUVFeb3PvroI9XW1prrMgLIRx99VLW1tfrud79rLotGo5YJiSoqKrRz5069+uqrZp78/HzLvhhjPp988knl5+fr+eef15NPPqnnn3/eHHv65JNP6vr163rjjTfMdXz2s5/N2Dje7FlzlTc7R+/e/k9J0sq5S/Ra3lZ1Df1GnYO9Wj7nM/avjMtkldPT0yNJWr58uX3RhIRCIbW1temjjz5SV1eX+e+rV68mdIVM5c0339Tzzz+vU6dOaWhoSF1dXWZ3yebmZrNV81vf+paysrLMLpXhcFif+9znLIHo3LlztWLFCp0+fVqHDh3S1atXtWLFCrO75cqVK/XII4/o7bffTtplc9myZdq8ebNu3bplLguHw7r//vsTusOuWrVKOTk5Zp5FixZZtmXhwoW6deuWPvroI8v3pruVK1dqwYIF+uCDD8bVojyS+EmIvF6vrl27ltY5MlYPPvigPvzww0lZd7zZs2fL6/WmfKCRKemUE/9gZcGCBTp79uy4j9/Vq1d169atSWs1BwDgXnbPBrOG733ve5Kk/fv362tf+5reeOONhAmN8vLyLH/Hq6ysVCwW0wsvvGBfZAoEAiorKzO7KJ87d07/9m//Zs82onPnzqmsrMwSUP7iF7+w5DE88sgj9iRpuNW2oKBAr7zyirktRrfZVN+ZbAc+8yX9xaIv65t9P1VL7P+zL86YTJfjcrmUn59vT56w+fPna/bs2froo480f/58ZWVl6caNG/ZsE7J+/XotWLBAXV1d5g26MbavoOC/u17//ve/1y9+8QtzUptU2xH/nXgPP/ywsrOzLTMPv/nmm7p27VpCt9v4yYuStWQ5MRBYtmyZysrKpOGZbTMtftxsW1ubFi9enND6PlHl5eVasGCBLly4YF+UUcZDmPiHHosWLUoaaE5EuuXEj5u9dOmSNm/enNArYayysrIyemwAAADBrM6dO6dXXnlFK1asUHd3d9KutL29vfYkU15enmKx2Khjae1de7/whS/Ys4zK/voYe3fmQCCg7373uyooKDDz2N+J63K59PTTT1vW8+CD/zWudKrc/GRIvXcG9B335/Xu7f/U13/TZumSbLSkTtRkljM4OGi20GaC0R138+bN+vSnPy2v12vpKpzs1R8TYW+d2rNnj3Jzc+3ZRvTOO+/o9ddf14IFC1K2ct25cyfphEtZWVmaP/+/ZpeWbYzw1atX1dzcrLa2tqTLncBolc7Kyko6y22mXb16VV1dXcrKytIDDzxgXzwuK1eu1IoVK3Tp0qVJ334746HHggULMnre26VTTigUUn9/f8qHNuli7DsAAJl3zwezRtfcU6dOye12J+1K+95776UcI9nb2yu32z3iZECBQEAFBQWW7sNvvPGGPduIjHfcPv/88+Y67N2ZFfeamvz8fNXW1qqgoMAS0A4ODlrWYXyMFqSp8u7t/1TPnY/0s4//u9WucM5nlDc7Rxdu/deEK5kwGeUYLbLvvvuufdG4GQFcOBzWxx9/rFOnTln+/cILL2Q0oEg2o+uhQ4fGPK40vnXQmFHXHtAmM9Yuwzdu3EgIgKerqQ5kDUbdJHt4MB4PPPBAwrjrVatWae7cudq8eXPGW4HtcnJyxnyejMdo5SxbtkxZWVnjfqAy0e8DAIDU7ulg9tFHH9X3vvc9dXd3q6amRq+88ooZMMbr6emRy+WS1+u1pGs40M3NzVVpaak0HHTaW0ztnnnmGa1bt86ePGI5dhUVFfra175mT7YIBAKWCWHa29sVi8XMMcKpnDt3TrFYTJ/97GdHzDcRRnBZ6/5jKW5ipn8Z/I3eGeqz5R6/ySjnkUceUXd3d9IHHxM1f/58zZkzJ+HfY/XRRx/p1q1bSVuT3nvvPd26dUurVq3KaDBizKhrMCbMiT/X4ycTGksr1UcffaTZs2dnrNVxJMbEWOPpVjqWQHYi5dgZrai//e1vE8ocbzmhUCjhYUdXV5eGhoZ06tQpyxhsTaCcZMrLy5Wbm5v0PJmqcgwlJSXKzs42ZzUeqwceeEBZWVnj/j4AAEjtng1mKyoqdPjwYbndbjU1NUnD40cvXLigbdu2WQKVkV7H8vTTT+vChQtm190vf/nLeumllyzvYzS6SxqzFO/cuVP/9E//FLeW/xJfvtEF2NiOn/70p+rv7zfLaWhoUHt7u6WcZDMZu91uc1zwuXPnVFtbK0l69dVXLfnsAXxTU5PcbreZbyyzGWfPmqu/zn1M55dWq+W+xzV/lkv+RRt0fmm1DnzmS9LwjMdP9f9M/4/r/9L5pdX63/n/U713BrT/PxPrZSIyXU5FRYUKCgpSjlfOhPhWopFajEZidDtdtGiR2apmtKRdvXpVp06dkmwT3Yw1QEg2k3FWVpbOnDkjpeiG7PV69fbbb495MqGJvq8zfluXLVtmti4m22ejBW08ZT388MOaP3++Zf3Gxz7p1UTKsdf95s2bdenSpaQt6xMpZywmUk758EzexmfFihU6depU0vNkssuxz/K9ePFivfrqq+brlsbqD/7gDyY0GzIAAEht1vLlyz+xJ05nN2+mft3LZHrmmWf0p3/6p3r11VcTJoi6FxmzOL/22mtTUh+PPvqompqakgbVRtfq2traUccuj2akchQ3G3QmysLYrF+/XuvWrUsZDFdWVmrx4sU6depUyla2dKxcuVIbN27Ub3/726TBYaZQzvhMVTnpKi8v14oVK5K2xI92zgIA4ATZ2dn2pGnjnm2ZHasf/vCHevXVV/Xkk08mvNsV9wZj7PNf/MVfEMjeBW+++abefvttfe5zn9P69evtizPmj/7ojzR37txJeWdrPMoZn6kqZ6KMV1dN1iuTAAAALbNjFggElJeXN+UTJk03RsusMenM9evXJ6W1MhAIWGZ+fuONNxJaTO157O8JTod9HfZyKioq9Od//uc6fPiwfvjDH5rpmHqVlZXKyclJaJWrrKy0dDvt6uoaUxBhtKJJ0oULF8bdrXQ0lDM+U1VOOozW4blz50qShoaGElpmU52nAAA4zXRumSWYBQAAAAAkNZ2DWboZAwAAAAAch2AWAAAAAOA4BLMAAAAAAMchmAUAAAAAOA7BLAAAAADAcQhmAQAAAACO47hgdtasWfYkAAAAAECGTffYi2AWAAAAAJBgusdeBLMAAAAAgATTPfZyXDA7e/ZsexIAAAAAIMOme+xFMAsAAAAASDDdYy/HBbOzZs2a9pUKAAAAAE42e/ZsuhlPhjlz5tiTAAAAAAAZ4oSYy5HB7OzZs/WpTzly0wEAAABgWvvUpz7liN6wjo0InfCkAAAAAACcximxlqODWadUMgAAAAA4gZPiLMcGs5Lkcrkc0fwNAAAAANPd7Nmz5XK57MnTlqODWQ0HtIyfBQAAAIDx+9SnPuWoQFYzIZidNWuWsrKyaKEFAAAAgHGYPXu2srKypv2reOwcH8wqLqB1St9uAAAAAJgO5syZ48hAVjMlmDW4XC66HQMAAADAKIxuxU7rWhxvxkV9c+bM0bx58+h6DAAAAAA2RpfiefPmOb5n66zly5d/Yk+cST755BPduXNHd+7c0SeffGJ+AAAAAGAmmzVrlvmZPXu2Zs+e7cjuxKnM+GAWAAAAADDzzLhuxgAAAACAmY9gFgAAAADgOASzAAAAAADHIZgFAAAAADgOwSwAAAAAwHEIZgEAAAAAjkMwCwAAAABwHIJZAAAAAIDjEMwCAAAAAByHYBYAAAAA4DgEswAAAAAAxyGYBQAAAAA4DsEsAAAAAMBxCGYBAAAAAI5DMAsAAAAAcByCWQAAAACA4xDMAgAAAAAch2AWAAAAAOA4BLMAAAAAAMchmAUAAAAAOA7BLAAAAADAcQhmAQAAAACOQzALAAAAAHAcglkAAAAAgOMQzAIAAAAAHIdgFgAAAADgOASzAAAAAADHmbV8+fJP7IkYu8WLFysnJ0dz5syxLxrR7du3NTAwoA8++MC+CAAAAACQAi2zGbB06VItXLhwzIGsJM2ZM0cLFy7U0qVL7YsAAAAAACkQzE7Q4sWLNW/ePHvymM2bN0+LFy+2JwMAAAAAkiCYnaCcnBx70rhlcl3TTWtrq7q6uuTz+SRJPp9PXV1dam1ttWcdUWtrq9rb2+X1eu2LLMa7/rulrq5OXV1dqqursy/KqLHUi/2Y3S1j2WYAAADcOwhmJ2g8XYtTGWldoVAorSAOmCwElQAAAJhOCGYBAAAAAI5DMOsQ5eXlKi0tVTgcti8CpkQwGNSqVatUVVVlXwQAAABMOYJZAAAAAIDjzPhgdt++fTp//rzOnz+vffv22Rc7hn3MrNfrVXt7uyKRiPkZbSyj3++35I9EIvL7/fZsSRnjJZOVl2xbxjO+N1kZoVDInk2S9PDDD1vypjtRkb2MdL+n4WMwUt2FQiGFQiFLPV++fFl1dXUJ5abaL6VRjoYnjLp8+bKZJ1V929e1efNmexYpxfqysrIseZKNmTX22f79ZOeivQ66urr00ksvmXU0FvZ1RWx1ar9e7N+L3z77ttu/Z0w69v3vf1+XL18e1/YCAAAg82Z0MLtv3z5t3bpV2dnZys7O1tatWx0d0Bq8Xq8aGhoUi8Xk8Xjk8XjU1NSkjz/+2J7V5PV6VVxcrN27d5vfaW9vl8/nG/XGvK6uTn6/X93d3UnL27JliyKRiLls9+7dcrvdevbZZ+2rGtETTzyhkydPWsooLCxMCIzcbrd27dql/fv3y+PxaPv27YrFYjpw4MCIgamxH52dnWYZ3d3do37PCNbdbre2b98uj8ejtrY2VVZWJgSaRUVFKi4uNrerv79f1dXVOnDggFpaWkbcL0mqrq5WR0eH5RjZy/H7/aqtrVUwGDTLkaSGhoaEhx3x27x7926VlJQkzJptX5/H41EkEtGaNWss+VIpKipSRUWFduzYYdZNaWmpZZuT1f3Jkye1YcMGy7rSNdq50tHRodzcXJWUlCR8T5KOHTsmJdn3ZHWp4XNuw4YN2rFjhx566CE1NjaaywAAAHB3zOhg9vHHH7cnJU2bDHv27NGZM2fU0tJipm3cuFEnTpzQ0aNHVVxcbMk/Fvn5+XK73ero6DDTGhsb9dRTT1nyxQuHwyovL1cwGDTTjh07psHBQeXl5VnyxvN6vaqoqFA0GlV5ebmZHl9efX29ZRxlMBhUZ2en3G53QsvYSKqqqlRfX2/+3djYqGg0qiVLlljyuVwutba2mvsSDod18OBBKS5YSWbTpk3q7+/Xiy++aKY1NzdLo3xvy5Ytys3NVSAQMMcs19fX68qVKyorK7Ps48DAgLnOcDiss2fPKicnR52dnWYAZOyXx+OxfNflcqmzs9NSB1VVVZZyvF6vysrKdOXKFTNfOBxWIBBQbm6utmzZIg1vs9vt1sGDB81tDgaDamlp0dDQkLl+Y33t7e1Jy03HwMCApZzjx4+rp6fHco5v2rRJ0WjUcp7U19ervb3d/HssRjtXjh8/rv7+fm3atMnM4/V65Rl+gBEMBtOuSw0fm+PHjzNmHQAAYBqZ0cHs3XTo0CH93d/9nQoKCrRnzx4VFxfr29/+tm7evCm/328JRMeqp6dHsVgsrVZVu/gulQ0NDcrJydH9999vz2YqKSlRbm5uWtsb36W1tLRUbrdb+fn59mwjMloUjfUUFRUlBMX9/f06f/685XtGndgDX4PP51NBQYHOnj1rCUhG+54kFRcXKxqNJrTG9fX1JeyjESgZent7NTQ0pGvXrplpqQwODuqtt96yJ1vKKSkpkdvt1unTpy15otGoBgcHzWNZXFycsC3x+QzG+lKVmw57OeFwWLFYzDxuRt0nW1869ZLKSOdKOBxWJBJRQUGB2epurzv73wZ7XWr42ESjUUs+AAAA3F0zOpg9ceKEPSlp2mQ5fPiw/uEf/kFf/OIX9Z3vfEfZ2dn627/927QCw5GEw2GVlpYqGo2qtrZWkRRjFOMZYwVramrU3NxsdjsdGBiwZ7UwWm17e3vti0ytra2KRCKSZOkeO1ahUEhHjhyxdFlOt3VwNIWFhXK5XKqsrDSDn0gkoiNHjowYcHu9XrndbhUVFVm+ZwTsUy0vL085OTnmcTc+xoMJxW1zOvLy8uRyuezJGWXU/UQCV7t0zpW33npLLpdL69atkyStWbNGsVjMfBCSTl0aYrGYenp6LGkAAAC4u2Z0MPvcc8/p6NGjunnzpm7evKmjR4/queees2ebVIcOHVJfX58KCwt17Ngxvf766/Ys41ZeXm4ZozjSpEI1NTWKxWLasWNHQgvjSHp7ey0teXZ1dXVau3at2traLN2Qx8rv96uwsFBNTU0TevVLstY/xbW2tbW1mcFP/CfVthutjFeuXEn4jsfj0apVqxJaPyeDEUz19vZqYGBATU1NCdvi8XhUVVVlbnM6Rju+01G654rR9bi4uNjsYhyJRMyW+XTqEgAAANPXjA5mNRzQlpSUqKSkZMoDWUk6ePCgcnJydO7cOT3xxBPauHGjPcuEGWMP7d1xR7Nu3bqEFig7o2tlupMBKW5s4kQZ3VPtkk3sY3SHTtX6Z3QnHs9Y5b6+Pkt31cnicrkS6tmoy1gspnA4nPbxSLXN9mOean2ZOoaSdP78efX39yet+2Rp45HqXOno6FBBQYGqq6vldrvNiZ80wr4DAADAGWZ8MHs37dmzR6tWrdLPf/5z/eAHP1BfX5++/e1vT/gG3ufzKRAImH/bA55k+vr6LEGgz+fTY489Zs+WIBgM6uTJkyotLU14nclLL71ktnjG79OuXbtG7LqbjNGNOT6wqKmpSRpsz507VxUVFWbg7vP5VF1drf7+fh0/ftyeXYqbjKmoqCihS3YgEEgI+uIZAdDevXstDwv8fn/CbMYTtXbtWss46GeffVa5ubnmuE5jci37bMFer1eBQMDcvmTbnOyYp1rfeI5hKqnq3u/3q6ioyJI3HWM5Vy5cuCBJ+vznP58wtjfVvtvrMpXW1lZe0wMAAHAXEcxOkoMHD+orX/mKurq6dPjwYUnSK6+8ouzsbB04cGDCLbQrVqywjPuMxWIpu8pqePbX+DG2Bw4c0I9//ONRx8xquOW3qalJa9euNcusqanRO++8Y86QW1hYaC6TNOYxs42NjQoGgyotLTXX09HRkTAOUsOtrBcvXjTHTDY0NKi7u1ulpaUpg3ml2I9IJKJbt26N2FU4GAxq586dkmSWGYlEVFZWljJ4Ho/BwUEFg0FVV1ebZRQUFKi+vt7SNbyqqsp8NZCR78iRI/r1r39tmbl4//79crvd5janOuZVVVXmK4AmcgxHUl9fb3aHN8ooLi5WW1ubPeuoxnKuGAHrokWLko5VT6cuAQAAMD3NWr58+Sf2RKRv+fLl9qQJeffdd+1JwIzl9/v12GOPaf/+/SM+UJiI1tZWeYYnPCNABQAAmDlomQVw1xQXF0/qTME+n0+rV69WJG7iJwAAAMwMBLMTdPv2bXvSuGVyXcB00tramjC+uLW1VYWFhQoEApMWaD7xxBNS3BhiAAAAzBx0M56gxYsXa+HChfbkcblx44Y++OADezLgeH6/X5WVlZa0gYGBSete3NraqtLS0kktAwAAAHcXwWwGLF26VPPmzbMnj8nvfvc7Xb9+3Z4MAAAAAEiCbsYZcP36dd24cWNc3YRv376tGzduEMgCAAAAwBjQMgsAAAAAcBxaZgEAAAAAjkMwCwAAAABwHIJZAAAAAIDjEMwCAAAAAByHYBYAAAAA4DgEswAAAAAAxyGYBQAAAAA4DsEsAAAAAMBxCGYBAAAAAI5DMAsAAAAAcByCWQAAAACA4xDMAgAAAAAch2AWAAAAAOA4BLMAAAAAAMchmAUAAAAAOA7BLAAAAADAcQhmAQAAAACOQzALAAAAAHAcglkAAAAAgOMQzMIxWltb1d7eLq/Xa1+UUX6/X5cvX1ZdXZ19UYLW1lZ1dXXJ5/PZF2EK+f1+RSIRRSIR+f1++2LH8fl86urqumv7UldXp66urrSuAScx6rW1tdW+CAAAOBDBbAYYN0jGzbTxIci599TV1eny5ct3LQi5F/n9fvl8PjU1Ncnj8ai+vt6eBQ4VCoWm5AEWAABwJoLZDGpvb5fH4zE/3d3d8vv9Y27duNutMsBIplurXXFxsfr7+3X+/Hn7onvWVPViAAAAuJsIZidRc3OzBgcHtWbNGvsizFCNjY166KGHaB0EMqC8vFylpaUKh8P2RQAAAASzk6mnp0exWMyeDAAAAACYoBkfzO7bt0/nz5/X+fPntW/fPvviSZWfny+3261r165Z0ltbWy1ja+MnIwmFQmpoaFBOTo4qKysViUQUCoXk9XrV3t6uUChkWZfxnfguhUY30O9///tqb283y4jvvhy/DckmO0o2Djidbs+hUCjld+LLj89nbHv8JD7278Z7+OGHLduWamyyMX7VXk48+352dXUpNzfXkseQbH1ZWVlJ88RveygUUigUSvh+sklo7Hna29sVCARS7qNSlGmwnxvJ9jfZeu3H4vLly2poaFB7e7tqa2uVk5Oj2trahP2wr9++PD5P/HlgnNfJvp9svxS330VFRcrPz9eRI0dG3NexbksqI12/ksxrNT5PsnNPSdaV7HiMdq3GM+qktLTUrBP7d9Kpl2SMc8K+L+le82PZD4P9/DW6T1dXV1v2IdUxs2/b5s2b7VmkFNdd/O/p5cuXE8pobW1Nez8AAMDkmNHB7L59+7R161ZlZ2crOztbW7dunbKA1uv1au/evYrFYjp+/LiZHgqFtHr1au3evVsej0dNTU1au3ateTNZXl6u3bt3a2BgQG1tbfJ4PCovL49bc/q+/vWvKxAIyOPxqKqqykyvrKyUJHNsbzQaVXV1tXkT7fP5dODAAXV2dpp52trazO8nY9zAu91ubd++3fxOZWVlQjBSWVmpjo4Oc/9zc3P1V3/1VyorKzO/297eLp/Pl3Cj6Ha7tWvXLu3fv18ej0fbt29XLBbTgQMHLEGA3+9XbW2tgsGgmU+SGhoaLDepfr/fsp8nT57Uhg0bzPUY7OvzeDyKRCJpdyEvKipSRUWFduzYYdZNaWmppW7GW8b58+fV39+v4uJiS7rP51NBQYEikYjC4XDS/e3u7k6ou9bWVlVWVprnn8fj0dmzZ3Xt2jWVlpaqqalJAwMD5oRLxrnl9/vV0NBgWb9xftsDAUnauHGjeR6Ul5eP+bwzunRfuXJFPT092r59u9kldaLbkspo168kbdmyRZFIxCx39+7dcrvdevbZZxPWtXbtWrMePR6PLl26ZMkz2rVqZ9RJe3u7WScPPfSQGhsbpXEcI4Pf71dlZaXa29vNOh7rNa8x7MdI8vPzVVdXZ/4GNDU1qbCw0HIMkm3b7t27VVJSopycHMv67Ned/beisbFRwWBQhYWF5u9RXV2d1q5dq2AwaNYtAACYejM6mH388cftSUnTMqW0tNR8sn/48GEFAgHLeK+6ujoVFhbq5MmTCgaD0vDN58WLF7V69epx3dil4nK59Ktf/SrpjdaVK1cswe3p06flcrm0bt06SVJhYaEk6a233jLz1NfXjzgOdMuWLcrNzVUgEDD3t76+XleuXFFZWZmlJefKlSvmuhobGxWNRjV//nzLd48dO5Z0vLHL5VJra6tZf+FwWAcPHpQkPfHEE9LwjWxZWZmlnHA4rEAgoNzcXG3ZskWStGnTJkWjUUtd1NfXq7293fxbcetrb2+31EFVVZWuXLliyZvKwMCADh48aO7f8ePH1dPTYwagEykjHA4rEomooKDAcg4Zx/PYsWPS8P729/frxRdfNPM0NzdLcXVn3KS3tbVZtuOpp55Kei4Z4rc/vj6TBQKG999/31LGeM67ZDKxLcmke/3W19dbyg0Gg+rs7JTb7TavA7/fr8LCQjU3N1vqtaKiwly30rhWx2I89SJbIBv/vbFe85naj6GhIbW0tFiOQTQalcfjMcvcsmWL3G635ZoLBoNqaWnR0NCQua50fyvq6+sVjUZVUVEhr9dr/naMds4AAIDJNaOD2anWPjyb8e7duzU4OGje+BjWrFmj/v5+S0utJF27dk0ul8u8mc8Ue/dmQ0dHh+XvaDSqwcFB3X///ebfksbUclJcXKxoNJoQ8PT19cntdis/P99Ms5ff19enwcFBs9yRJJu11hibvGTJEklSSUmJ3G63Tp8+bckXv59Gq6V9W5Sk3oz1xQdZhr6+PntSUt3d3ZYgJRwOKxaLmQFOSUmJcnNzE8pWmmUYAasRlGr4mBjlGvt79uxZy2Q69rpbs2aNBgcHdeHCBTNPOkaqowsXLiR9MGHfr/Gcd8lkYluSGev1G9/FtbS01HIdpDsDs/38tF+rYzGeelm5cqV8Pl9CIKsJXvMT2Y9k9WYvM/7cj2eUa0jnt8LQ3NxstrAXFBSYD4IAAMDdM6OD2RMnTtiTkqZlmtECkJubq127dpnpS5YsMcexxY/jMrrgZdLg4KB6e3vtyWkJBoPauXOnYrGYGhoaFBlh3KKGWzfcbreKioos+2XcxE+1vLw8y5hO42OMRdZwK6DL5bJ/Nam8vLy0845XXl6eJE3omHV3d5utU0YrohFEGPtrjMM2PkeOHLEEHUuWLFEsFlNPT0/c2kc3njqyB+5jPe9SycS2JJPu9WuMDVVct9r41n7jeonFYlM6S+9Y68XlcmnDhg0Jrfmahtd8PGPb0pHOb4UhGAzq5MmTKioqsrTOAwCAu2dGB7PPPfecjh49qps3b+rmzZs6evSonnvuOXu2SWF0fYvvftjX12eOYzNuco1P/Li2ZIyWvKkSDodVWlpq3ohXVlamnCTG2LYrV64k7JfH49GqVaum5MbPaF3r7e21jOm0f6qqqhJaaEbS29ubdt67qaOjQ7m5uSopKUloRTT2N34cbPzHGCeaTgtlMpmqo7Gcd6lkalvs0rl+47tppxp7O9XXsmGs9WKcL2632zLWXNPomk9mLPWbzm+Fwefz6bHHHtOHH36oxx57bEK9BwAAQGbM6GBWwwFtSUmJSkpKpiyQNRjd0GpqaqTh1h8j2Bgvo1uqweg+OpmMcZtGV9Rk+vr6EsZsToZk9Wfvomt0V7V3mYxndK+1T5qk4S6K8VKtz+v1yuPxWNLGK1U3z7GUcfz4cfX395vBYGR44ieNsr/xxnuOpqojDY/ddblcSbu3jiSd8y6ZydgWTaBukh3Dqbpe4o2nXnp7e7V///6kAe3d2Id0pdq2devWWVpcR6oTu5qaGsViMf3gBz9QLBYzf9cBAMDdM+OD2bvJmPjFmFjFCDbsYwLr6ur00ksvmX+nCjw6OjqUn59v6bpcU1OT0B1uouzbYwTMI7XaGWM29+7da7nh9fv94+oqmsrcuXMtY5F9Pp+qq6strZBGvdtnC/Z6vQoEAvJ6vQqHwzp79qyKioosLX9+v19FRUXm3xphfbt27bJ00Z2ITJRhTAS1Zs0aud1u85gYy5LtryQFAgHzfDQmuqmpqbFMBvTSSy+ZfycLAIwumKWlpZb119XVyefz6eLFiyP2PNA4z7tkMrEtyaRz/Rot4PHXbrJj+OKLLyqWZBbu+GMxEckC7/HWS/ywifiAdqqu+fFItm2+4ZbVeKmuu/jfCsVN2BUIBBQMBhUIBFRYWGh+xz/82qK7vd8AANxrCGYnmTErb0VFhTQ843F3d7c5JjASiai6ulqnTp0yvxMfeETi3qFozLRbGjdrckdHx6iz3Y5HWVmZZfxYZ2dnwgQw8YzxjpIsYwrLysoSJsyZiJ6eHl28eNEso6GhQd3d3ZZZozXcqme8JsTYliNHjujXv/61ma++vt58RY6Rp7i4OOnrYKqqqsxur0ZeDU/6lSmZKOOtt97S0NBQ0slv6uvrzdewGOuPRCK6deuWJW95ebkuXrxoGUf4uc99zpx0Jz4AiMS9ozTZ+o1Xnox07sQb63mXSia2xc7oAj3S9WsEfoWFhSMew1TrWrBgQcJxGw8j8K6trbW8C3W89dLY2Kjm5mbl5ubq8OHDqqurm7JrfjyCwaDZomxs24EDB/TjH/9YAwMDlryj/VYYsznHB/vGMBJfkteHAQCAqTNr+fLln9gTAUwfra2t8gzPkh0fsAMAAAD3MlpmgWnMGG851TPfAgAAANMdwSwwTbz22msJXRafffZZud1u3mkJAAAA2NDNGJgmWltbVWp7R2dPTw/diwEAAIAkCGYBAAAAAI5DN2MAAAAAgOMQzAIAAAAAHIdgFgAAAADgOASzAAAAAADHIZgFAAAAADgOwSwAAAAAwHEIZgEAAAAAjkMwCwAAAABwHIJZAAAAAIDjEMwCAAAAAByHYBYAAAAA4DgEswAAAAAAxyGYBQAAAAA4DsEsAAAAAMBxCGYBAAAAAI5DMAsAAAAAcByCWQAAAACA4xDMAgAAAAAch2AWAAAAAOA4s5YvX/6JPRHA+C1evFg5OTmaM2eOfdE94/bt2xoYGNAHH3xgXwQAAABkBC2zQAYtXbpUCxcuvKcDWUmaM2eOFi5cqKVLl9oXAQAAABlBMAtkyOLFizVv3jx78j1t3rx5Wrx4sT0ZAAAAmDCCWUwKn8+nrq4u+f1++6IZKycnx56Ee6xe6urq1NXVpbq6OvsiSGptbVV7e7u8Xq99kSO0traqq6tLPp/PvggAANwFBLMZ1traqkgkYvmEQiF7NsxA93rX4lTuVr3U1dXp8uXL5nVIEOJ8oVAo4fc1EokkPDSzH/vJ+g02yrGXDwAApgbBbIYYLZGrV6/W7t275fF45PF4tH37drndbl2+fHncrTVT2co5lWUBk8Xv96u2tlbBYNC8FletWqVgMGjPauH0lsN7wZUrV8xjanzq6+vN5XV1daqpqTGP/e7du1VQUDBpAe1MwvkPAHAagtkM8Hq92rt3r2KxmHbu3Gm5YQ6HwyotLVU0GlV1dTUtQ/eo4uJiHT16VGfOnNGZM2d04sQJbdy40Z7NMfbs2WPuy5kzZ9TS0mLPctfU1dXJ5/Opra3NEuTg3rBp0yZFo1Hz2AeDQZ08eVKFhYXjfqCYSmNjox566CHOMwAA7hKC2QzYsmWLcnNzFQgEFA6H7YslSc3NzZKkJ554wr4I95Bf/vKX2rBhgx5//HG9/vrr9sU6ePCgGSCePn1aO3bssGeZkPj1jxRYt7S0jLgdhw4d0oYNG7Rhwwb9+7//u2XZ3bZmzRr19/fr+PHj9kVwMK/XK7fbrb6+Pvsik8/nU0FBgTo6OizpFy5c0ODgoNasWWNJBwAAzjbjg9l9+/bp/PnzOn/+vPbt22dfnBHFxcXq7+/X+fPn7YtMwWBQ3d3d8ng88nq9Znfe1tZWSz6v16v29nazS1woFFJDQ4NycnJUWVlpGf9ldAmrrq5WV1dXyrGBmSgrGeP78WPX7GXINo44WXdrY/vi12MvN919jc8/2nZNJ0bL7bJly7Rnzx5t2LBBmzZt0uHDh+1ZJ+z99983y0gWWLe0tGjJkiXy+/3asGGDurq69I1vfCMhoJ2OvF6vPB6PIpFIygdLyRhjH0tLS5Wfn68jR44knKt+v99yTtmXp2J8L777pv2ct5/H8d39x3P9jGeYgH08qn0d9v1Plkcptsd+/T388MOWPPbrfbzWrVsnl8ul3t5eS3pPT49isZiWLFliSR+Jfdxte3u7srKykuaJr4dQKKRQKGSpL+O42etmtP32+/1Jj7n9t1sptjdZd2H7b2NXV5f++q//OiPnf93wBGjf//73zf8b7MceAIBMmtHB7L59+7R161ZlZ2crOztbW7duzXhAa7QWxGKxUW+e+/r65Ha7lZ+fb1+UUnl5uXbv3q2BgQG1tbXJ4/GovLzcXO52u7Vr1y7t37/fHKMbi8V04MCBpEHeSEYrK57X61VDQ4NisZg5bq2pqUkff/yxJV9lZaUkmXmSdbd+4okndPLkSct6CgsLE26C0t3XUChkGbvc1NSktWvXJqzPzn4zaP8ku3nLlG3btknDN4z2VqWptGPHDhUUFOif//mfzQD35Zdf1o0bN1RWVmbPPmV8Pp9CoVDSm/N4+fn5crvdunbtmiU4G+3YGd1F29vb1dPTo+3bt+uhhx5SY2OjNHxO+Xw+NTU1mefpxYsXVVtbmzSgM/j9flVWVqq9vV2lpaUKh8Oqq6uT3+9XZ2enua7u7u6E81hpXD8+n08HDhywrKutrc2yjtEYgZHb7db27dvNdVRWVpr75vV6VVxcbJkPoL29XT6fz1Kvxr4ZD+6M6y/+dyE/P191dXXmdZzqerczjm1paaklELPX2eDgoKLRqCUtHA4rFotZ0kbiTzLmOhKJpN2yW1RUpOLiYnmGf6f6+/tVXV2tAwcOqKWlJe39TtWiXFJSotzcXPO3wr6927dvlyQ1NDRYrplQKKS1a9dazuNLly7p9OnTGT3/v/71rysQCMjj8aiqqsq+GACAjJnRwezjjz9uT0qa5mQul0utra3mON1wOKyDBw9Kk9yl2bixjA+8Ghsb9dRTT1nyXblyxXIzc/r0ablcLq1bt85Mq6qqsow5a2xsVDQaTWhFSWdf6+rqVFhYqJMnT5r5GhsbdfHiRa1evTrhxjeeEdAYN2v2T/zNXSYVFxdr2bJlunr16l0NZCXpvvvu09DQkDo7O820bdu26b777lNOTo6Ki4st+adKMBhUX19fws25XWFhoVwulyorK9XR0WEeu2g0qpqamhED2lTq6upUUFCg5uZmy/GvqqrSlStXVFZWlnSb4gPZ+Gtg06ZN6u/v14svvmimpRqGMNr1U1hYKEl66623zDz19fVjGsOZbJhEfX29Zd/C4bDKy8st8wEcO3ZMg4ODysvLk4YD3oqKCkWjUctDMPvvwtDQkFpaWizXZzQalWe410oqwWBQq1atMo+p8TDL7/enfVzdbveIZWh4P8rKytTe3m6pR+N4p2NgYMA8puFwWGfPnlVOTo46OzvNcyid/bb36DHEd6U3tvfKlSvm9obDYQUCAeXm5mrLli3S8PlYWFiYcB5XVFSMODHaWM9/l8ulX/3qV5PyWwkAgN2MDmano1gspp6eHnvyuCXr3jyeLnVjZZRhb5mxswdn0WhUg4ODuv/++y3pRuuQ0eJSVFSUcOOZzr6mGi957do1uVwu8+Z/OrnvvvuUnZ2tW7du6cSJE+ZY1aNHj05K8Hjffffp0KFDZjl79uwxl+Xl5enmzZt6//33LV2f3377bWVnZ+u+++6zrCsT7N0eU32MLpCjBbQaDgLjA5Hm5mYNDg5q06ZNlnzpWLNmjWKxWMK5p+HzOzc3VyUlJZb0lStXyufzJQSyvuExnWfPnrX05LCfx4bRrh+jBdLe22EsiouLFY1GE4KPZD1J4nsvGEMSjG2xtxamkuw6TlbWaMLhsHbv3q3+/v60j6vRg8beZTYS1x22pKREbrfb8oDAMNJ43Xjd3d2WALG3t1dDQ0O6du2aJV86Tp8+bQlKvbau9Mb2nj592vI9+7mSznCYZMZz/o9nPwEAGI8ZHcyeOHHCnpQ0bSKM7mv2wCuZJUuWpNUd2QnCcbM019bWWm4GxyoUCunIkSOKRCJmq0u6LSB2S5YsMcd8xd+oGt01p7PVq1frRz/6kTZs2GAGmLW1tfZsE7J3715zrOyGDRv0y1/+Ul/5ylcsAa0kPfbYYzp06JAuXryorVu36tatW5blmVRVVZXQCp7sY3SB3L1796jXkD2gMlq40rlO7ewB5mhcLpc2bNiQ0PoqW8tx/Pl55MiRMQVyhmAwqJ07dyoWi6mhoUGRFONYU/EOD5MoKipKCO5KS0vNfL7hsZ41NTVqbm6WZ/iVNwMDA2Yeo4XWPl51MiX7/U320MrYT0N9fX3C+WU8dMjLy5PL5Yr79t11/vx59ff3mw+2jJZ0I9jOy8tTTk6O+TtsfIyHDRrjcBi7sZ7/g4ODU3oOAADubTM6mH3uued09OhR3bx5Uzdv3tTRo0f13HPP2bNNWKqn0/GMFhnjJttoiZlMRivCZJZVXl4uz/AYu9LS0lEnNLEzur41NTVNaGyVsa99fX3mmC/7zepo3YTv5phZSZZxqh0dHbp48aKWLFmSMNNwJr388st6//33tXLlSmk4ELnvvvu0atUq7dmzR4cOHTLzGi22d4PP59OSJUtGDWTtrVF247mZT7c1zjA4OKi2tja53e6EVmRj+4wx6fZPqjHqIzEeLBkBf2VlZdoPloxgMNm7Wz1x7+atqalRLBbTjh07Ul5Dvb29GhwctCdPKSOIMgJrgzEsIp1jOR32I144HFYkElFBQYF8Pl9CS3pvb68GBgYs41njP1VVVeZxHo906gwAgLtlRgezGg5oS0pKVFJSMimBrCQdP35c/f39qqioSNnqY9wM2ru/2p96G1310pUsiDbWYe/qNdGyRlJfX29OIpOqDtJlBP526ezrtWvXkuZLx90aM/v+++/r5s2bCTfg9r8ng9HFub+/XxrelqGhIV28eNF88DIdxvQGg0GVl5ePGoimGmNonFPjuTEf6ZxK1XWzt7dX+/fvTwhojQdLk9F9XHHjGO3X+kj6+vrMQGks1q1bZ7b8Ka7Ls32yoslkHNfIcJdbeyumwZjlOFnXYbtU+2F0770bjh07JknavHlzwquHUm2v3XiP83jOfwAApsqMD2anQnh4IiK3262/+Zu/sdwsGGNBCwoKdPDgQfNm3HjaXlRUZJkxtKKiQnPnzjW/r1FugOfOnWsJon0+n6qrqy3jRjNVVjyfz6dAIGD+bdzojbXly2hJib8Rq6mpsdwkG9LZV+PBgn0MYV1dnV566SXz7+nEaIVdsWKF2Qq7ceNGrVixQpcuXbK8NscYx5rs3a/j8c1vflOS9Pd///eSpMOHD6u7u1tf/OIXzW3Ztm2bsrOzzTzTXXNzs9zDM18bampqpLigIJVkN+719fVJJ5BqbW1VYWFhyvdLB4NBtbS0KDc31wxow8OTARUVFSW0ngYCgTEHGvbz2h60+/3+pDP+xjPqZO/evZYHAH6/3/y96Ovrs9SLz+fTY489ZubV8P6ePHlSpaWlln2zb+N42dfj9Xq1d+9eKW4f4uvX2HZjWy9evJjWw6hgMKjOzk6VlpZaumzv2rVrXF3BM8F4SLNhw4aEh6Kpttfr9SoQCJjH9MUXX1Qsyezv8eddJs//eMYY5bF0gQcAIB0EsxlizLTZ2dlpjl2LDI+Fi0QiZne9eEYrijF+7vDhw/r5z3+eMEFU/A1axPZuwp6eHl28eNEsp6GhQd3d3eZrQAyZKMtuxYoVlv2MxWJj7ibZ2NioYDBoed1GR0dH0jGz6exreLjLZXd3t+U4VFdX69SpU/ZVThuHDh3SpUuXVF9frzNnzqi+vl6XLl0yb9YNHR0dGhgY0Ny5c8f1qpyWlhZz4qczZ85IwzN8xwfM1dXV6uvrM7dlxYoV+tGPfmTJM50Fg0Ht379fq1evNo+/2+3Wzp07E65BO+NhSG1traVbeXl5ufkqEmOdq1evVn19/YgBUmNjo5qbm5Wbm6vDhw+rrq5O9fX15uuijHVFIhHdunVr1O1LpqyszFxHQ0ODOjs7zS77xcXFCZMR2RnjbiVZxpqXlZWZQVNVVZVlfPyBAwf04x//2DJmVsOBj33fampq9M4771jyjVf8vhq/Ofbf1vr6evPVQsnqJB1VVVVml22jPElqb2+3Z50yRmtsJMk7lKuqqiz7bNTPr3/961F/GxcsWGDWX6bPfwAAJtus5cuXf2JPhDO0trbKMzwRi/3mZqZxwr4uX77cnmQqLi5WfX29rl69mhCgjtWOHTv0jW98Q11dXRNeVya0tLRIw0FwKu+++649CZPMO/wu6LNnz1pmdgYAAJgpaJkFHMZokX377bftiwBTSUmJBgcHE8bpAwAAzBQEs0CG3L59256U4POf/7zOnDmjEydOjHmW4j179ujMmTNasmSJGhoadPjwYXuWKWNsy5kzZ/SHf/iH9sUW6dQLMq+xsVFf+tKXpm1PBgAAgImim7GDOaHrbaY4YV8XL16shQsX2pPveTdu3NAHH3xgTwYAAAAmhGAWyKClS5dq3rx59uR71u9+9ztdv37dngwAAABMGN2MgQy6fv26bty4cc93rb19+7Zu3LhBIAsAAIBJQ8ssAAAAAMBxaJkFAAAAADgOwSwAAAAAwHEIZgEAAAAAjkMwCwAAAABwHIJZAAAAAIDjEMwCAAAAAByHYBYAAAAA4DgEswAAAAAAxyGYBQAAAAA4DsEsAAAAAMBxCGYBAAAAAI5DMAsAAAAAcByCWQAAAACA4xDMAgAAAAAch2AWAAAAAOA4BLMAAAAAAMchmAUAAAAAOA7BLAAAAADAcQhmAQAAAACOQzALAAAAAHAcglkAAAAAgOMQzAIAAAAAHIdgFgAAAADgOASzAAAAAADHIZgFAAAAADgOwSwAAAAAwHEIZgEAAAAAjkMwCwAAAABwHIJZAAAAAIDjEMwCAAAAAByHYBYAAAAA4DgEswAAAAAAxyGYBQAAAAA4DsEsAAAAAMBxCGYBAAAAAI5DMAsAAAAAcByCWQAAAACA4xDMAgAAAAAch2AWAAAAAOA4BLMAAAAAAMchmAUAAAAAOA7BLAAAAADAcQhmAQAAAACOQzALAAAAAHAcglkAAAAAgOMQzAIAAAAAHOf/B/KQCcbvaTRuAAAAAElFTkSuQmCC)"
      ],
      "metadata": {
        "id": "tUXnGqGQ-lPy"
      }
    },
    {
      "cell_type": "code",
      "source": [
        "y = nn.RNN(50,64)"
      ],
      "metadata": {
        "id": "wh6LlnXD-65d"
      },
      "execution_count": 170,
      "outputs": []
    },
    {
      "cell_type": "code",
      "source": [
        "y(a).shape"
      ],
      "metadata": {
        "colab": {
          "base_uri": "https://localhost:8080/",
          "height": 141
        },
        "id": "wwqP5fLG_UZL",
        "outputId": "02c7f622-fe4b-43d5-9a4c-e9e29bc993a7"
      },
      "execution_count": 171,
      "outputs": [
        {
          "output_type": "error",
          "ename": "AttributeError",
          "evalue": "'tuple' object has no attribute 'shape'",
          "traceback": [
            "\u001b[0;31m---------------------------------------------------------------------------\u001b[0m",
            "\u001b[0;31mAttributeError\u001b[0m                            Traceback (most recent call last)",
            "\u001b[0;32m/tmp/ipython-input-171-3995484383.py\u001b[0m in \u001b[0;36m<cell line: 0>\u001b[0;34m()\u001b[0m\n\u001b[0;32m----> 1\u001b[0;31m \u001b[0my\u001b[0m\u001b[0;34m(\u001b[0m\u001b[0ma\u001b[0m\u001b[0;34m)\u001b[0m\u001b[0;34m.\u001b[0m\u001b[0mshape\u001b[0m\u001b[0;34m\u001b[0m\u001b[0;34m\u001b[0m\u001b[0m\n\u001b[0m",
            "\u001b[0;31mAttributeError\u001b[0m: 'tuple' object has no attribute 'shape'"
          ]
        }
      ]
    },
    {
      "cell_type": "code",
      "source": [
        "# hidden state (o1, o2,o3,o4 ,o5,o6)\n",
        "y(a)[0].shape"
      ],
      "metadata": {
        "colab": {
          "base_uri": "https://localhost:8080/"
        },
        "id": "Mr1WSQ-w_SWM",
        "outputId": "d1201b53-1042-4b2f-f150-c75879e0b3b2"
      },
      "execution_count": 172,
      "outputs": [
        {
          "output_type": "execute_result",
          "data": {
            "text/plain": [
              "torch.Size([6, 64])"
            ]
          },
          "metadata": {},
          "execution_count": 172
        }
      ]
    },
    {
      "cell_type": "code",
      "source": [
        "# final output ( O6)\n",
        "y(a)[1].shape"
      ],
      "metadata": {
        "colab": {
          "base_uri": "https://localhost:8080/"
        },
        "id": "16fhTnEe8VkB",
        "outputId": "0e463ed7-4a37-4c7f-9cbe-ac53464004f2"
      },
      "execution_count": 173,
      "outputs": [
        {
          "output_type": "execute_result",
          "data": {
            "text/plain": [
              "torch.Size([1, 64])"
            ]
          },
          "metadata": {},
          "execution_count": 173
        }
      ]
    },
    {
      "cell_type": "code",
      "source": [
        "b = y(a)[1]"
      ],
      "metadata": {
        "id": "bcPUJgmX_Cl6"
      },
      "execution_count": 174,
      "outputs": []
    },
    {
      "cell_type": "code",
      "source": [
        "z = nn.Linear(64,324)"
      ],
      "metadata": {
        "id": "uUQIaqwZBDcW"
      },
      "execution_count": 175,
      "outputs": []
    },
    {
      "cell_type": "code",
      "source": [
        "z(b).shape"
      ],
      "metadata": {
        "colab": {
          "base_uri": "https://localhost:8080/"
        },
        "id": "8-qfAN_zBKRT",
        "outputId": "ed11f0c2-5c58-43b5-aefe-ed92ec5a4011"
      },
      "execution_count": 176,
      "outputs": [
        {
          "output_type": "execute_result",
          "data": {
            "text/plain": [
              "torch.Size([1, 324])"
            ]
          },
          "metadata": {},
          "execution_count": 176
        }
      ]
    },
    {
      "cell_type": "code",
      "source": [
        "learning_rate = .001\n",
        "epochs = 20\n"
      ],
      "metadata": {
        "id": "vj4KJrnpBLfg"
      },
      "execution_count": 177,
      "outputs": []
    },
    {
      "cell_type": "code",
      "source": [
        "model = SimpleRNN(len(vocab))"
      ],
      "metadata": {
        "id": "Z8JKuAujCI0h"
      },
      "execution_count": 178,
      "outputs": []
    },
    {
      "cell_type": "code",
      "source": [
        "lossfunc = nn.CrossEntropyLoss()\n",
        "optimizer = torch.optim.Adam(model.parameters(), lr = learning_rate)"
      ],
      "metadata": {
        "id": "58PgPu0uCOja"
      },
      "execution_count": 179,
      "outputs": []
    },
    {
      "cell_type": "code",
      "source": [
        "for i in range(epochs):\n",
        "\n",
        "  total_loss = 0\n",
        "  for question , answer in dataloader:\n",
        "\n",
        "    optimizer.zero_grad()\n",
        "    # print(question.shape)\n",
        "\n",
        "\n",
        "    # forward\n",
        "    output = model(question)\n",
        "    answer = answer.squeeze(1)\n",
        "    # print(output.shape)\n",
        "    # print(answer.shape)\n",
        "\n",
        "\n",
        "    # loss\n",
        "    loss = lossfunc(output,answer)\n",
        "\n",
        "    # gradient\n",
        "    loss.backward()\n",
        "\n",
        "    #update\n",
        "    optimizer.step()\n",
        "\n",
        "    total_loss = total_loss + loss.item()\n",
        "\n",
        "  print(f'epoch : {i+1} , loss : {total_loss}')\n"
      ],
      "metadata": {
        "colab": {
          "base_uri": "https://localhost:8080/"
        },
        "id": "OdHqXIG9CUDK",
        "outputId": "9f4e7c87-a886-475e-a24d-524ccc857db1"
      },
      "execution_count": 185,
      "outputs": [
        {
          "output_type": "stream",
          "name": "stdout",
          "text": [
            "epoch : 1 , loss : 16.158295418485068\n",
            "epoch : 2 , loss : 16.555443167919293\n",
            "epoch : 3 , loss : 16.126966039824765\n",
            "epoch : 4 , loss : 16.452319287403952\n",
            "epoch : 5 , loss : 16.351808787789196\n",
            "epoch : 6 , loss : 16.120743272651453\n",
            "epoch : 7 , loss : 16.204440864850767\n",
            "epoch : 8 , loss : 16.172981394804083\n",
            "epoch : 9 , loss : 16.66078573456616\n",
            "epoch : 10 , loss : 16.09966766773141\n",
            "epoch : 11 , loss : 16.279978771111928\n",
            "epoch : 12 , loss : 15.894106680032564\n",
            "epoch : 13 , loss : 16.246775174862705\n",
            "epoch : 14 , loss : 16.262394380144542\n",
            "epoch : 15 , loss : 16.3943065686326\n",
            "epoch : 16 , loss : 16.442234636255307\n",
            "epoch : 17 , loss : 15.805449856678024\n",
            "epoch : 18 , loss : 16.458368347317446\n",
            "epoch : 19 , loss : 15.908575600071345\n",
            "epoch : 20 , loss : 16.411358538432978\n"
          ]
        }
      ]
    },
    {
      "cell_type": "markdown",
      "source": [
        "![image.png](data:image/png;base64,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)"
      ],
      "metadata": {
        "id": "PXLjR9S-TV56"
      }
    },
    {
      "cell_type": "code",
      "source": [
        "def predict(model, question, threshold=0.5):\n",
        "\n",
        "  # convert question to numbers\n",
        "  numerical_question = word_to_num(question, vocab)\n",
        "\n",
        "  # tensor\n",
        "  question_tensor = torch.tensor(numerical_question).unsqueeze(0)\n",
        "\n",
        "  # send to model\n",
        "  output = model(question_tensor)\n",
        "\n",
        "  # convert logits to probs\n",
        "  probs = torch.nn.functional.softmax(output, dim=1)\n",
        "\n",
        "  # find index of max prob\n",
        "  value, index = torch.max(probs, dim=1)\n",
        "\n",
        "  if value < threshold:\n",
        "    print(\"I don't know\")\n",
        "\n",
        "  print(list(vocab.keys())[index])"
      ],
      "metadata": {
        "id": "xjkNJLrPU3xb"
      },
      "execution_count": 188,
      "outputs": []
    },
    {
      "cell_type": "code",
      "source": [
        "predict(model, \"What is the largest planet in our solar system?\")"
      ],
      "metadata": {
        "colab": {
          "base_uri": "https://localhost:8080/"
        },
        "id": "WDMnyMPxXk5h",
        "outputId": "72f3e519-13ce-4406-b651-e62e6049a2a2"
      },
      "execution_count": 189,
      "outputs": [
        {
          "output_type": "stream",
          "name": "stdout",
          "text": [
            "jupiter\n"
          ]
        }
      ]
    },
    {
      "cell_type": "code",
      "source": [],
      "metadata": {
        "id": "yg4LQSUCYLwy"
      },
      "execution_count": null,
      "outputs": []
    }
  ]
}